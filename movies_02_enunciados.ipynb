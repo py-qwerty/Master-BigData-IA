{
 "cells": [
  {
   "cell_type": "markdown",
   "metadata": {
    "collapsed": true
   },
   "source": [
    "<h1 style=\"text-align:center\">\n",
    "    Movies\n",
    "</h1>\n",
    "\n",
    "<br>\n",
    "\n",
    "<font color=\"darkblue\">\n",
    "\n",
    "<h3 style=\"text-align:center\">\n",
    "    Pablo Fernández Lucas\n",
    "</h3>\n",
    "    \n",
    "<h3 style=\"text-align:center\">\n",
    "    14/11/2024\n",
    "</h3>\n",
    "\n",
    "<hr>"
   ]
  },
  {
   "cell_type": "markdown",
   "metadata": {},
   "source": [
    "# Introducción\n",
    "\n",
    "<br>\n",
    "\n",
    "En este proyecto se desarrolla en Python un análisis básico de datos sobre películas de cine de IMDB.\n",
    "El set de datos que vamos a usar inicialmente se encuentra en la siguiente página:\n",
    "\n",
    "https://www.kaggle.com/datasets/carolzhangdc/imdb-5000-movie-dataset\n",
    "\n",
    "En ella puede encontrarse información más detallada, así como una descripción precisa de cada columna.\n",
    "\n",
    "<font color=\"green\">\n",
    "Seguidamente, te toca a ti hacer una breve introducción, completando el fragmento de letra en azul y desarrollándolo a tu antojo. Suprime después este fragmento en verde.\n",
    "</font>\n",
    "\n",
    "<br>\n",
    "\n",
    "Se plantean los apartados iniciales para su resolución *sin usar la libreria pandas*. Esto se propone así para forzar a practicar con las técnicas, herramientas y conceptos básicos de Python. Más adelante, hay otros apartados propuestos para su resolución con esta librería y otras.\n",
    "\n",
    "<br>\n",
    "\n",
    "<font color=\"darkblue\">\n",
    "A partir de los datos proporcionados, he conseguido ... pero no he podido ...\n",
    "\n",
    "<br>\n",
    "\n",
    "Aunque al final de este notebook detallaré la calificación que calculo honestamente, globalmente, siguiendo las puntuaciones que se asigna a cada apartado, diría que he obtenido una nota de *** sobre 10.\n",
    "</font>\n",
    "\n",
    "<br>\n",
    "\n",
    "<font color=\"green\">\n",
    "Completa tus datos personales en la cabecera, bajo el rótulo inicial. Completa también el breve apartado anterior, con texto  azul, y pon en azul todos los comentarios tuyos, dejando en negro los míos, del enunciado. También, suprime los fragmentos en verde, como éste, que son indicaciones pero que, una vez atendidas, deben desaparecer de la solución que entregas.\n",
    "</font>"
   ]
  },
  {
   "cell_type": "markdown",
   "metadata": {},
   "source": [
    "# Datos de partida\n",
    "\n",
    "(**Nota previa:** hasta el apartado específico de dataframes, se deben desarrollar las soluciones a los ejercicios propuestos sin usar la librería `pandas`, justamente para obligar a practicar con conceptos básicos de Python.)\n",
    "\n",
    "Nuestra tabla de datos es el archivo de texto `movie_data.csv` que se encuentra en la carpeta `data_in`, y puede verse así con cualquier editor:\n",
    "\n",
    "<br>\n",
    "\n",
    "<center>\n",
    "    <img src=\"./images/texto.png\" width=\"100%\">\n",
    "</center>\n",
    "\n",
    "La primera fila es la cabecera.\n",
    "Esta fila cabecera contiene los nombres de los campos, separados por comas.\n",
    "Yo la he marcado en azul para distinguirla fácilmente de las demás filas, que contienen los datos propiamente dichos,\n",
    "esto es, los valores de dichos campos, consignando los datos de cada película en cada línea.\n",
    "\n",
    "Si abrimos esta tabla con *excell* (importar datos csv con el separador `,`), vemos cada dato en una celda.\n",
    "\n",
    "<br>\n",
    "\n",
    "<center>\n",
    "    <img src=\"./images/csv_1.png\" width=\"100%\">\n",
    "</center>\n",
    "\n",
    "<br>\n",
    "\n",
    "Mostramos la hoja excell en dos imágenes por ser muy ancha.\n",
    "\n",
    "<br>\n",
    "\n",
    "<center>\n",
    "    <img src=\"./images/csv_2.png\" width=\"100%\">\n",
    "</center>"
   ]
  },
  {
   "cell_type": "markdown",
   "metadata": {},
   "source": [
    "# Librerías y constantes globales\n",
    "\n",
    "<br>\n",
    "\n",
    "Pongamos todas las librerías necesarias al principio, tal como propone el estilo `pep-8`. Ej.:\n",
    "<a href=\"https://www.python.org/dev/peps/pep-0008/\">PEP 8 -- Style Guide for Python Code</a>.\n",
    "    \n",
    "De paso, en éste y otros lugares de Internet podrás encontrar detalles sobre estilo y presentación de código con un estilo estándar y cuidado. Examina esta página y trata de seguir esas indicaciones."
   ]
  },
  {
   "cell_type": "code",
   "execution_count": 1,
   "metadata": {},
   "outputs": [],
   "source": [
    "# Librerías:\n",
    "import csv\n",
    "from typing import Dict, Tuple, List\n",
    "from collections import defaultdict\n",
    "\n",
    "\n"
   ]
  },
  {
   "cell_type": "code",
   "execution_count": 51,
   "metadata": {},
   "outputs": [],
   "source": [
    "# Constantes globales:\n",
    "MOVIES_DATA = './data_in/movie_data.csv'\n",
    "MAIN_HEADERS =  ['movie_title', 'title_year', 'director_name', \n",
    "                'actor_1_name', 'language', 'country', \n",
    "                'color', 'budget', 'imdb_score', 'movie_imdb_link']\n",
    "FEW_FIELDS = \"algunos_campos.txt\"\n",
    "\n"
   ]
  },
  {
   "cell_type": "markdown",
   "metadata": {},
   "source": [
    "# Parte A. Ejercicios básicos sin usar `pandas` [2 puntos]"
   ]
  },
  {
   "cell_type": "markdown",
   "metadata": {},
   "source": [
    "Esta parte inicial debe realizarse sin usar la librería `pandas`. Para practicar con esta librería, se plantean otros apartados más abajo."
   ]
  },
  {
   "cell_type": "markdown",
   "metadata": {},
   "source": [
    "### A.1. Exploración inicial básica del archivo de datos"
   ]
  },
  {
   "cell_type": "markdown",
   "metadata": {},
   "source": [
    "Deseamos cargar el archivo de datos, que tiene un formato `csv`.\n",
    "En este apartado, te recomiendo fuertemente usar la librería `cvs`,\n",
    "que deberás importar en la primera celda del script, más arriba, no aquí.\n",
    "(En los siguientes apartados, ya no mencionaré qué librerías usar\n",
    "ni recordaré dónde se han de importar.)\n",
    "\n",
    "Observa también que el test de funcionamiento te da el nombre de la función que deber definir\n",
    "y algún otro identificador como es, por ejemplo, la constante `MOVIES_DATA`,\n",
    "que debes definir también más arriba, en la segunda celda de este script.\n",
    "\n",
    "Finalmente, observando el test, verás que se carga por separado la cabecera y las filas de datos."
   ]
  },
  {
   "cell_type": "code",
   "execution_count": 3,
   "metadata": {},
   "outputs": [],
   "source": [
    "import csv\n",
    "\n",
    "def load_full_data(path: str) -> Tuple[List[str], List[List[str]]]:\n",
    "    \"\"\"\n",
    "    Carga un archivo CSV y devuelve la cabecera y los datos.\n",
    "\n",
    "    Parameters:\n",
    "    path (str): La ruta del archivo CSV.\n",
    "\n",
    "    Returns:\n",
    "    Tuple[List[str], List[List[str]]]: Una tupla con la cabecera y los datos del archivo.\n",
    "    \"\"\"\n",
    "    try:\n",
    "        # Abrimos el archivo CSV con encoding 'utf-8' para asegurar compatibilidad con caracteres especiales.\n",
    "        with open(path, 'r', encoding='utf-8') as csvfile:\n",
    "            reader = list(csv.reader(csvfile))  # Leemos todo el archivo y lo convertimos a una lista.\n",
    "            full_header = reader[0]  # La primera fila contiene la cabecera.\n",
    "            full_list_data = reader[1:]  # El resto de las filas contienen los datos.\n",
    "            return full_header, full_list_data\n",
    "    except FileNotFoundError:\n",
    "        # Captura si el archivo no se encuentra.\n",
    "        print(f'Error: El archivo {path} no se encuentra.')\n",
    "        return [], []\n",
    "    except csv.Error as e:\n",
    "        # Captura errores relacionados con el formato CSV.\n",
    "        print(f'Error de CSV: {e}')\n",
    "        return [], []\n",
    "    except UnicodeDecodeError as e:\n",
    "        # Captura errores de decodificación del archivo.\n",
    "        print(f'Error de decodificación: {e}')\n",
    "        return [], []\n",
    "\n"
   ]
  },
  {
   "cell_type": "code",
   "execution_count": 4,
   "metadata": {},
   "outputs": [
    {
     "name": "stdout",
     "output_type": "stream",
     "text": [
      "['color', 'director_name', 'num_critic_for_reviews', 'duration', 'director_facebook_likes', 'actor_3_facebook_likes', 'actor_2_name', 'actor_1_facebook_likes', 'gross', 'genres', 'actor_1_name', 'movie_title', 'num_voted_users', 'cast_total_facebook_likes', 'actor_3_name', 'facenumber_in_poster', 'plot_keywords', 'movie_imdb_link', 'num_user_for_reviews', 'language', 'country', 'content_rating', 'budget', 'title_year', 'actor_2_facebook_likes', 'imdb_score', 'aspect_ratio', 'movie_facebook_likes']\n",
      "\n",
      "[['Color', 'James Cameron', '723', '178', '0', '855', 'Joel David Moore', '1000', '760505847', 'Action|Adventure|Fantasy|Sci-Fi', 'CCH Pounder', 'Avatar\\xa0', '886204', '4834', 'Wes Studi', '0', 'avatar|future|marine|native|paraplegic', 'http://www.imdb.com/title/tt0499549/?ref_=fn_tt_tt_1', '3054', 'English', 'USA', 'PG-13', '237000000', '2009', '936', '7.9', '1.78', '33000'], ['Color', 'Gore Verbinski', '302', '169', '563', '1000', 'Orlando Bloom', '40000', '309404152', 'Action|Adventure|Fantasy', 'Johnny Depp', \"Pirates of the Caribbean: At World's End\\xa0\", '471220', '48350', 'Jack Davenport', '0', 'goddess|marriage ceremony|marriage proposal|pirate|singapore', 'http://www.imdb.com/title/tt0449088/?ref_=fn_tt_tt_1', '1238', 'English', 'USA', 'PG-13', '300000000', '2007', '5000', '7.1', '2.35', '0'], ['Color', 'Sam Mendes', '602', '148', '0', '161', 'Rory Kinnear', '11000', '200074175', 'Action|Adventure|Thriller', 'Christoph Waltz', 'Spectre\\xa0', '275868', '11700', 'Stephanie Sigman', '1', 'bomb|espionage|sequel|spy|terrorist', 'http://www.imdb.com/title/tt2379713/?ref_=fn_tt_tt_1', '994', 'English', 'UK', 'PG-13', '245000000', '2015', '393', '6.8', '2.35', '85000'], ['Color', 'Christopher Nolan', '813', '164', '22000', '23000', 'Christian Bale', '27000', '448130642', 'Action|Thriller', 'Tom Hardy', 'The Dark Knight Rises\\xa0', '1144337', '106759', 'Joseph Gordon-Levitt', '0', 'deception|imprisonment|lawlessness|police officer|terrorist plot', 'http://www.imdb.com/title/tt1345836/?ref_=fn_tt_tt_1', '2701', 'English', 'USA', 'PG-13', '250000000', '2012', '23000', '8.5', '2.35', '164000'], ['', 'Doug Walker', '', '', '131', '', 'Rob Walker', '131', '', 'Documentary', 'Doug Walker', 'Star Wars: Episode VII - The Force Awakens\\xa0            ', '8', '143', '', '0', '', 'http://www.imdb.com/title/tt5289954/?ref_=fn_tt_tt_1', '', '', '', '', '', '', '12', '7.1', '', '0']]\n"
     ]
    }
   ],
   "source": [
    "# Test de funcionamiento\n",
    "\n",
    "full_header, full_list_data = load_full_data(path= MOVIES_DATA)\n",
    "\n",
    "print(full_header)\n",
    "print()\n",
    "print(full_list_data[0:5])"
   ]
  },
  {
   "cell_type": "markdown",
   "metadata": {},
   "source": [
    "Ahora, querríamos ver las posiciones de los identificadores de los campos, dados en la línea cabecera."
   ]
  },
  {
   "cell_type": "code",
   "execution_count": 5,
   "metadata": {},
   "outputs": [],
   "source": [
    "# Esta celda debe ser completada por el estudiante\n",
    "\n",
    "# Creamos una nueva lista enumerando los atributos de la cabecera previamente definida.\n",
    "list_of_enumerated_headers = [(index, variable) for index, variable in enumerate(full_header)]\n",
    "\n"
   ]
  },
  {
   "cell_type": "code",
   "execution_count": 6,
   "metadata": {},
   "outputs": [
    {
     "name": "stdout",
     "output_type": "stream",
     "text": [
      "[(0, 'color'), (1, 'director_name'), (2, 'num_critic_for_reviews'), (3, 'duration'), (4, 'director_facebook_likes'), (5, 'actor_3_facebook_likes'), (6, 'actor_2_name'), (7, 'actor_1_facebook_likes'), (8, 'gross'), (9, 'genres'), (10, 'actor_1_name'), (11, 'movie_title'), (12, 'num_voted_users'), (13, 'cast_total_facebook_likes'), (14, 'actor_3_name'), (15, 'facenumber_in_poster'), (16, 'plot_keywords'), (17, 'movie_imdb_link'), (18, 'num_user_for_reviews'), (19, 'language'), (20, 'country'), (21, 'content_rating'), (22, 'budget'), (23, 'title_year'), (24, 'actor_2_facebook_likes'), (25, 'imdb_score'), (26, 'aspect_ratio'), (27, 'movie_facebook_likes')]\n"
     ]
    }
   ],
   "source": [
    "# Test de funcionamiento\n",
    "\n",
    "print(list_of_enumerated_headers)"
   ]
  },
  {
   "cell_type": "markdown",
   "metadata": {},
   "source": [
    "### A.2. Campos principales de una película\n",
    "\n",
    "Los campos (columnas) del archivo son demasiados. No nos interesan todos ellos. Dada una lista con todos los campos, se pide extraer otra lista sólo con los campos con los que vamos a trabajar en los siguientes apartados: `movie_title`, `title_year`, `director_name`, `actor_1_name`, `language`, `country`, `color`, `budget`, `imdb_score` y `movie_imdb_link`."
   ]
  },
  {
   "cell_type": "code",
   "execution_count": 7,
   "metadata": {},
   "outputs": [],
   "source": [
    "\n",
    "# Calculamos las posiciones de los atributos asociados a la constante MAIN_HEADERS.\n",
    "main_headers_index = [\n",
    "    item[0] for item in list_of_enumerated_headers if item[1] in MAIN_HEADERS\n",
    "]\n",
    "\n",
    "# Función que extrae los datos principales de una fila según los índices en main_headers_index.\n",
    "def main_data_from_item(row: list) -> list:\n",
    "    \"\"\"\n",
    "    Extrae los datos principales de una fila basada en los índices de los atributos seleccionados.\n",
    "\n",
    "    Parameters:\n",
    "    row (list): Lista con los valores de una fila.\n",
    "\n",
    "    Returns:\n",
    "    list: Lista de los valores seleccionados según los índices en main_headers_index.\n",
    "    \"\"\"\n",
    "    return [item for index, item in enumerate(row) if index in main_headers_index]\n",
    "\n"
   ]
  },
  {
   "cell_type": "code",
   "execution_count": 8,
   "metadata": {},
   "outputs": [
    {
     "name": "stdout",
     "output_type": "stream",
     "text": [
      "['color', 'director_name', 'actor_1_name', 'movie_title', 'movie_imdb_link', 'language', 'country', 'budget', 'title_year', 'imdb_score']\n",
      "\n",
      "['Color', 'James Cameron', 'CCH Pounder', 'Avatar\\xa0', 'http://www.imdb.com/title/tt0499549/?ref_=fn_tt_tt_1', 'English', 'USA', '237000000', '2009', '7.9']\n",
      "\n",
      "['', 'Doug Walker', 'Doug Walker', 'Star Wars: Episode VII - The Force Awakens\\xa0            ', 'http://www.imdb.com/title/tt5289954/?ref_=fn_tt_tt_1', '', '', '', '', '7.1']\n"
     ]
    }
   ],
   "source": [
    "# Test de funcionamiento\n",
    "\n",
    "print(main_data_from_item(full_header))\n",
    "\n",
    "print()\n",
    "\n",
    "datos_avatar_2009 = main_data_from_item(full_list_data[0])\n",
    "print(datos_avatar_2009)\n",
    "\n",
    "print()\n",
    "\n",
    "datos_star_wars_7 = main_data_from_item(full_list_data[4])\n",
    "print(datos_star_wars_7)"
   ]
  },
  {
   "cell_type": "markdown",
   "metadata": {},
   "source": [
    "### A.3. Algunos ajustes en los campos"
   ]
  },
  {
   "cell_type": "markdown",
   "metadata": {},
   "source": [
    "Observa la anomalía en el string del título de la película. También, queremos tratar algunos campos como numéricos, ya sea enteros (el año y el presupuesto) o reales (la valoración). (Algunos campos numéricos enteros están vacíos en el archivo de datos; para ellos, el valor imputado será `-1`.) Además, en las urls de las películas no necesitaremos el fragmento final, iniciado con `?ref_`."
   ]
  },
  {
   "cell_type": "code",
   "execution_count": 9,
   "metadata": {},
   "outputs": [],
   "source": [
    "# Esta celda debe ser completada por el estudiante\n",
    "\n",
    "# setType, dado un número en cadena, lo convierte a entero o flotante según corresponda.\n",
    "def setType(item: str):\n",
    "    \"\"\"\n",
    "    Convierte un número en cadena a su tipo adecuado (int o float). Si no es un número, lo devuelve tal cual.\n",
    "    \n",
    "    Parameters:\n",
    "    item (str): El valor en forma de cadena.\n",
    "\n",
    "    Returns:\n",
    "    int, float o str: El valor convertido a entero, flotante o se devuelve sin cambios.\n",
    "    \"\"\"\n",
    "    try:\n",
    "        return int(item)\n",
    "    except ValueError:\n",
    "        try:\n",
    "            return float(item)\n",
    "        except ValueError:\n",
    "            return item\n",
    "\n",
    "# datatypes_arranged, limpia los datos de una fila y ajusta sus tipos.\n",
    "def datatypes_arranged(row: list) -> list:\n",
    "    \"\"\"\n",
    "    Limpia y convierte los tipos de datos en una fila. Reemplaza los valores vacíos por -1, \n",
    "    elimina las partes que siguen a '?ref_' o '\\xa0', y convierte los datos a su tipo correcto.\n",
    "    \n",
    "    Parameters:\n",
    "    row (list): Lista de valores de una fila.\n",
    "\n",
    "    Returns:\n",
    "    list: Lista con los valores limpios y ajustados a sus tipos.\n",
    "    \"\"\"\n",
    "    new_row = [\n",
    "        -1 if item == '' else setType(item.split('?ref_')[0].split('\\xa0')[0]) \n",
    "        for item in row\n",
    "    ]\n",
    "    return new_row\n",
    "\n",
    "\n"
   ]
  },
  {
   "cell_type": "code",
   "execution_count": 10,
   "metadata": {
    "scrolled": true
   },
   "outputs": [
    {
     "name": "stdout",
     "output_type": "stream",
     "text": [
      "['Color', 'James Cameron', 'CCH Pounder', 'Avatar', 'http://www.imdb.com/title/tt0499549/', 'English', 'USA', 237000000, 2009, 7.9]\n",
      "[-1, 'Doug Walker', 'Doug Walker', 'Star Wars: Episode VII - The Force Awakens', 'http://www.imdb.com/title/tt5289954/', -1, -1, -1, -1, 7.1]\n"
     ]
    }
   ],
   "source": [
    "# Test de funcionamiento\n",
    "\n",
    "print(datatypes_arranged(datos_avatar_2009))\n",
    "\n",
    "print(datatypes_arranged(datos_star_wars_7))\n"
   ]
  },
  {
   "cell_type": "markdown",
   "metadata": {},
   "source": [
    "### A.4. Recuperación de alguna información básica\n",
    "\n",
    "<br>\n",
    "\n",
    "Diseña funciones para recuperar la siguiente información:\n",
    "\n",
    "<itemize>\n",
    "    <li> El conjunto de valores posibles del campo `Color`.\n",
    "    <li> Los títulos de película de nuestro archivo (limpios de caracteres extraños),\n",
    "        junto con la cantidad de calificadores (un entero), que contengan la subcadena \"Victor\".\n",
    "</itemize>"
   ]
  },
  {
   "cell_type": "code",
   "execution_count": 11,
   "metadata": {},
   "outputs": [
    {
     "data": {
      "text/plain": [
       "11"
      ]
     },
     "execution_count": 11,
     "metadata": {},
     "output_type": "execute_result"
    }
   ],
   "source": [
    "full_header.index('movie_title')"
   ]
  },
  {
   "cell_type": "code",
   "execution_count": 12,
   "metadata": {},
   "outputs": [],
   "source": [
    "# Esta celda debe ser completada por el estudiante\n",
    "\n",
    "# Índices de los atributos 'movie_title' y 'num_critic_for_reviews'\n",
    "title_index = full_header.index('movie_title')\n",
    "calification_index = full_header.index('num_critic_for_reviews')\n",
    "\n",
    "# Agrupamos los valores únicos de la primera columna usando set\n",
    "def group_by_colors() -> List[str]:\n",
    "    \"\"\"\n",
    "    Agrupa y devuelve una lista de valores únicos de la primera columna de los datos.\n",
    "    \"\"\"\n",
    "    return list(set(item[0] for item in full_list_data))\n",
    "\n",
    "# Seleccionamos las películas con 'Victor' en el título y redondeamos su calificación\n",
    "def victor_films_colors() -> List[Tuple[str, int]]:\n",
    "    \"\"\"\n",
    "    Filtra las películas que contienen 'Victor' en el título y redondea su calificación.\n",
    "    \n",
    "    Returns:\n",
    "    List[Tuple[str, int]]: Lista de tuplas con título de película y calificación redondeada.\n",
    "    \"\"\"\n",
    "    return [\n",
    "        (item[title_index].split('\\xa0')[0], round(float(item[calification_index])))\n",
    "        for item in full_list_data if 'Victor' in item[title_index]\n",
    "    ]\n",
    "\n",
    "# Listas resultantes\n",
    "colores = group_by_colors()\n",
    "pelis_victor = victor_films_colors()\n",
    "\n"
   ]
  },
  {
   "cell_type": "code",
   "execution_count": 13,
   "metadata": {},
   "outputs": [
    {
     "name": "stdout",
     "output_type": "stream",
     "text": [
      "['', ' Black and White', 'Color']\n",
      "[('Victor Frankenstein', 159), ('Victor Frankenstein', 159), ('The Young Victoria', 188), ('Victor Frankenstein', 159), ('Raising Victor Vargas', 59)]\n"
     ]
    }
   ],
   "source": [
    "# Test de funcionamiento\n",
    "\n",
    "print(colores)\n",
    "print(pelis_victor)"
   ]
  },
  {
   "cell_type": "markdown",
   "metadata": {},
   "source": [
    "# B Datos en un diccionario [2 puntos]\n",
    "\n",
    "### B.1. Carga únicamente de datos que vamos a usar\n",
    "\n",
    "En lugar de cargar *todos* los datos del archivo, luego generar otro archivo con los datos que nos interesan y luego ajustarlos, es mejor diseñar una función que recorre el archivo de datos y, de cada línea del archivo, *únicamente* retiene la parte que nos interesa, cargando la cabecera por un lado y, por otro, la lista de datos de interés, ajustados como ya hemos dicho.\n",
    "\n",
    "Cargaremos esta información en un diccionario, cuyas claves serán pares `(título, año)` y cuyos valores se recogen en una lista con el resto de los campos.\n",
    "\n",
    "Además, los datos de cada película tras la clave `(título, año)` están repetidas en el archivo de datos, con todos los datos idénticos; y lo que es peor: alguna que está repetida, pero con algún dato distinto. En ambos casos, para simplificar, adoptamos el criterio de registrar únicamente la primera aparición de los datos de una misma película y año."
   ]
  },
  {
   "cell_type": "code",
   "execution_count": 60,
   "metadata": {},
   "outputs": [],
   "source": [
    "# Esta celda debe ser completada por el estudiante\n",
    "\n",
    "\n",
    "def load_main_data(path: str) -> Tuple[List[str], Dict[Tuple[str, int], List]]:\n",
    "    \"\"\"\n",
    "    Carga los datos principales de un archivo CSV, estructurándolos en un diccionario.\n",
    "\n",
    "    Parameters:\n",
    "    path (str): Ruta del archivo CSV.\n",
    "\n",
    "    Returns:\n",
    "    Tuple[List[str], Dict[Tuple[str, int], List]]:\n",
    "        - Una lista con los atributos principales (header).\n",
    "        - Un diccionario con las películas, donde las claves son tuplas (título, año) y los valores son listas\n",
    "          con los atributos relevantes.\n",
    "    \"\"\"\n",
    "    try:\n",
    "        with open(path, mode='r', encoding='utf-8') as file:\n",
    "            # Leemos todo el archivo y lo convertimos en una lista\n",
    "            file_list = list(csv.reader(file))\n",
    "            \n",
    "            # Seleccionamos solo los atributos principales del header\n",
    "            header = main_data_from_item(file_list[0])\n",
    "            title_index = header.index('movie_title')\n",
    "            year_index = header.index('title_year')\n",
    "            \n",
    "            # Diccionario para almacenar los datos de las películas\n",
    "            film_dic = {}\n",
    "            \n",
    "            # Recorremos todas las filas, excluyendo la cabecera\n",
    "            for row in file_list[1:]:\n",
    "                # Limpiamos y seleccionamos solo los datos relevantes de la fila\n",
    "                row_clean = datatypes_arranged(main_data_from_item(row))\n",
    "                key = (row_clean[title_index], row_clean[year_index])\n",
    "                \n",
    "                # Añadimos al diccionario solo si no existe la clave\n",
    "                if key not in film_dic:\n",
    "                    value = [item for index, item in enumerate(row_clean) \n",
    "                            if index not in {title_index, year_index}]\n",
    "                    film_dic[key] = value\n",
    "            \n",
    "            return header, film_dic\n",
    "    except FileNotFoundError:\n",
    "        # Captura si el archivo no se encuentra.\n",
    "        print(f'Error: El archivo {path} no se encuentra.')\n",
    "        return [], []\n",
    "    except csv.Error as e:\n",
    "        # Captura errores relacionados con el formato CSV.\n",
    "        print(f'Error de CSV: {e}')\n",
    "        return [], []\n",
    "    except UnicodeDecodeError as e:\n",
    "        # Captura errores de decodificación del archivo.\n",
    "        print(f'Error de decodificación: {e}')\n",
    "        return [], []\n"
   ]
  },
  {
   "cell_type": "code",
   "execution_count": 54,
   "metadata": {},
   "outputs": [
    {
     "name": "stdout",
     "output_type": "stream",
     "text": [
      "['color', 'director_name', 'actor_1_name', 'movie_title', 'movie_imdb_link', 'language', 'country', 'budget', 'title_year', 'imdb_score']\n",
      "\n",
      "('Avatar', 2009)  ->  ['Color', 'James Cameron', 'CCH Pounder', 'http://www.imdb.com/title/tt0499549/', 'English', 'USA', 237000000, 7.9]\n",
      "(\"Pirates of the Caribbean: At World's End\", 2007)  ->  ['Color', 'Gore Verbinski', 'Johnny Depp', 'http://www.imdb.com/title/tt0449088/', 'English', 'USA', 300000000, 7.1]\n",
      "('Spectre', 2015)  ->  ['Color', 'Sam Mendes', 'Christoph Waltz', 'http://www.imdb.com/title/tt2379713/', 'English', 'UK', 245000000, 6.8]\n",
      "('The Dark Knight Rises', 2012)  ->  ['Color', 'Christopher Nolan', 'Tom Hardy', 'http://www.imdb.com/title/tt1345836/', 'English', 'USA', 250000000, 8.5]\n",
      "('Star Wars: Episode VII - The Force Awakens', -1)  ->  [-1, 'Doug Walker', 'Doug Walker', 'http://www.imdb.com/title/tt5289954/', -1, -1, -1, 7.1]\n"
     ]
    }
   ],
   "source": [
    "# Test de funcionamiento\n",
    "\n",
    "main_header, main_dict_data = load_main_data(MOVIES_DATA)\n",
    "\n",
    "print(main_header)\n",
    "print()\n",
    "for title_year, pieces in list(main_dict_data.items())[:5]:\n",
    "    print(title_year, \" -> \", pieces)"
   ]
  },
  {
   "cell_type": "markdown",
   "metadata": {},
   "source": [
    "Y ahora podemos suprimir la variable `full_list_data`"
   ]
  },
  {
   "cell_type": "code",
   "execution_count": 16,
   "metadata": {},
   "outputs": [],
   "source": [
    "# Esta celda debe ser completada por el estudiante\n",
    "del full_list_data\n"
   ]
  },
  {
   "cell_type": "code",
   "execution_count": 17,
   "metadata": {},
   "outputs": [
    {
     "name": "stdout",
     "output_type": "stream",
     "text": [
      "La variable full_list_data está suprimida correctamente\n"
     ]
    }
   ],
   "source": [
    "# Test de funcionamiento\n",
    "\n",
    "try:\n",
    "    print(full_list_data)\n",
    "except:\n",
    "    print('La variable full_list_data está suprimida correctamente')"
   ]
  },
  {
   "cell_type": "markdown",
   "metadata": {},
   "source": [
    "### B.2. Recuperación de alguna información \n",
    "\n",
    "Diseña funciones para averiguar la siguiente información:\n",
    "\n",
    "- ¿Qué títulos de películas han sido dirigidas por \"James Cameron\" (o por el director que se desee)?"
   ]
  },
  {
   "cell_type": "code",
   "execution_count": 67,
   "metadata": {},
   "outputs": [
    {
     "data": {
      "text/plain": [
       "4"
      ]
     },
     "execution_count": 67,
     "metadata": {},
     "output_type": "execute_result"
    }
   ],
   "source": [
    "# Indices de cada columna (este código si se ejecuta más de una vez emitirá un error de tipo ValueError)\n",
    "\n",
    "main_header_without_name_and_year, _ = load_main_data(MOVIES_DATA)\n",
    "# Como tanto el titulo como el año de la película no aparecen en el la lista (valor) del diccionario, \n",
    "# entonces los borramos\n",
    "main_header_without_name_and_year.remove('movie_title')\n",
    "main_header_without_name_and_year.remove('title_year')\n",
    "\n",
    "# Creamos una variable para cada indice de cada columna existente\n",
    "color_index = main_header_without_name_and_year.index('color')\n",
    "director_name_index = main_header_without_name_and_year.index('director_name')\n",
    "actor_1_name_index = main_header_without_name_and_year.index('actor_1_name')\n",
    "movie_imdb_link_index = main_header_without_name_and_year.index('movie_imdb_link')\n",
    "language_index = main_header_without_name_and_year.index('language')\n",
    "country_index = main_header_without_name_and_year.index('country')\n",
    "budget_index = main_header_without_name_and_year.index('budget')\n",
    "imdb_score_index = main_header_without_name_and_year.index('imdb_score')\n",
    "\n"
   ]
  },
  {
   "cell_type": "code",
   "execution_count": 18,
   "metadata": {},
   "outputs": [],
   "source": [
    "# Esta celda debe ser completada por el estudiante\n",
    "\n",
    "def movies_anno_for_director(\n",
    "    data: Dict[Tuple[str, int], List[str]], \n",
    "    director_name: str\n",
    ") -> List[Tuple[str, int]]:\n",
    "    \"\"\"\n",
    "    Filtra las películas por el nombre del director.\n",
    "\n",
    "    Parameters:\n",
    "    data (Dict[Tuple[str, int], List[str]]): Diccionario con información de películas.\n",
    "    director_name (str): Nombre del director a filtrar.\n",
    "\n",
    "    Returns:\n",
    "    List[Tuple[str, int]]: Lista de tuplas con título y año de las películas del director.\n",
    "    \"\"\"\n",
    "    # Filtramos por el director, comparando su nombre en cada entrada de los datos\n",
    "    return [(title, year) for (title, year) in data if data[(title, year)][director_name_index] == director_name]\n"
   ]
  },
  {
   "cell_type": "code",
   "execution_count": 19,
   "metadata": {},
   "outputs": [
    {
     "data": {
      "text/plain": [
       "[('Avatar', 2009),\n",
       " ('Titanic', 1997),\n",
       " ('Terminator 2: Judgment Day', 1991),\n",
       " ('True Lies', 1994),\n",
       " ('The Abyss', 1989),\n",
       " ('Aliens', 1986),\n",
       " ('The Terminator', 1984)]"
      ]
     },
     "execution_count": 19,
     "metadata": {},
     "output_type": "execute_result"
    }
   ],
   "source": [
    "# Test de funcionamiento\n",
    "    \n",
    "movies_anno_for_director(main_dict_data, \"James Cameron\")"
   ]
  },
  {
   "cell_type": "markdown",
   "metadata": {},
   "source": [
    "- ¿Qué directores han dirigido el número máximo de películas?"
   ]
  },
  {
   "cell_type": "code",
   "execution_count": 20,
   "metadata": {},
   "outputs": [
    {
     "data": {
      "text/plain": [
       "[['Steven Spielberg'], 26]"
      ]
     },
     "execution_count": 20,
     "metadata": {},
     "output_type": "execute_result"
    }
   ],
   "source": [
    "# Esta celda debe ser completada por el estudiante\n",
    "def directors_max_movies(\n",
    "    data: Dict[Tuple[str, int], List]\n",
    ") -> List:\n",
    "    \"\"\"\n",
    "    Función para encontrar los directores con el mayor número de películas.\n",
    "\n",
    "    Parameters:\n",
    "    data (Dict[Tuple[str, int], List]): Diccionario con información de películas.\n",
    "\n",
    "    Returns:\n",
    "    List: Lista con los directores que tienen el máximo número de películas y el número de películas.\n",
    "    \"\"\"\n",
    "    # Diccionario para contar las películas por director\n",
    "    director_count = {}\n",
    "    \n",
    "    # Recorremos cada entrada en el diccionario de datos\n",
    "    for item in data:\n",
    "        movie_data = data[item]\n",
    "        # Obtenemos el nombre del director\n",
    "        director = movie_data[director_name_index]\n",
    "        \n",
    "        # Si el director es válido (no -1), contamos sus películas\n",
    "        if director != -1:\n",
    "            num_of_films = len(movies_anno_for_director(director_name=director, data=data))\n",
    "            director_count[director] = num_of_films\n",
    "\n",
    "    # Ordenamos el diccionario por el número de películas, en orden descendente\n",
    "    director_count = sorted(director_count.items(), key=lambda item: item[1], reverse=True)\n",
    "\n",
    "    # Obtenemos los directores con el número máximo de películas\n",
    "    max_films = director_count[0][1]\n",
    "    directors_max_count = [name for name, num_films in director_count if num_films == max_films]\n",
    "    \n",
    "    # Devolvemos la lista de directores con el número máximo de películas y el número de películas\n",
    "    return [directors_max_count, max_films]\n",
    "\n",
    "directors_max_movies(main_dict_data)\n"
   ]
  },
  {
   "cell_type": "code",
   "execution_count": 21,
   "metadata": {},
   "outputs": [
    {
     "name": "stdout",
     "output_type": "stream",
     "text": [
      "[['Steven Spielberg'], 26]\n"
     ]
    }
   ],
   "source": [
    "# Test de funcionamiento\n",
    "    \n",
    "print(directors_max_movies(data = main_dict_data))"
   ]
  },
  {
   "cell_type": "markdown",
   "metadata": {},
   "source": [
    "- Para cada año de un intervalo dado de años, ¿cuántas películas se han realizado? Esta información debe recuperrase en un diccionario convencional (no por defecto), y luego debe mostrarse en una lista con los años en orden ascendente.."
   ]
  },
  {
   "cell_type": "code",
   "execution_count": 31,
   "metadata": {},
   "outputs": [
    {
     "data": {
      "text/plain": [
       "{2001: 183,\n",
       " 2002: 204,\n",
       " 2003: 169,\n",
       " 2004: 207,\n",
       " 2005: 216,\n",
       " 2006: 235,\n",
       " 2007: 198,\n",
       " 2008: 223}"
      ]
     },
     "execution_count": 31,
     "metadata": {},
     "output_type": "execute_result"
    }
   ],
   "source": [
    "\n",
    "def movies_done_by_year(\n",
    "        data: Dict[Tuple[str, int], List],\n",
    "        year: int \n",
    "        ) -> int:\n",
    "    \n",
    "    ''' Función que devuelve el número de películas realizadas en un año específico.\n",
    "        \n",
    "        Parameters:     \n",
    "        data (Dict[Tuple[str, int], List]): Diccionario con información de películas.\n",
    "        year (int): Año a filtrar.\n",
    "\n",
    "        Returns:\n",
    "        int: Número de películas realizadas en el año especificado.    \n",
    "    '''\n",
    "    return sum(1 for item in data if item[1] == year)\n",
    "\n",
    "from typing import Dict, Tuple, List\n",
    "\n",
    "def years_num_movies(\n",
    "    data: Dict[Tuple[str, int], List],\n",
    "    bottom_year: int,\n",
    "    top_year: int\n",
    ") -> Dict[int, int]:\n",
    "    \"\"\"\n",
    "    Genera un diccionario con el número de películas producidas en cada año dentro de un rango específico.\n",
    "    \n",
    "    Parámetros:\n",
    "        data (Dict[Tuple[str, int], List]): Diccionario con información de películas.\n",
    "        bottom_year (int): Año inicial del rango.\n",
    "        top_year (int): Año final del rango.\n",
    "    \n",
    "    Retorna:\n",
    "        Dict[int, int]: Un diccionario donde cada clave es un año dentro del rango especificado\n",
    "                        y cada valor es la cantidad de películas producidas en ese año.\n",
    "    \"\"\"\n",
    "    \n",
    "    # Crea una comprensión de diccionario que itera sobre cada año en el rango especificado.\n",
    "    # Para cada año, llama a `movies_done_by_year` para contar el número de películas en `data`.\n",
    "    return {\n",
    "        year: movies_done_by_year(data, year)\n",
    "        for year in range(bottom_year, top_year + 1)\n",
    "    }\n",
    "\n",
    "years_num_movies(main_dict_data, 2001, 2008)\n",
    "    "
   ]
  },
  {
   "cell_type": "code",
   "execution_count": 32,
   "metadata": {},
   "outputs": [
    {
     "name": "stdout",
     "output_type": "stream",
     "text": [
      "{2000: 169, 2001: 183, 2002: 204, 2003: 169, 2004: 207, 2005: 216, 2006: 235, 2007: 198, 2008: 223, 2009: 253, 2010: 225, 2011: 224, 2012: 214, 2013: 231, 2014: 243, 2015: 211}\n"
     ]
    }
   ],
   "source": [
    "# Test de funcionamiento\n",
    "    \n",
    "num_movies = years_num_movies(main_dict_data, 2000, 2015)\n",
    "\n",
    "print(num_movies)"
   ]
  },
  {
   "cell_type": "code",
   "execution_count": 50,
   "metadata": {},
   "outputs": [
    {
     "data": {
      "text/plain": [
       "{2000: 169,\n",
       " 2001: 183,\n",
       " 2002: 204,\n",
       " 2003: 169,\n",
       " 2004: 207,\n",
       " 2005: 216,\n",
       " 2006: 235,\n",
       " 2007: 198,\n",
       " 2008: 223,\n",
       " 2009: 253,\n",
       " 2010: 225,\n",
       " 2011: 224,\n",
       " 2012: 214,\n",
       " 2013: 231,\n",
       " 2014: 243,\n",
       " 2015: 211}"
      ]
     },
     "execution_count": 50,
     "metadata": {},
     "output_type": "execute_result"
    }
   ],
   "source": [
    "# Esta celda debe ser completada por el estudiante\n",
    "\n",
    "num_movies_sorted = dict(sorted(num_movies.items()))"
   ]
  },
  {
   "cell_type": "code",
   "execution_count": 24,
   "metadata": {},
   "outputs": [
    {
     "name": "stdout",
     "output_type": "stream",
     "text": [
      "[(2000, 169), (2001, 183), (2002, 204), (2003, 169), (2004, 207), (2005, 216), (2006, 235), (2007, 198), (2008, 223), (2009, 253), (2010, 225), (2011, 224), (2012, 214), (2013, 231), (2014, 243), (2015, 211)]\n"
     ]
    }
   ],
   "source": [
    "# Test de funcionamiento\n",
    "    \n",
    "print(num_movies_sorted)"
   ]
  },
  {
   "cell_type": "markdown",
   "metadata": {},
   "source": [
    "- Diseña también una operación que, partiendo de nuestro diccionario de los datos principales, almacene en un archivo los datos siguientes de cada película, sin la cabecera: el título, el idioma, el año, el país y el presupuesto. El separador será en este caso el carácter `|`. El archivo usado para el almacenamiento es el siguiente:\n",
    "\n",
    "    ``` python\n",
    "    FEW_FIELDS = \"algunos_campos.txt\"\n",
    "    ```"
   ]
  },
  {
   "cell_type": "code",
   "execution_count": 71,
   "metadata": {},
   "outputs": [],
   "source": [
    "# Esta celda debe ser completada por el estudiante\n",
    "\n",
    "MAIN_HEADERS =  ['movie_title', 'title_year', 'director_name', \n",
    "                'actor_1_name', 'language', 'country', \n",
    "                'color', 'budget', 'imdb_score', 'movie_imdb_link']\n",
    "\n",
    "def store_file(data: Dict[Tuple[str, int], List], path:str):\n",
    "    \"\"\"\n",
    "    Guarda en un archivo los campos específicos de cada película en el diccionario.\n",
    "\n",
    "    Parámetros:\n",
    "        data (Dict[Tuple[str, int], List]): Diccionario con información de películas.\n",
    "\n",
    "    \"\"\"\n",
    "    with open(path, \"w\", encoding=\"utf-8\") as archivo:\n",
    "\n",
    "        for item in data:\n",
    "            value = data[item]\n",
    "            # Extraemos los campos deseados de cada película\n",
    "            titulo = item[0]\n",
    "            idioma = value[language_index]\n",
    "            año = item[1]\n",
    "            pais = value[country_index]\n",
    "            presupuesto = value[budget_index]\n",
    "\n",
    "            # Creamos una línea con los campos separados por \"|\"\n",
    "            linea = f\"{titulo}|{idioma}|{año}|{pais}|{presupuesto}\\n\"\n",
    "            \n",
    "            # Escribimos la línea en el archivo\n",
    "            archivo.write(linea)\n",
    "\n"
   ]
  },
  {
   "cell_type": "code",
   "execution_count": 72,
   "metadata": {},
   "outputs": [
    {
     "name": "stdout",
     "output_type": "stream",
     "text": [
      " Volume in drive D is Nuevo vol\n",
      " Volume Serial Number is 66CE-20A0\n",
      "\n",
      " Directory of d:\\Master\\Primer_Cuatri\\Python_Model\\python_project\n",
      "\n",
      "10/27/2024  09:48 AM           210,889 algunos_campos.txt\n",
      "               1 File(s)        210,889 bytes\n",
      "               0 Dir(s)  517,672,251,392 bytes free\n",
      "\n",
      "Avatar|English|2009|USA|237000000\n",
      "\n",
      "Pirates of the Caribbean: At World's End|English|2007|USA|300000000\n",
      "\n",
      "Spectre|English|2015|UK|245000000\n",
      "\n",
      "The Dark Knight Rises|English|2012|USA|250000000\n",
      "\n",
      "Star Wars: Episode VII - The Force Awakens|-1|-1|-1|-1\n",
      "\n"
     ]
    }
   ],
   "source": [
    "# Test de funciomaniemto\n",
    "\n",
    "store_file(main_dict_data, FEW_FIELDS)\n",
    "\n",
    "! dir algunos*.*\n",
    "\n",
    "print()\n",
    "\n",
    "with open(FEW_FIELDS) as f:\n",
    "    for i in range(5):\n",
    "        print(f.readline())"
   ]
  },
  {
   "cell_type": "markdown",
   "metadata": {},
   "source": [
    "### B.3. Un conteo sencillo con `defaultdict`\n",
    "\n",
    "Deseamos saber con qué directores y número de veces ha actuado cada actor como actor principal. Se pide realizar este conteo en un `defaultdict` cuyas claves serán nombres de los actores y cuyos valores tendrán la estructura de un `defaultdict`, cuyas claves serán los nombres de los directores y cuyos valores serán los núneros contabilizados."
   ]
  },
  {
   "cell_type": "code",
   "execution_count": 82,
   "metadata": {},
   "outputs": [],
   "source": [
    "def actor_directors(data: Dict[Tuple[str, int], List]) -> Dict[str, Dict[str, int]]:\n",
    "    \"\"\"\n",
    "    Crea un diccionario que muestra cuántas veces cada actor ha trabajado con cada director.\n",
    "    \n",
    "    Parámetros:\n",
    "        data (Dict[Tuple[str, int], List]): Diccionario con los datos principales de las películas.\n",
    "    \n",
    "    Retorna:\n",
    "        Dict[str, Dict[str, int]]: Un defaultdict donde cada clave es un actor,\n",
    "                                   y cada valor es otro defaultdict con directores y su conteo de colaboraciones.\n",
    "    \"\"\"\n",
    "    # Inicializamos un defaultdict para almacenar el conteo de colaboraciones entre actores y directores\n",
    "    collaborations = defaultdict(lambda: defaultdict(int))\n",
    "    \n",
    "    # Iteramos sobre cada película en los datos\n",
    "    for details in data.values():\n",
    "        # Extraemos el nombre del actor principal y el director\n",
    "        actor = details[actor_1_name_index]\n",
    "        director = details[director_name_index]\n",
    "        \n",
    "        # Incrementamos la cuenta de colaboraciones entre el actor y el director\n",
    "        collaborations[actor][director] += 1\n",
    "    \n",
    "    return collaborations\n",
    "\n"
   ]
  },
  {
   "cell_type": "code",
   "execution_count": 81,
   "metadata": {},
   "outputs": [
    {
     "name": "stdout",
     "output_type": "stream",
     "text": [
      "<class 'collections.defaultdict'>\n",
      "<class 'str'> <class 'collections.defaultdict'>\n",
      "<class 'str'> <class 'int'>\n",
      "\n",
      "defaultdict(<function actor_directors.<locals>.<lambda> at 0x0000021D33F63EC0>, {'CCH Pounder': defaultdict(<class 'int'>, {'James Cameron': 1, 'Peter Hyams': 1, 'Fred Dekker': 1, 'Ernest R. Dickerson': 1}), 'Johnny Depp': defaultdict(<class 'int'>, {'Gore Verbinski': 5, 'Rob Marshall': 2, 'Tim Burton': 6, 'James Bobin': 1, 'Michael Mann': 1, 'Florian Henckel von Donnersmarck': 1, 'Wally Pfister': 1, 'David Koepp': 2, 'Scott Cooper': 1, 'Albert Hughes': 1, 'Roman Polanski': 1, 'Wes Craven': 1, 'Mike Newell': 1, 'Rand Ravich': 1, 'Ted Demme': 1, 'Robert Rodriguez': 1, 'Marc Forster': 1, 'Jeremy Leven': 1, 'Laurence Dunmore': 1, 'Terry Gilliam': 1, 'Lasse Hallström': 1, 'Oliver Stone': 1, 'Rachel Talalay': 1, 'Kevin Smith': 2}), 'Christoph Waltz': defaultdict(<class 'int'>, {'Sam Mendes': 1, 'David Yates': 1, 'Michel Gondry': 1, 'Tim Burton': 1}), 'Tom Hardy': defaultdict(<class 'int'>, {'Christopher Nolan': 1, 'George Miller': 1, 'McG': 1, 'Stuart Baird': 1, 'Daniel Espinosa': 1, 'Brian Helgeland': 1, \"Gavin O'Connor\": 1, 'Guy Ritchie': 1, -1: 1, 'Matthew Vaughn': 1, 'Nicolas Winding Refn': 1}), 'Doug Walker': defaultdict(<class 'int'>, {'Doug Walker': 1}), 'Daryl Sabara': defaultdict(<class 'int'>, {'Andrew Stanton': 1, 'Eli Roth': 1}), 'J.K. Simmons': defaultdict(<class 'int'>, {'Sam Raimi': 4, 'Alan Taylor': 1, 'Alessandro Carloni': 1, 'Tom McGrath': 1, 'Joe Johnston': 1, 'Michael Caton-Jones': 1, 'John Hamburg': 1, 'Gore Verbinski': 1, 'Joan Chen': 1, 'Michael Apted': 1, 'Ethan Coen': 2, 'Jason Reitman': 4, 'Gavin Hood': 1, 'Baltasar Kormákur': 1, 'Karyn Kusama': 1, 'Vicky Jenson': 1, 'Michael Polish': 1, 'Jonas Elmer': 1, 'Mike Judge': 1, 'Brian Klugman': 1, 'Damien Chazelle': 1, 'David Ayer': 1}), 'Brad Garrett': defaultdict(<class 'int'>, {'Nathan Greno': 1, 'Marc Lawrence': 1}), 'Chris Hemsworth': defaultdict(<class 'int'>, {'Joss Whedon': 2, 'Rupert Sanders': 1, 'Alan Taylor': 1, 'Kenneth Branagh': 1, 'J.J. Abrams': 1, 'Cedric Nicolas-Troyan': 1, 'Ron Howard': 2, 'Michael Mann': 1, 'John Francis Daley': 1, 'Drew Goddard': 1, 'David Twohy': 1, 'Stephen Milburn Anderson': 1}), 'Alan Rickman': defaultdict(<class 'int'>, {'David Yates': 1, 'Kevin Reynolds': 1, 'Dean Parisot': 1, 'John McTiernan': 1, 'Neil Jordan': 1, 'Simon Wincer': 1, 'Ang Lee': 1, 'Randall Miller': 1}), 'Henry Cavill': defaultdict(<class 'int'>, {'Zack Snyder': 2, 'Guy Ritchie': 1, 'Tarsem Singh': 1, 'Matthew Vaughn': 1, 'Kevin Reynolds': 1, 'Mabrouk El Mechri': 1}), 'Kevin Spacey': defaultdict(<class 'int'>, {'Bryan Singer': 2, 'Wolfgang Petersen': 1, 'F. Gary Gray': 1, 'Alan Parker': 1, 'Iain Softley': 1, 'John Lasseter': 1, 'Joel Schumacher': 1, 'Sean Anders': 1, 'Mimi Leder': 1, 'Seth Gordon': 1, 'Robert Luketic': 1, 'Curtis Hanson': 1, 'Clint Eastwood': 1, 'Lasse Hallström': 1, 'Grant Heslov': 1, 'Kevin Spacey': 1, 'Sam Mendes': 1, 'James Foley': 1, 'George Hickenlooper': 1, 'Duncan Jones': 1, 'J.C. Chandor': 1}), 'Giancarlo Giannini': defaultdict(<class 'int'>, {'Marc Forster': 1}), 'Peter Dinklage': defaultdict(<class 'int'>, {'Andrew Adamson': 1, 'Steve Martino': 1, 'Chris Columbus': 1, 'Clay Kaytis': 1, 'Jon Favreau': 1, 'Ben Falcone': 1, 'Frank Oz': 1, 'Sidney Lumet': 1, 'Hue Rhodes': 1, 'Joseph Kosinski': 1, 'Tom McCarthy': 1, 'Eric Schaeffer': 1}), 'Will Smith': defaultdict(<class 'int'>, {'Barry Sonnenfeld': 4, 'David Ayer': 1, 'Peter Berg': 1, 'Francis Lawrence': 1, 'Michael Bay': 2, 'M. Night Shyamalan': 1, 'Michael Mann': 1, 'Alex Proyas': 1, 'Tony Scott': 1, 'Roland Emmerich': 1, 'Glenn Ficarra': 1, 'Andy Tennant': 1, 'Gabriele Muccino': 2, 'Peter Landesman': 1}), 'Aidan Turner': defaultdict(<class 'int'>, {'Peter Jackson': 3, 'Harald Zwart': 1}), 'Emma Stone': defaultdict(<class 'int'>, {'Marc Webb': 2, 'Tom Dey': 1, 'Cameron Crowe': 1, 'Tate Taylor': 1, 'Fred Wolf': 1, 'Ruben Fleischer': 1, 'Alejandro G. Iñárritu': 1, 'Greg Mottola': 1, 'Peter Cattaneo': 1, 'Will Gluck': 1}), 'Mark Addy': defaultdict(<class 'int'>, {'Ridley Scott': 1, 'Simon Wells': 1, 'Richard J. Lewis': 1}), 'Christopher Lee': defaultdict(<class 'int'>, {'Chris Weitz': 1, 'Peter Jackson': 2, 'Joe Dante': 1, 'Steven Spielberg': 1, 'James Fargo': 1, 'Alan Metter': 1, 'Guy Hamilton': 1, 'Harald Reinl': 1}), 'Naomi Watts': defaultdict(<class 'int'>, {'Peter Jackson': 1, 'Robert Schwentke': 1, 'Hideo Nakata': 1, 'Tom Tykwer': 1, 'Jim Sheridan': 1, 'Doug Liman': 1, 'J.A. Bayona': 1, 'Rachel Talalay': 1, 'David O. Russell': 1, 'Alejandro G. Iñárritu': 1, 'David Lynch': 1, 'Michael Haneke': 1, 'Noah Baumbach': 1, 'Rodrigo García': 1}), 'Leonardo DiCaprio': defaultdict(<class 'int'>, {'James Cameron': 1, 'Baz Luhrmann': 2, 'Christopher Nolan': 1, 'Alejandro G. Iñárritu': 1, 'Martin Scorsese': 5, 'Quentin Tarantino': 1, 'Edward Zwick': 1, 'Ridley Scott': 1, 'Steven Spielberg': 1, 'Danny Boyle': 1, 'Sam Mendes': 1, 'Randall Wallace': 1, 'Clint Eastwood': 1, 'Sam Raimi': 1, 'Jerry Zaks': 1}), 'Robert Downey Jr.': defaultdict(<class 'int'>, {'Anthony Russo': 1, 'Shane Black': 2, 'Jon Favreau': 2, 'Guy Ritchie': 2, 'Ben Stiller': 1, 'David Fincher': 1, 'Todd Phillips': 1, 'Brian Robbins': 1, 'Joe Wright': 1, 'Frank Oz': 1, 'Curtis Hanson': 2, 'David Dobkin': 1, 'Mathieu Kassovitz': 1, 'Neil Jordan': 1, 'Jodie Foster': 1, 'Richard Linklater': 1, 'Steven Shainberg': 1, 'Jon Poll': 1, 'Richard Loncraine': 1, 'Keith Gordon': 1, 'George Clooney': 1, 'James Toback': 1}), 'Liam Neeson': defaultdict(<class 'int'>, {'Peter Berg': 1, 'Jonathan Liebesman': 1, 'Louis Leterrier': 1, 'Ridley Scott': 1, 'Kathryn Bigelow': 1, 'Jan de Bont': 1, 'Seth MacFarlane': 2, 'Jaume Collet-Serra': 3, 'Olivier Megaton': 2, 'Peter Yates': 1, 'Peter Lepeniotis': 1, 'Michael Caton-Jones': 1, 'Scott Frank': 1, 'Pierre Morel': 1, 'Steven Spielberg': 1, 'Joe Carnahan': 1, 'Roger Donaldson': 1, 'Anthony Silverston': 1, 'Atom Egoyan': 1, 'John H. Lee': 1, 'Bill Condon': 1, 'Eric Blakeney': 1, 'Agnieszka Wojtowicz-Vosloo': 1}), 'Bryce Dallas Howard': defaultdict(<class 'int'>, {'Colin Trevorrow': 1, 'M. Night Shyamalan': 2, 'Lars von Trier': 1, 'David Lowery': 1, 'Marianna Palka': 1}), 'Albert Finney': defaultdict(<class 'int'>, {'Sam Mendes': 1, 'Tony Richardson': 1}), 'Hugh Jackman': defaultdict(<class 'int'>, {'Brett Ratner': 1, 'Gavin Hood': 1, 'David Bowers': 1, 'Joe Wright': 1, 'Peter Ramsey': 1, 'Bryan Singer': 2, 'James Mangold': 2, 'Shawn Levy': 1, 'Dominic Sena': 1, 'Tom Hooper': 1, 'Neill Blomkamp': 1, 'Denis Villeneuve': 1, 'Darren Aronofsky': 1, 'Dexter Fletcher': 1, 'Tony Goldwyn': 1, 'Elizabeth Banks': 1}), 'Steve Buscemi': defaultdict(<class 'int'>, {'Dan Scanlon': 1, 'Hironobu Sakaguchi': 1, 'Pete Docter': 1, 'Will Finn': 1, 'Genndy Tartakovsky': 2, 'Gary Winick': 1, 'Dennis Dugan': 3, 'Simon West': 1, 'Gil Kenan': 1, 'Tim Burton': 1, 'Harold Becker': 1, 'Steven Brill': 1, 'John Carpenter': 1, 'Betty Thomas': 1, 'Robert Rodriguez': 1, 'Don Scardino': 1, 'Robert Altman': 1, 'Miguel Arteta': 1, 'Gary Fleder': 1, 'Chris Rock': 1, 'Olivier Assayas': 1, 'Oren Moverman': 1, 'Jonathan Wacks': 1, 'Steve Buscemi': 1}), 'Glenn Morshower': defaultdict(<class 'int'>, {'Michael Bay': 2, 'Jon Amiel': 1}), 'Bingbing Li': defaultdict(<class 'int'>, {'Michael Bay': 1, 'Li Zhang': 1, 'Wayne Wang': 1}), 'Tim Holmes': defaultdict(<class 'int'>, {'Sam Raimi': 1}), 'Jeff Bridges': defaultdict(<class 'int'>, {'Joseph Kosinski': 1, 'Ash Brannon': 1, 'Sergey Bodrov': 1, 'Gary Ross': 1, 'Mark Osborne': 1, 'Michael Cimino': 1, 'Barbra Streisand': 1, 'Ridley Scott': 1, 'Phillip Noyce': 1, 'Terry Gilliam': 1, 'Mark Pellington': 1, 'Jessica Bendinger': 1, 'Albert Brooks': 1, 'Michael Meredith': 1, 'Rod Lurie': 1, 'Scott Cooper': 1, 'Larry Charles': 1}), 'Joe Mantegna': defaultdict(<class 'int'>, {'John Lasseter': 1, 'Jon Avnet': 1, 'Patrick Read Johnson': 1, 'John Schlesinger': 1, 'Tom Holland': 1, 'Stuart Gordon': 1, 'Charlie Levi': 1}), 'Ryan Reynolds': defaultdict(<class 'int'>, {'Martin Campbell': 1, 'David Soren': 1, 'Robert Schwentke': 1, 'Kirk De Micco': 1, 'David S. Goyer': 1, 'Tim Miller': 1, 'David Dobkin': 1, 'Anne Fletcher': 1, 'Tarsem Singh': 1, 'Joe Carnahan': 1, 'Andrew Fleming': 1, 'Simon Curtis': 1, 'Adam Brooks': 1, 'Walt Becker': 1, 'Rodrigo Cortés': 1, 'Rob McKittrick': 1}), 'Tom Hanks': defaultdict(<class 'int'>, {'Lee Unkrich': 1, 'Robert Zemeckis': 3, 'Ron Howard': 4, 'Tom Tykwer': 1, 'John Lasseter': 2, 'Sam Mendes': 1, 'Steven Spielberg': 3, 'Nora Ephron': 1, 'Frank Darabont': 1, 'Paul Greengrass': 1, 'Penny Marshall': 2, 'Stephen Daldry': 1, 'John Lee Hancock': 1, 'Tom Hanks': 2}), 'Christian Bale': defaultdict(<class 'int'>, {'McG': 1, 'Christopher Nolan': 3, 'Ridley Scott': 1, 'Yimou Zhang': 1, 'Rob Bowman': 1, 'John Madden': 1, 'Mike Gabriel': 1, 'John Singleton': 1, 'James Mangold': 1, 'Terrence Malick': 1, 'Hayao Miyazaki': 1, 'Scott Cooper': 1, 'Todd Haynes': 2, 'Kurt Wimmer': 1, 'Gillian Armstrong': 1, 'David O. Russell': 1, 'Werner Herzog': 1, 'Mary Harron': 1, 'Brad Anderson': 1}), 'Jason Statham': defaultdict(<class 'int'>, {'James Wan': 1, 'Simon West': 3, 'Patrick Hughes': 1, 'Sylvester Stallone': 1, 'Gary McKendry': 1, 'Paul W.S. Anderson': 1, 'F. Gary Gray': 1, 'Uwe Boll': 1, 'James Wong': 1, 'Taylor Hackford': 1, 'Boaz Yakin': 1, 'Louis Leterrier': 2, 'John Carpenter': 1, 'Philip G. Atwell': 1, 'Gary Fleder': 1, 'Roger Donaldson': 1, 'Mark Neveldine': 2, 'Guy Ritchie': 2, 'Barry Skolnick': 1, 'Hunter Richards': 1}), 'Peter Capaldi': defaultdict(<class 'int'>, {'Marc Forster': 1}), 'Jennifer Lawrence': defaultdict(<class 'int'>, {'Bryan Singer': 2, 'Matthew Vaughn': 1, 'Francis Lawrence': 3, 'Gary Ross': 1, 'David O. Russell': 3, 'Jodie Foster': 1, 'Mark Tonderai': 1, 'Debra Granik': 1, 'Lori Petty': 1, 'Drake Doremus': 1}), 'Benedict Cumberbatch': defaultdict(<class 'int'>, {'J.J. Abrams': 1, 'Eric Darnell': 1, 'Joe Wright': 1, 'Bill Condon': 1, 'John Wells': 1, 'Tomas Alfredson': 1, 'Morten Tyldum': 1}), 'Eddie Marsan': defaultdict(<class 'int'>, {'Bryan Singer': 1, 'Mike Leigh': 1}), 'Jake Gyllenhaal': defaultdict(<class 'int'>, {'Mike Newell': 1, 'Roland Emmerich': 1, 'Sam Mendes': 1, 'Duncan Jones': 1, 'Antoine Fuqua': 1, 'Edward Zwick': 1, 'David O. Russell': 1, 'Brad Silberling': 1, 'David Ayer': 1, 'Ang Lee': 1, 'Blair Hayes': 1, 'Dan Gilroy': 1, 'Miguel Arteta': 1, 'Richard Kelly': 1, 'James Cox': 1}), 'Charlie Hunnam': defaultdict(<class 'int'>, {'Guillermo del Toro': 1, 'Alfonso Cuarón': 1, 'Stephen Gaghan': 1, 'Douglas McGrath': 1, 'Stefan Ruzowitzky': 1}), 'Harrison Ford': defaultdict(<class 'int'>, {'Steven Spielberg': 4, 'Gavin Hood': 1, 'Robert Zemeckis': 1, 'Alan J. Pakula': 1, 'Wolfgang Petersen': 1, 'Ivan Reitman': 1, 'Ron Shelton': 1, 'Sydney Pollack': 1, 'Phillip Noyce': 2, 'Adam McKay': 1, 'Andrew Davis': 1, 'Brian Helgeland': 1, 'Richard Marquand': 1, 'Francis Ford Coppola': 2, 'Tom Vaughan': 1, 'Lee Toland Krieger': 1, 'Ridley Scott': 1, 'Irvin Kershner': 1, 'Peter Weir': 1, 'George Lucas': 2, 'Guy Hamilton': 1}), 'A.J. Buckley': defaultdict(<class 'int'>, {'Peter Sohn': 1}), 'Kelly Macdonald': defaultdict(<class 'int'>, {'Mark Andrews': 1, 'Joe Wright': 1, 'Ethan Coen': 1, 'Mike Figgis': 1, 'Danny Boyle': 1}), 'Sofia Boutella': defaultdict(<class 'int'>, {'Justin Lin': 1}), 'John Ratzenberger': defaultdict(<class 'int'>, {'Andrew Stanton': 1, 'Pete Docter': 1, 'John Lasseter': 1}), 'Tzi Ma': defaultdict(<class 'int'>, {'Brett Ratner': 1}), 'Oliver Platt': defaultdict(<class 'int'>, {'Roland Emmerich': 1, 'Betty Thomas': 1, 'Stuart Baird': 1, 'Gary Fleder': 1, 'Steve Miner': 1, 'Menno Meyjes': 1, 'Brian Robbins': 1, 'Mark Steven Johnson': 1, 'Nicole Holofcener': 1, 'Peter Hedges': 1}), 'Robin Wright': defaultdict(<class 'int'>, {'Robert Zemeckis': 2, 'David Fincher': 1, 'M. Night Shyamalan': 1, 'Kevin Macdonald': 1, 'Luis Mandoki': 1, 'Robert Redford': 1, 'Rob Reiner': 1, 'Michael Mayer': 1, 'Anne Fontaine': 1}), 'Channing Tatum': defaultdict(<class 'int'>, {'Lana Wachowski': 1, 'Roland Emmerich': 1, 'Jon M. Chu': 1, 'Ron Howard': 1, 'Phil Lord': 2, 'Jorge R. Gutiérrez': 1, 'Thomas Carter': 1, 'Evan Goldberg': 1, 'Michael Sucsy': 1, 'Steven Soderbergh': 3, 'Steve Boyum': 1, 'Andy Fickman': 1, 'Lasse Hallström': 1, 'Dito Montiel': 1, 'Anne Fletcher': 1}), 'Jim Broadbent': defaultdict(<class 'int'>, {'Andrew Adamson': 1, 'Frank Coraci': 1, 'Sarah Smith': 1, 'Chris Wedge': 1, 'Baz Luhrmann': 1, 'Gary Chapman': 1, 'Bille August': 1, 'Reinhard Klooss': 1, 'Peter Hewitt': 1, 'Woody Allen': 1, 'Mike Leigh': 2, 'Sidney J. Furie': 1, 'Ian Fitzgibbon': 1, -1: 1, 'Mark Herman': 1, 'Neil Jordan': 1}), 'Amy Poehler': defaultdict(<class 'int'>, {'Rob Letterman': 1, 'Pete Docter': 1, 'Mike Mitchell': 2, 'Betty Thomas': 1, 'Jimmy Hayward': 1, 'Mike Disa': 1, 'Barry Levinson': 1}), 'Chloë Grace Moretz': defaultdict(<class 'int'>, {'Martin Scorsese': 1, 'Byron Howard': 1, 'John Whitesell': 1, 'J Blakeson': 1, 'Nicholas Stoller': 1, 'Kimberly Peirce': 1, 'Jeff Wadlow': 1, 'Matt Reeves': 1, 'Thor Freudenthal': 1, 'David Moreau': 1, 'R.J. Cutler': 1}), 'Jet Li': defaultdict(<class 'int'>, {'Rob Cohen': 1, 'Richard Donner': 1, 'Rob Minkoff': 1, 'Yimou Zhang': 1, 'Peter Ho-Sun Chan': 1, 'Andrzej Bartkowiak': 2, 'Chris Nahon': 1}), 'Jimmy Bennett': defaultdict(<class 'int'>, {'Tom Shadyac': 1, 'Wolfgang Petersen': 1, 'Florent-Emilio Siri': 1, 'Richard Loncraine': 1, 'Jaume Collet-Serra': 1, 'Robert Rodriguez': 1, 'Andrew Douglas': 1, 'James Mottern': 1}), 'Tom Cruise': defaultdict(<class 'int'>, {'Doug Liman': 1, 'Christopher McQuarrie': 2, 'Brad Bird': 1, 'Edward Zwick': 1, 'Steven Spielberg': 2, 'John Woo': 1, 'James Mangold': 1, 'Bryan Singer': 1, 'Brian De Palma': 1, 'Cameron Crowe': 2, 'Stanley Kubrick': 1, 'Tony Scott': 2, 'Michael Mann': 1, 'Sydney Pollack': 1, 'Rob Reiner': 1, 'Barry Levinson': 1, 'Oliver Stone': 1, 'Martin Scorsese': 1, 'Francis Ford Coppola': 1, 'Curtis Hanson': 1}), 'Jeanne Tripplehorn': defaultdict(<class 'int'>, {'Kevin Reynolds': 1, 'Kelly Makin': 1, 'Peter Howitt': 1}), 'Joseph Gordon-Levitt': defaultdict(<class 'int'>, {'Stephen Sommers': 1, 'Ron Clements': 1, 'Steven Spielberg': 1, 'Frank Miller': 1, 'Spike Lee': 1, 'Brian Gibson': 1, -1: 1, 'David Koepp': 1, 'Robert Zemeckis': 1, 'Rian Johnson': 1, 'Kimberly Peirce': 1, 'Gil Junger': 1, 'Jonathan Levine': 1, 'Marc Webb': 1, 'Spencer Susser': 1, 'Joseph Gordon-Levitt': 1, 'C. Jay Cox': 1}), 'Scarlett Johansson': defaultdict(<class 'int'>, {'Jon Favreau': 1, 'Anthony Russo': 1, 'Michael Bay': 1, 'Robert Redford': 1, 'Brian De Palma': 1, 'Frank Miller': 1, 'Cameron Crowe': 1, 'Luc Besson': 1, 'Stephen Hillenburg': 1, 'Ellory Elkayem': 1, 'Paul Weitz': 1, 'Spike Jonze': 1, 'Ethan Coen': 1, 'Woody Allen': 3, 'Jonathan Glazer': 1, 'Peter Webber': 1, 'Terry Zwigoff': 1, 'Sofia Coppola': 1}), 'Angelina Jolie Pitt': defaultdict(<class 'int'>, {'Robert Stromberg': 1, 'Jennifer Yuh Nelson': 1, 'Mark Osborne': 1, 'Phillip Noyce': 1, 'Simon West': 1, 'Timur Bekmambetov': 1, 'Kerry Conran': 1, 'Martin Campbell': 1, 'Clint Eastwood': 1, 'Stephen Herek': 1, 'Iain Softley': 1, 'Mike Newell': 1, 'Michael Cristofer': 1, 'James Mangold': 1, 'Michael Winterbottom': 1}), 'Gary Oldman': defaultdict(<class 'int'>, {'Matt Reeves': 1, 'José Padilha': 1, 'Stephen Hopkins': 1, 'Roland Joffé': 1, 'Catherine Hardwicke': 1, 'Frederik Du Chau': 1, 'Ariel Vromen': 1, 'David S. Goyer': 1, 'Peter Medak': 1, 'Julian Schnabel': 1}), 'Tamsin Egerton': defaultdict(<class 'int'>, {'Roland Joffé': 1}), 'Keanu Reeves': defaultdict(<class 'int'>, {'Carl Rinsch': 1, 'Nancy Meyers': 1, 'Scott Derrickson': 1, 'Lana Wachowski': 1, 'Taylor Hackford': 1, 'Andrew Davis': 1, 'Howard Deutch': 1, 'Francis Ford Coppola': 1, 'Alejandro Agresti': 1, \"Pat O'Connor\": 1, 'Joe Charbanic': 1, 'Jan de Bont': 1, 'Stephen Frears': 1, 'Brian Robbins': 1, 'Peter Hewitt': 1, 'David Ayer': 1, 'Stephen Herek': 1, 'Kenneth Branagh': 1, 'Nicolas Winding Refn': 1, 'Stephen Kay': 1, 'Gus Van Sant': 1, 'Tim Hunter': 1}), 'Jon Hamm': defaultdict(<class 'int'>, {'Mike Mitchell': 1, 'Zack Snyder': 1, 'Randall Wallace': 1, 'Craig Gillespie': 1, 'David Wain': 1}), 'Judy Greer': defaultdict(<class 'int'>, {'Brad Bird': 1, 'Peyton Reed': 1, 'Nancy Meyers': 1, 'Mike Nichols': 1, 'David O. Russell': 1, 'Anne Fletcher': 1, 'Brandon Camp': 1, 'Paul Weitz': 1, 'Jay Duplass': 1, \"Chris D'Arienzo\": 1, 'Adam Goldberg': 1, 'Jonathan Kesselman': 1, 'Craig Mazin': 1}), 'Damon Wayans Jr.': defaultdict(<class 'int'>, {'Don Hall': 1, 'Damien Dante Wayans': 1}), 'Jack McBrayer': defaultdict(<class 'int'>, {'Rich Moore': 1, 'Brad Peyton': 1, 'Ramaa Mosley': 1}), 'Vivica A. Fox': defaultdict(<class 'int'>, {'Roland Emmerich': 1, 'Quentin Tarantino': 1, 'Jesse Vaughan': 1, 'Mort Nathan': 1, 'Rodman Flender': 1, 'F. Gary Gray': 1, 'Mark Brown': 1, 'David Boyd': 1}), 'Gerard Butler': defaultdict(<class 'int'>, {'Dean DeBlois': 2, 'Alex Proyas': 1, 'Jan de Bont': 1, 'Antoine Fuqua': 1, 'Zack Snyder': 1, 'Babak Najafi': 1, 'Joel Schumacher': 1, 'F. Gary Gray': 1, 'Mark Neveldine': 1, 'Andy Tennant': 1, 'Robert Luketic': 1, 'Jennifer Flackett': 1, 'Gabriele Muccino': 1, 'Richard LaGravenese': 1, 'Marc Forster': 1, 'Patrick Lussier': 1, 'Michael Apted': 1, 'David Anspaugh': 1, 'Mike Barker': 1, 'Ralph Fiennes': 1, 'Shona Auerbach': 1}), 'Nick Stahl': defaultdict(<class 'int'>, {'Jonathan Mostow': 1, 'Terrence Malick': 1}), 'Bradley Cooper': defaultdict(<class 'int'>, {'James Gunn': 1, 'Todd Phillips': 2, 'Clint Eastwood': 1, 'Garry Marshall': 1, 'Peyton Reed': 1, 'Tom Dey': 1, 'Christian Alvart': 1, 'David Palmer': 1, 'John Wells': 1, 'Phil Traill': 1, 'Ryûhei Kitamura': 1, 'Dan Trachtenberg': 1}), 'Matthew McConaughey': defaultdict(<class 'int'>, {'Christopher Nolan': 1, 'Breck Eisner': 1, 'Robert Zemeckis': 1, 'Andy Tennant': 1, 'McG': 1, 'Jonathan Mostow': 1, 'Ron Howard': 1, 'Donald Petrie': 1, 'Gary Ross': 1, 'Brad Furman': 1, 'Adam Shankman': 1, 'Richard Linklater': 2, 'Bill Paxton': 1, 'Jeff Nichols': 1, 'William Friedkin': 1, 'S.R. Bindler': 1, 'Jean-Marc Vallée': 1, 'John Sayles': 1, 'Jill Sprecher': 1}), 'Mark Chinnery': defaultdict(<class 'int'>, {'Hideaki Anno': 1}), 'Paul Walker': defaultdict(<class 'int'>, {'Rob Cohen': 2, 'Justin Lin': 1, 'Richard Donner': 1, 'John Singleton': 1, 'Clint Eastwood': 1, 'John Stockwell': 1, 'Frank Marshall': 1, 'John Luessenhop': 1, 'Camille Delamarre': 1, 'Steve Boyum': 1, 'John Dahl': 1, 'Wayne Kramer': 1, 'Brian Robbins': 1, 'Robert Iscove': 1, 'John Herzfeld': 1}), 'Brad Pitt': defaultdict(<class 'int'>, {'David Fincher': 2, 'Wolfgang Petersen': 1, 'Steven Soderbergh': 2, 'Doug Liman': 1, 'Tony Scott': 2, 'David Ayer': 1, 'Jean-Jacques Annaud': 1, 'Patrick Gilmore': 1, 'Neil Jordan': 1, 'Terrence Malick': 1, 'Andrew Dominik': 2, 'Alejandro G. Iñárritu': 1, 'Angelina Jolie Pitt': 1, 'Tom DiCillo': 1}), 'Nicolas Cage': defaultdict(<class 'int'>, {'Jon Turteltaub': 2, 'Mark Steven Johnson': 1, 'John Woo': 2, 'Dominic Sena': 1, 'Michael Bay': 1, 'Brian De Palma': 1, 'Oliver Stone': 1, 'David Bowers': 1, 'Brett Ratner': 1, 'Mark Neveldine': 1, 'Brad Silberling': 1, 'Alex Proyas': 1, 'Patrick Lussier': 1, 'Francis Ford Coppola': 2, 'John A. Davis': 1, 'Danny Pang': 1, 'Andrew Niccol': 1, 'Joel Schumacher': 1, 'Barbet Schroeder': 1, 'Simon West': 1, 'Martin Scorsese': 1, 'Werner Herzog': 1, 'Gore Verbinski': 1, 'Scott Walker': 1, 'Spike Jonze': 1, 'Vic Armstrong': 1, 'Paul Schrader': 1, 'Mike Figgis': 1, 'David Gordon Green': 1}), 'Justin Timberlake': defaultdict(<class 'int'>, {'Chris Miller': 1, 'Eric Brevig': 1, 'Marco Schnabel': 1, 'Brad Furman': 1, 'Jake Kasdan': 1, 'Craig Brewer': 1, 'Ethan Coen': 1}), 'Dominic Cooper': defaultdict(<class 'int'>, {'Duncan Jones': 1, 'Gary Shore': 1, 'Niels Arden Oplev': 1, 'Saul Dibb': 1, -1: 1, 'Lone Scherfig': 1, 'Nicholas Hytner': 1}), 'Bruce Spence': defaultdict(<class 'int'>, {'Michael Apted': 1, 'Steve Oedekerk': 1}), 'Jennifer Garner': defaultdict(<class 'int'>, {'Michael Bay': 1, 'Peter Berg': 1, 'Rob Bowman': 1, 'Peter Hedges': 1, 'Gary Winick': 1, 'Ivan Reitman': 1, 'Ricky Gervais': 1, 'Patricia Riggen': 1, 'Danny Leiner': 1}), 'Zack Ward': defaultdict(<class 'int'>, {'Michael Bay': 1, 'Zack Ward': 1, 'Marco Kreuzpaintner': 1, -1: 1, 'Bob Clark': 1}), 'Anthony Hopkins': defaultdict(<class 'int'>, {'Oliver Stone': 2, 'Joe Johnston': 1, 'Darren Aronofsky': 1, 'Martin Brest': 1, 'Lee Tamahori': 1, 'Joel Schumacher': 1, 'Martin Campbell': 1, 'Jon Turteltaub': 1, 'Steven Spielberg': 1, 'Mikael Håfström': 1, 'Scott Hicks': 1, 'Edward Zwick': 1, 'Roger Donaldson': 1, 'Richard Attenborough': 1, 'Jonathan Demme': 1, 'James Ivory': 2, 'Woody Allen': 1, 'Emilio Estevez': 1, 'David Lynch': 1}), 'Robert Pattinson': defaultdict(<class 'int'>, {'David Yates': 1, 'Mike Newell': 1, 'Bill Condon': 1, 'David Slade': 1, 'Chris Weitz': 1, 'Francis Lawrence': 1, 'Allen Coulter': 1}), 'Janeane Garofalo': defaultdict(<class 'int'>, {'Brad Bird': 1, 'Kinka Usher': 1, 'Richard Kelly': 1, 'David Dobkin': 1, 'Risa Bramon Garcia': 1}), 'Bernie Mac': defaultdict(<class 'int'>, {'Eric Darnell': 1, 'Malcolm D. Lee': 1, 'Chris Rock': 1, 'Kevin Rodney Sullivan': 1, 'Sam Weisman': 1, 'Charles Stone III': 1, 'Terry Zwigoff': 1, 'Lionel C. Martin': 1, 'Ice Cube': 1, 'Spike Lee': 2}), 'Robin Williams': defaultdict(<class 'int'>, {'Shawn Levy': 3, 'George Miller': 2, 'Chris Columbus': 2, 'Les Mayfield': 1, 'Vincent Ward': 1, 'Steven Spielberg': 1, 'Tom Shadyac': 1, 'Danny DeVito': 1, 'Walt Becker': 1, 'Ken Kwapis': 1, 'Justin Zackham': 1, 'Ron Clements': 1, 'Kirsten Sheridan': 1, 'Barry Levinson': 2, 'Peter Weir': 1, 'Peter Kassovitz': 1, 'Mark Romanek': 1, 'Gus Van Sant': 1, 'Bobcat Goldthwait': 1, 'Patrick Stettner': 1, 'David Duchovny': 1, 'James David Pasternak': 1}), 'Essie Davis': defaultdict(<class 'int'>, {'Lana Wachowski': 1, 'Baz Luhrmann': 1}), 'Josh Gad': defaultdict(<class 'int'>, {'Chris Buck': 1, 'Shawn Levy': 1}), 'Steve Bastoni': defaultdict(<class 'int'>, {'Lana Wachowski': 1}), 'Kelli Garner': defaultdict(<class 'int'>, {'Hoyt Yeatman': 1, 'Mike Mills': 1, 'Larry Clark': 1}), 'Matthew Broderick': defaultdict(<class 'int'>, {'Steve Hickner': 1, 'Brett Ratner': 1, 'Roger Allers': 1, 'David Kellogg': 1, 'John Whitesell': 1, 'Ben Stiller': 1, 'Jeff Nathanson': 1, 'Richard Donner': 1, 'John Badham': 1, 'Alexander Payne': 1, 'Kenneth Lonergan': 1}), 'Seychelle Gabriel': defaultdict(<class 'int'>, {'M. Night Shyamalan': 1}), 'Philip Seymour Hoffman': defaultdict(<class 'int'>, {'J.J. Abrams': 1, 'Jan de Bont': 1, 'Anthony Minghella': 2, 'Brett Ratner': 1, 'Mike Nichols': 1, 'Cameron Crowe': 1, 'Bennett Miller': 2, 'Richard Curtis': 1, 'John Hamburg': 1, 'John Patrick Shanley': 1, 'Charlie Kaufman': 1, 'Anton Corbijn': 1, 'Joel Coen': 1, 'Richard Kwietniowski': 1, 'Tamara Jenkins': 1, 'Spike Lee': 1, 'Todd Solondz': 1, 'Brad Anderson': 1}), 'Elisabeth Harnois': defaultdict(<class 'int'>, {'Simon Wells': 1}), 'Ty Burrell': defaultdict(<class 'int'>, {'Rob Minkoff': 1, 'Louis Leterrier': 1, 'James Bobin': 1, 'Zack Snyder': 1, 'Craig Johnson': 1}), 'Jada Pinkett Smith': defaultdict(<class 'int'>, {'Eric Darnell': 2, 'Tom Shadyac': 1, 'Diane English': 1, 'Keenen Ivory Wayans': 1, 'Matty Rich': 1, 'Albert Hughes': 1}), 'Toby Stephens': defaultdict(<class 'int'>, {'Lee Tamahori': 1, 'Michael Bay': 1}), 'Ed Begley Jr.': defaultdict(<class 'int'>, {'Paul Feig': 1, 'Penny Marshall': 1, 'Ben Stassen': 1, 'Paul Schrader': 2, 'Chris Paine': 1}), 'Bruce Willis': defaultdict(<class 'int'>, {'Michael Bay': 1, 'Len Wiseman': 1, 'John Moore': 1, 'John McTiernan': 1, 'Tim Johnson': 1, 'Dean Parisot': 1, 'Jonathan Mostow': 1, 'Antoine Fuqua': 1, 'Barry Levinson': 1, 'Renny Harlin': 1, 'Gregory Hoblit': 1, 'Jon Turteltaub': 1, 'Michael Lehmann': 1, 'Robert Schwentke': 1, 'Harold Becker': 1, 'Robert Zemeckis': 1, 'Rob Reiner': 1, 'Richard Donner': 1, 'M. Night Shyamalan': 1, 'Kevin Smith': 1, 'Howard Deutch': 1, 'Paul McGuigan': 1, 'Jonathan Lynn': 1, 'Brian A Miller': 1, 'Wes Anderson': 1, 'Mike Judge': 1, 'Alan Rudolph': 1, 'Quentin Tarantino': 1}), 'John Michael Higgins': defaultdict(<class 'int'>, {'Dean Parisot': 1, 'Christopher Guest': 2}), 'Sam Shepard': defaultdict(<class 'int'>, {'Rob Cohen': 1, 'Mateo Gil': 1, 'Terrence Malick': 1}), 'Matt Frewer': defaultdict(<class 'int'>, {'Zack Snyder': 1, 'Uwe Boll': 1}), 'Kevin Rankin': defaultdict(<class 'int'>, {'Ang Lee': 1}), 'Chris Evans': defaultdict(<class 'int'>, {'Joe Johnston': 1, 'Tim Story': 1, 'Danny Boyle': 1, 'Joon-ho Bong': 1, 'Kevin Munroe': 1, 'Sylvain White': 1, 'Mark Mylod': 1, 'Joel Gallen': 1, 'Ariel Vromen': 1}), 'Colin Salmon': defaultdict(<class 'int'>, {'Michael Apted': 1, -1: 1, 'John Simpson': 1, 'Stuart Hazeldine': 1}), \"James D'Arcy\": defaultdict(<class 'int'>, {'Peter Weir': 1, 'Renny Harlin': 1}), 'Don Johnson': defaultdict(<class 'int'>, {-1: 1, 'Ron Shelton': 1, 'Nick Cassavetes': 1, 'Tom Brady': 1}), 'Mark Rylance': defaultdict(<class 'int'>, {'Steven Spielberg': 1}), 'Matt Damon': defaultdict(<class 'int'>, {'Paul Greengrass': 4, 'Neill Blomkamp': 1, 'Ridley Scott': 1, 'Kelly Asbury': 1, 'Terry Gilliam': 1, 'Don Bluth': 1, 'Doug Liman': 1, 'Steven Soderbergh': 2, 'Clint Eastwood': 2, 'Robert Redford': 1, 'Bobby Farrelly': 1, 'George Nolfi': 1, 'Stephen Gaghan': 1, 'Billy Bob Thornton': 1, 'Francis Ford Coppola': 1, 'Ethan Coen': 1, 'Jeff Schaffer': 1, 'Gus Van Sant': 2, 'Kenneth Lonergan': 1, 'John Dahl': 1, 'Kevin Smith': 2, 'Charles Ferguson': 1}), 'Jim Parsons': defaultdict(<class 'int'>, {'Tim Johnson': 1, 'Zach Braff': 1}), 'Salma Hayek': defaultdict(<class 'int'>, {'Chris Miller': 1, 'Brett Ratner': 1, 'Peter Lord': 1, 'Frank Coraci': 1, 'Joachim Rønning': 1, 'Kevin Hooks': 1, 'Mark Christopher': 1, 'Julie Taymor': 1, 'Allison Anders': 1, 'Dan Ireland': 1}), 'Toby Jones': defaultdict(<class 'int'>, {'Steven Spielberg': 1, 'Ron Howard': 1, 'Oliver Stone': 1, 'John Curran': 1, 'Frank Darabont': 1, 'Douglas McGrath': 1}), 'Daniel Radcliffe': defaultdict(<class 'int'>, {'Alfonso Cuarón': 1, 'Chris Columbus': 2, 'Jon M. Chu': 1, 'Paul McGuigan': 1, 'John Boorman': 1, 'James Watkins': 1}), 'Alfre Woodard': defaultdict(<class 'int'>, {'Eric Leighton': 1, 'Michael Tollin': 1, 'Liz Friedlander': 1, 'Cathy Malkasian': 1, 'Bille Woodruff': 1, 'Gina Prince-Bythewood': 1, 'Spike Lee': 1, 'John R. Leonetti': 1, 'Bill Benenson': 1}), 'Rupert Grint': defaultdict(<class 'int'>, {'Matt Birch': 2, 'Jonathan Lynn': 1, 'Jeremy Brock': 1}), 'Miguel Ferrer': defaultdict(<class 'int'>, {'Carlos Saldanha': 1, 'Les Mayfield': 1, 'John Sayles': 1}), 'Ronny Cox': defaultdict(<class 'int'>, {'Paul Verhoeven': 1}), 'Tony Curran': defaultdict(<class 'int'>, {'John McTiernan': 1, 'Steven Soderbergh': 1, 'Neil Jordan': 1}), 'Jeremy Renner': defaultdict(<class 'int'>, {'Tony Gilroy': 1, 'Clark Johnson': 1, 'Tommy Wirkola': 1, 'Ben Affleck': 1, 'Niki Caro': 1, 'James Gray': 1, 'Juan Carlos Fresnadillo': 1, 'Kathryn Bigelow': 1, 'Michael Cuesta': 1}), 'Michael Gough': defaultdict(<class 'int'>, {'Joel Schumacher': 2, 'Tim Burton': 2}), 'Clint Howard': defaultdict(<class 'int'>, {'Ron Howard': 1, 'Mike Marvin': 1, 'Jay Russell': 1}), 'Karen Allen': defaultdict(<class 'int'>, {'Wolfgang Petersen': 1}), 'Suraj Sharma': defaultdict(<class 'int'>, {'Ang Lee': 1}), 'Demi Moore': defaultdict(<class 'int'>, {'McG': 1, 'Gary Trousdale': 1, 'Barry Levinson': 1, 'Andrew Bergman': 1, 'Jon Cassar': 1, 'Jerry Zucker': 1, 'Derrick Borte': 1}), 'Michael Fassbender': defaultdict(<class 'int'>, {'Ridley Scott': 2, 'Quentin Tarantino': 1, 'Jimmy Hayward': 1, 'David Cronenberg': 1, 'Neil Marshall': 1, 'Steve McQueen': 1, 'John Maclean': 1, 'Andrea Arnold': 1, 'James Watkins': 1}), 'Nathan Lane': defaultdict(<class 'int'>, {'Rob Minkoff': 1, 'Timothy Björklund': 1}), 'Vin Diesel': defaultdict(<class 'int'>, {'David Twohy': 3, 'Breck Eisner': 1, 'Rob Cohen': 1, 'Adam Shankman': 1, 'Brad Bird': 1, 'Mathieu Kassovitz': 1, 'F. Gary Gray': 1, 'Brian Koppelman': 1, 'Ben Younger': 1}), 'Scott Porter': defaultdict(<class 'int'>, {'Lana Wachowski': 1, 'Todd Graff': 1}), 'Shelley Conn': defaultdict(<class 'int'>, {'James L. Brooks': 1}), 'Morgan Freeman': defaultdict(<class 'int'>, {'Joseph Kosinski': 1, 'Timur Bekmambetov': 1, 'Tom Shadyac': 1, 'Mimi Leder': 1, 'Louis Leterrier': 2, 'Mikael Salomon': 1, 'Phil Alden Robinson': 1, 'Lawrence Kasdan': 1, 'Phil Lord': 1, 'George Armitage': 1, 'Rob Reiner': 1, 'Carl Franklin': 1, 'Charles Martin Smith': 2, 'David Fincher': 1, 'Lasse Hallström': 1, 'Lee Tamahori': 1, 'Gary Fleder': 1, 'Frank Darabont': 1, 'Neil LaBute': 1, 'Bruce Beresford': 1, 'Luc Jacquet': 1}), 'Natalie Portman': defaultdict(<class 'int'>, {'George Lucas': 3, 'Tim Burton': 1, 'James McTeigue': 1, 'David Gordon Green': 1, 'Justin Chadwick': 1, 'Mike Nichols': 1, 'Jim Sheridan': 1, 'Ivan Reitman': 1, \"Gavin O'Connor\": 1, 'Wayne Wang': 1, 'Matt Williams': 1, 'Darren Aronofsky': 1, 'Kar-Wai Wong': 1}), 'Alain Delon': defaultdict(<class 'int'>, {'Frédéric Forestier': 1}), 'Noel Fisher': defaultdict(<class 'int'>, {'Jonathan Liebesman': 2, 'Tim Hill': 1}), 'Phaldut Sharma': defaultdict(<class 'int'>, {'Alfonso Cuarón': 1}), 'Jamie Renée Smith': defaultdict(<class 'int'>, {'Roger Donaldson': 1}), 'Stephen Amell': defaultdict(<class 'int'>, {'Dave Green': 1}), 'Tim Blake Nelson': defaultdict(<class 'int'>, {'Josh Trank': 1, 'Andrew Davis': 1, 'Joey Lauren Adams': 1}), 'Dwayne Johnson': defaultdict(<class 'int'>, {'Brad Peyton': 1, 'Adam McKay': 1, 'Brett Ratner': 1, 'Stephen Sommers': 1, 'Peter Berg': 1, 'F. Gary Gray': 1, 'Andrzej Bartkowiak': 1, 'Chuck Russell': 1, 'Jorge Blanco': 1, 'Kevin Bray': 1, 'Rawson Marshall Thurber': 1, 'Andy Fickman': 2, 'Phil Joanou': 1, 'Michael Bay': 1, 'George Tillman Jr.': 1, 'Ric Roman Waugh': 1}), 'Vincent Schiavelli': defaultdict(<class 'int'>, {'Roger Spottiswoode': 1}), 'Heath Ledger': defaultdict(<class 'int'>, {'Roland Emmerich': 1, 'Brian Helgeland': 2, 'Catherine Hardwicke': 1, 'Marc Forster': 1}), 'Kate Winslet': defaultdict(<class 'int'>, {'Robert Schwentke': 1, 'Nancy Meyers': 1, 'Neil Burger': 1, 'Steven Zaillian': 1, 'Stephen Daldry': 1, 'Roman Polanski': 1, 'Michel Gondry': 1, 'John Hillcoat': 1, 'Danny Boyle': 1, 'Todd Field': 1, 'Philip Kaufman': 1, 'John Turturro': 1, 'Richard Eyre': 1, 'Peter Jackson': 1}), 'James Corden': defaultdict(<class 'int'>, {'Rob Letterman': 1, 'Robert B. Weide': 1, 'John Carney': 1}), 'George Peppard': defaultdict(<class 'int'>, {-1: 1, 'Jack Smight': 1}), 'Eva Green': defaultdict(<class 'int'>, {'Noam Murro': 1, 'Martin Campbell': 1, 'Benedek Fliegauf': 1}), 'Mahadeo Shivraj': defaultdict(<class 'int'>, {'Raja Gosnell': 1}), 'Jacob Tremblay': defaultdict(<class 'int'>, {'Raja Gosnell': 1}), 'Jason Patric': defaultdict(<class 'int'>, {'Jan de Bont': 1, 'Nick Cassavetes': 1, 'Joe Carnahan': 1}), 'Sean Hayes': defaultdict(<class 'int'>, {'Bo Welch': 1}), 'Chazz Palminteri': defaultdict(<class 'int'>, {'Rob Minkoff': 1, 'Keenen Ivory Wayans': 1, 'Chris Weitz': 1, 'Matthew Diamond': 1, 'Paul Mazursky': 1, 'Barrett Esposito': 1, 'Mars Callahan': 1, 'Dave Rodriguez': 1}), 'Oprah Winfrey': defaultdict(<class 'int'>, {'Ron Clements': 1, 'Jonathan Demme': 1, 'Steven Spielberg': 1}), 'Mathew Buck': defaultdict(<class 'int'>, {'Christopher Barnard': 1}), 'Del Zamora': defaultdict(<class 'int'>, {'Peter Chelsom': 1, 'Alex Cox': 1}), 'Djimon Hounsou': defaultdict(<class 'int'>, {'Ridley Scott': 1, 'Stefen Fangmeier': 1, 'Stephen Sommers': 1, 'Shekhar Kapur': 1, 'Jeff Wadlow': 1, 'Julie Taymor': 1, 'Mark Neveldine': 1, 'David E. Talbert': 1}), 'Cary-Hiroyuki Tagawa': defaultdict(<class 'int'>, {'Tim Burton': 1, 'Simon Wincer': 1, 'Bernardo Bertolucci': 1, 'Lasse Hallström': 1, 'Mark L. Lester': 1}), 'Joe Morton': defaultdict(<class 'int'>, {'James Cameron': 1, 'Tom Shadyac': 1, -1: 1}), 'Denzel Washington': defaultdict(<class 'int'>, {'Ridley Scott': 1, 'Tony Scott': 4, 'Daniel Espinosa': 1, 'Albert Hughes': 1, 'Jonathan Demme': 2, 'Edward Zwick': 3, 'Baltasar Kormákur': 1, 'Antoine Fuqua': 2, 'Spike Lee': 4, 'Carl Franklin': 1, 'Phillip Noyce': 1, 'Alan J. Pakula': 1, 'Norman Jewison': 1, 'Nick Cassavetes': 1, 'Robert Zemeckis': 1, 'Brett Leonard': 1, 'Richard Attenborough': 1, 'Denzel Washington': 2}), 'Jamie Lee Curtis': defaultdict(<class 'int'>, {'James Cameron': 1, 'Joe Roth': 1, 'Mark Waters': 1, 'Raja Gosnell': 1, 'Andy Fickman': 1, 'John Carpenter': 2, 'Rick Rosenthal': 1, 'Amy Holden Jones': 1}), 'Robert De Niro': defaultdict(<class 'int'>, {'Paul Weitz': 1, 'Des McAnuff': 1, 'Bibo Bergeron': 1, 'Frank Oz': 1, 'Jay Roach': 2, 'Harold Ramis': 2, 'Jon Avnet': 1, 'John Frankenheimer': 1, 'Tony Scott': 1, 'Martin Scorsese': 7, 'Barry Levinson': 3, 'John Herzfeld': 1, 'Nancy Meyers': 1, 'Michael Caton-Jones': 1, 'Peter Segal': 1, 'Scott Mann': 1, 'George Tillman Jr.': 1, 'Martin Brest': 1, 'Nick Hamm': 1, 'Sergio Leone': 1, 'Jon Turteltaub': 1, 'Joel Schumacher': 1, 'Garry Marshall': 1, 'Brian De Palma': 1, 'John Polson': 1, 'Mary McGuckian': 1, 'John Curran': 1, 'Neil Jordan': 1, 'Kirk Jones': 1, 'Jonathan Jakubowicz': 1, 'Rodrigo Cortés': 1, 'Michael Cimino': 1, 'James Mangold': 1, 'Terry Gilliam': 1, 'Francis Ford Coppola': 1, 'Ethan Maniquis': 1, 'Quentin Tarantino': 1, 'Dan Mazer': 1}), 'Vanessa Williams': defaultdict(<class 'int'>, {'Chuck Russell': 1, 'Simon Wincer': 1, 'Gary Halvorson': 1, 'Christopher Erskin': 1, 'George Tillman Jr.': 1, 'Richard Schenkman': 1}), 'Eartha Kitt': defaultdict(<class 'int'>, {'Mark Dindal': 1}), \"Catherine O'Hara\": defaultdict(<class 'int'>, {'Spike Jonze': 1, 'Mark Dindal': 1, 'Sam Mendes': 1, 'Tim Burton': 1, 'Dean Parisot': 1, 'Christopher Guest': 1}), 'Josh Hutcherson': defaultdict(<class 'int'>, {'Chris Wedge': 1, 'Brad Peyton': 1, 'Eric Brevig': 1, 'Jesse Dylan': 1, 'Paul Weitz': 1, 'Gabor Csupo': 1, 'Andrea Di Stefano': 1, 'Joseph Kahn': 1, 'Lisa Cholodenko': 1, 'Shari Springer Berman': 1}), 'Jake Busey': defaultdict(<class 'int'>, {'Paul Verhoeven': 1}), 'Abbie Cornish': defaultdict(<class 'int'>, {'Zack Snyder': 1, 'Martin McDonagh': 1, 'Jane Campion': 1}), 'Frances Conroy': defaultdict(<class 'int'>, {'Pitof': 1, 'Anand Tucker': 1, 'Robert Cary': 1}), 'Will Ferrell': defaultdict(<class 'int'>, {'Brad Silberling': 1, 'Jay Roach': 2, 'Adam McKay': 2, 'Josh Gordon': 1, 'Kent Alterman': 1, 'Sean Anders': 1, \"Matthew O'Callaghan\": 1, 'Etan Cohen': 1, 'Marc Forster': 1, 'Todd Phillips': 1, 'Kevin Smith': 1, 'John Fortenberry': 1, 'Nick Gomez': 1, 'Bruce McCulloch': 1, 'Reginald Hudlin': 1, 'Andrew Wilson': 1, 'Matt Piedmont': 1, 'Dan Rush': 1}), 'Ray Winstone': defaultdict(<class 'int'>, {'Ericson Core': 1, 'Pierre Morel': 1, 'Liliana Cavani': 1, 'John Hillcoat': 1, 'Jason Connery': 1, 'Ian Sharp': 1, 'Jonathan Glazer': 1, 'Mora Stephens': 1, 'Antonio Simoncini': 1}), 'Jamie Kennedy': defaultdict(<class 'int'>, {'Lawrence Guterman': 1}), 'Rosario Dawson': defaultdict(<class 'int'>, {'Ron Underwood': 1, 'D.J. Caruso': 1, 'Frank Coraci': 1, 'Frank Miller': 1, 'Chris Columbus': 1, 'Harry Elfont': 1, 'Danny Boyle': 1, 'Craig Bolotin': 1, 'Chris Rock': 1, 'Kris Isacsson': 1, 'Larry Clark': 1}), 'Francesca Capaldi': defaultdict(<class 'int'>, {'Steve Martino': 1}), 'Ben Gazzara': defaultdict(<class 'int'>, {'David Mamet': 1, 'Rowdy Herrington': 1}), 'Jon Lovitz': defaultdict(<class 'int'>, {'Frank Oz': 1, 'Demian Lichtenstein': 1, 'Susan Stroman': 1, 'Dennis Dugan': 1, 'Richard Benjamin': 1, 'Gene Quintano': 1, 'Jerry Rees': 1}), 'Ioan Gruffudd': defaultdict(<class 'int'>, {'Ridley Scott': 1, 'Kevin Lima': 1, 'Alister Grierson': 1, 'Jonathan Newman': 1}), 'Milla Jovovich': defaultdict(<class 'int'>, {'Luc Besson': 1, 'Paul W.S. Anderson': 4, 'Alexander Witt': 1, 'Ben Stiller': 2, 'Russell Mulcahy': 1, 'Kurt Wimmer': 1, 'James McTeigue': 1, 'Michael Winterbottom': 1, 'William A. Graham': 1, 'Olatunde Osunsanmi': 1, 'Richard Linklater': 1}), 'Chris Noth': defaultdict(<class 'int'>, {'Michael Patrick King': 1, -1: 1, 'Daniel Sackheim': 1, 'Michael Radford': 1}), 'Frank Welker': defaultdict(<class 'int'>, {'Bibo Bergeron': 1, 'Luis Llosa': 1, 'Maurice Joyce': 1}), 'Hayley Atwell': defaultdict(<class 'int'>, {'Kenneth Branagh': 1, 'Nick Love': 1}), 'Michael Imperioli': defaultdict(<class 'int'>, {'Peter Jackson': 1, 'Brad Anderson': 1, 'Cheryl Dunye': 1, 'Spike Lee': 1}), 'Alexander Gould': defaultdict(<class 'int'>, {'Andrew Stanton': 1, 'Robert Harmon': 1}), 'Orlando Bloom': defaultdict(<class 'int'>, {'Peter Jackson': 1, 'Cameron Crowe': 1, 'Jérôme Salle': 1}), 'Michael Jeter': defaultdict(<class 'int'>, {'Joe Johnston': 1, 'Anthony Russo': 1}), 'James Franco': defaultdict(<class 'int'>, {'Rupert Wyatt': 1, 'Ryan Murphy': 1, 'Tony Bill': 1, 'John Dahl': 1, 'Evan Goldberg': 1, 'Greg Tiernan': 1, 'David Gordon Green': 1, 'Paul Haggis': 1, 'Gus Van Sant': 1, 'Danny Boyle': 1, 'David Raynr': 1, 'Harmony Korine': 1, 'Karen Moncrieff': 1, 'Gia Coppola': 1}), 'Martin Short': defaultdict(<class 'int'>, {'Mark Waters': 1, 'Brenda Chapman': 1, 'John A. Davis': 1, 'John Blanchard': 1}), 'Dennis Quaid': defaultdict(<class 'int'>, {'John Lee Hancock': 2, 'John Moore': 1, 'Lawrence Kasdan': 1, 'Rob Cohen': 1, 'Pete Travis': 1, 'Gary Fleder': 1, 'Gregory Hoblit': 1, 'Philip Kaufman': 1, 'Scott Stewart': 1, 'Sean McNamara': 1, 'Todd Haynes': 1, 'Walter Hill': 1}), 'Holly Hunter': defaultdict(<class 'int'>, {'Brad Bird': 1, 'Nick Hurran': 1, 'Joel Coen': 1, 'Daniel Barnz': 1, 'Richard LaGravenese': 1, 'Jane Campion': 1, -1: 1, 'Catherine Hardwicke': 1}), 'Christopher Masterson': defaultdict(<class 'int'>, {'Renny Harlin': 1}), 'Logan Lerman': defaultdict(<class 'int'>, {'Chris Columbus': 1, 'Thor Freudenthal': 1, 'Joel Schumacher': 1, 'James Schamus': 1, 'Wil Shriner': 1, 'Eric Bress': 1, 'Stephen Chbosky': 1}), 'Mei Melançon': defaultdict(<class 'int'>, {'Brett Ratner': 1}), 'Will Forte': defaultdict(<class 'int'>, {'Phil Lord': 1, 'Cody Cameron': 1, 'Akiva Schaffer': 1}), 'Denis Leary': defaultdict(<class 'int'>, {'Carlos Saldanha': 2}), 'Adam Scott': defaultdict(<class 'int'>, {'Ben Stiller': 1, 'Robert Luketic': 1, 'Alexandre Aja': 1, 'Anand Tucker': 1, 'Michael Dougherty': 1, 'Steve Pink': 1, 'Richard Shepard': 1, 'Nicholas Fackler': 1}), 'Bill Murray': defaultdict(<class 'int'>, {'McG': 1, 'Peter Segal': 1, 'Joe Pytka': 1, 'George Clooney': 1, 'Tim Hill': 1, 'Peter Hewitt': 1, 'Wes Anderson': 5, 'Bobby Farrelly': 2, 'Gil Kenan': 1, 'Richard Donner': 1, 'Tim Robbins': 1, 'Frank Oz': 1, 'John McNaughton': 1, 'Jon Amiel': 1, 'Sydney Pollack': 1, 'Harold Ramis': 2, 'Theodore Melfi': 1, 'Ivan Reitman': 1, 'Don Kempf': 1, 'Aaron Schneider': 1}), 'Ming-Na Wen': defaultdict(<class 'int'>, {'Tony Bancroft': 1, 'Steven E. de Souza': 1, 'Nelson McCormick': 1}), 'Leonard Nimoy': defaultdict(<class 'int'>, {'Gary Trousdale': 1, 'Robert Wise': 1, 'William Shatner': 1, 'Nicholas Meyer': 2, 'Leonard Nimoy': 2, 'Wayne Thornley': 1}), 'Bella Thorne': defaultdict(<class 'int'>, {'Walt Becker': 1, 'Frank Coraci': 1, 'Miguel Arteta': 1, 'Ari Sandel': 1, 'Tyler Oliver': 1}), 'Adam Sandler': defaultdict(<class 'int'>, {'Dennis Dugan': 3, 'Frank Coraci': 2, 'Peter Segal': 2, 'Adam Shankman': 1, 'Steven Brill': 1, 'James L. Brooks': 1, 'Judd Apatow': 1, 'Sean Anders': 1, 'Paul Thomas Anderson': 1, 'Mike Binder': 1}), 'Haley Joel Osment': defaultdict(<class 'int'>, {'Steven Spielberg': 1, 'Norman Jewison': 1, 'Tim McCanlies': 1, 'Steve Trenbirth': 1, 'Peter Hastings': 1}), 'Marsha Thomason': defaultdict(<class 'int'>, {'Rob Minkoff': 1}), 'Greg Grunberg': defaultdict(<class 'int'>, {'Paul Verhoeven': 1, 'John Whitesell': 1}), 'Curtiss Cook': defaultdict(<class 'int'>, {'Sydney Pollack': 1}), 'Alun Armstrong': defaultdict(<class 'int'>, {'Phillip Noyce': 1}), 'Don Cheadle': defaultdict(<class 'int'>, {'Brian De Palma': 1, 'Mick Jackson': 1, 'Thor Freudenthal': 1, 'Steven Soderbergh': 1, 'Terry George': 1, 'Antoine Fuqua': 1, 'Paul Thomas Anderson': 1, 'Paul Haggis': 1, 'John Michael McDonagh': 1}), 'Anne Hathaway': defaultdict(<class 'int'>, {'Carlos Saldanha': 1, 'Garry Marshall': 2, \"Tommy O'Haver\": 1, 'Gary Winick': 1, 'Cory Edwards': 1, 'Julian Jarrold': 1, 'Lone Scherfig': 1, 'Jonathan Demme': 1, 'Mitch Davis': 1, 'Kate Barker-Froyland': 1, -1: 1}), 'William Smith': defaultdict(<class 'int'>, {'John Milius': 1, 'Scott Ziehl': 1}), 'Paddy Considine': defaultdict(<class 'int'>, {'Ron Howard': 1, 'Jamie Thraves': 1, 'Pawel Pawlikowski': 1, 'Shane Meadows': 1}), 'Shirley Henderson': defaultdict(<class 'int'>, {'Andrey Konchalovskiy': 1, 'Sally Potter': 1, -1: 1}), 'Jeff Bennett': defaultdict(<class 'int'>, {'Kevin Lima': 1}), 'Caroline Dhavernas': defaultdict(<class 'int'>, {-1: 1, 'Josh Gordon': 1}), 'Meryl Streep': defaultdict(<class 'int'>, {'Nancy Meyers': 1, 'Curtis Hanson': 1, 'Nora Ephron': 1, 'David Frankel': 2, 'Robert Redford': 1, 'Sydney Pollack': 1, 'Carl Franklin': 1, 'Stephen Frears': 1, 'Stephen Daldry': 1, 'Phyllida Lloyd': 1, 'Robert Altman': 1, 'Fred Zinnemann': 1}), 'Al Pacino': defaultdict(<class 'int'>, {'Steven Soderbergh': 1, 'Dennis Dugan': 1, 'Michael Mann': 1, 'Oliver Stone': 1, 'Francis Ford Coppola': 2, 'Christopher Nolan': 1, 'Harold Becker': 2, 'Jon Avnet': 1, 'Michael Radford': 1, 'Brian De Palma': 1, 'Daniel Algrant': 1, 'Shintaro Shimosawa': 1, 'Dan Fogelman': 1}), 'Jon Favreau': defaultdict(<class 'int'>, {'Roger Allers': 1, 'Seth Gordon': 2, 'Peter Billingsley': 1, 'Peyton Reed': 1, 'Peter Berg': 1, 'Hart Bochner': 1, 'Jon Favreau': 1, 'Doug Liman': 1}), 'Bob Hoskins': defaultdict(<class 'int'>, {'Jean-Jacques Annaud': 1, 'Wayne Wang': 1, 'Annabel Jankel': 1, 'Stephen Frears': 1, 'Atom Egoyan': 1, 'Fred Schepisi': 1, 'Nigel Cole': 1, 'Sacha Bennett': 1, 'Shane Meadows': 2}), 'F. Murray Abraham': defaultdict(<class 'int'>, {'John McTiernan': 1, 'Gus Van Sant': 1}), 'Li Gong': defaultdict(<class 'int'>, {'Rob Marshall': 1, 'Pou-Soi Cheang': 1, 'Peter Webber': 1, 'Yimou Zhang': 2, 'Kar-Wai Wong': 1}), 'Amber Stevens West': defaultdict(<class 'int'>, {'Justin Lin': 1}), 'Raymond Cruz': defaultdict(<class 'int'>, {'Andrew Davis': 1}), 'Roy Scheider': defaultdict(<class 'int'>, {'Bob Fosse': 1, 'William Friedkin': 2, 'Jeannot Szwarc': 1, 'Steven Spielberg': 1}), 'Julia Roberts': defaultdict(<class 'int'>, {'Tarsem Singh': 1, 'Richard Donner': 1, 'Garry Marshall': 2, 'Mike Newell': 1, 'Tony Gilroy': 1, 'Steven Soderbergh': 2, 'Chris Columbus': 1, 'Stephen Frears': 1, 'P.J. Hogan': 1, 'Joe Roth': 1, 'Roger Michell': 1, 'Jodie Foster': 1, 'Joel Schumacher': 1, 'Billy Ray': 1, 'Donald Petrie': 1}), 'Anna Kendrick': defaultdict(<class 'int'>, {'Edgar Wright': 1, 'Chris Butler': 1, 'Kirk Jones': 1, 'Elizabeth Banks': 1, 'Jason Moore': 1, 'Richard LaGravenese': 1, 'Joe Swanberg': 1}), 'Larry Miller': defaultdict(<class 'int'>, {'Peter Segal': 1, 'James Dodson': 1}), 'Sarah Michelle Gellar': defaultdict(<class 'int'>, {'Raja Gosnell': 2, 'Paul Bolger': 1, 'Takashi Shimizu': 2, 'Roger Kumble': 1, 'Emily Young': 1, -1: 1, 'Mark Tarlov': 1, 'James Toback': 1}), 'Wood Harris': defaultdict(<class 'int'>, {'Pete Travis': 1}), 'Ted Danson': defaultdict(<class 'int'>, {'George A. Romero': 1, 'Ken Kwapis': 1}), 'Kristen Stewart': defaultdict(<class 'int'>, {'Doug Liman': 1, 'Jon Favreau': 1, 'David Fincher': 1, 'Catherine Hardwicke': 1, 'Walter Salles': 1, 'Sean Penn': 1, 'Bart Freundlich': 1, 'Udayan Prasad': 1, 'Jon Kasdan': 1, 'Jake Scott': 1, 'Greg Mottola': 1, 'Floria Sigismondi': 1, 'Richard Glatzer': 1}), 'Seth MacFarlane': defaultdict(<class 'int'>, {'Guillermo del Toro': 1}), 'Robert Duvall': defaultdict(<class 'int'>, {'Roger Spottiswoode': 2, 'Steven Zaillian': 1, 'Jon Turteltaub': 1, 'James Gray': 1, 'Kevin Costner': 1, 'Billy Bob Thornton': 1, 'Sidney Lumet': 1, 'Robert Mulligan': 1}), 'Tia Carrere': defaultdict(<class 'int'>, {'Dean DeBlois': 1, 'Penelope Spheeris': 1, 'Myles Berkowitz': 1}), 'Elden Henson': defaultdict(<class 'int'>, {-1: 1, 'Troy Miller': 1}), 'Roger Rees': defaultdict(<class 'int'>, {'Shawn Levy': 1, 'Oliver Hirschbiegel': 1, 'Robin Budd': 1}), 'Vanessa Redgrave': defaultdict(<class 'int'>, {'Henry Jaglom': 1, 'Gary Winick': 1, 'Roland Emmerich': 1, 'James Ivory': 1}), 'Elizabeth Montgomery': defaultdict(<class 'int'>, {-1: 1}), 'Quincy Jones': defaultdict(<class 'int'>, {'James Algar': 1}), 'Charlize Theron': defaultdict(<class 'int'>, {'Ron Underwood': 1, 'Karyn Kusama': 1, 'John Frankenheimer': 1, 'James Gray': 1, 'Jason Reitman': 1, 'Patty Jenkins': 1}), 'Michael Emerson': defaultdict(<class 'int'>, {'Martin Campbell': 1, 'Jay Oliva': 1, 'James Wan': 1}), 'Nissim Renard': defaultdict(<class 'int'>, {'Lucile Hadzihalilovic': 1}), 'Bruce Greenwood': defaultdict(<class 'int'>, {'Roger Donaldson': 1, 'Bruce Beresford': 2, 'Frederik Du Chau': 1, 'David Nutter': 1, 'Mark Piznarski': 1, 'Guy Ritchie': 1, 'Atom Egoyan': 2, 'Kelly Reichardt': 1, 'Andrew Niccol': 1}), 'Sylvester Stallone': defaultdict(<class 'int'>, {'Rob Cohen': 1, 'Renny Harlin': 2, 'Mikael Håfström': 1, 'Eric Darnell': 1, 'Peter MacDonald': 1, 'Andrey Konchalovskiy': 1, 'Jim Gillespie': 1, 'Walter Hill': 1, 'Ted Kotcheff': 1, 'Luis Llosa': 1, 'George P. Cosmatos': 1, 'Robert Rodriguez': 1, 'Stephen Kay': 1, 'Ryan Coogler': 1, 'Sylvester Stallone': 1, 'Norman Jewison': 1, 'Bruce Malmuth': 1, 'John G. Avildsen': 1, 'Paul Bartel': 1}), 'Charlie Rowe': defaultdict(<class 'int'>, {'Barry Cook': 1}), 'Richard Tyson': defaultdict(<class 'int'>, {'Roger Christian': 1, 'Ivan Reitman': 1, 'Terron R. Parsons': 1}), 'Brendan Fraser': defaultdict(<class 'int'>, {'Joe Dante': 1, 'Henry Selick': 1, 'Iain Softley': 1, 'Sam Weisman': 1, 'Harold Ramis': 1, 'Cal Brunker': 1, 'Hugh Wilson': 2, 'Roger Kumble': 1, 'Richard Benjamin': 1, 'Phillip Noyce': 1, 'Bill Condon': 1}), 'Fergie': defaultdict(<class 'int'>, {'Rob Marshall': 1}), 'Olivia Williams': defaultdict(<class 'int'>, {'Kevin Costner': 1, \"Thaddeus O'Sullivan\": 1}), 'Adam Goldberg': defaultdict(<class 'int'>, {'George Miller': 1, 'Ron Howard': 1, 'Bibo Bergeron': 1, 'William Brent Bell': 1, 'D.J. Caruso': 1}), 'Bob Neill': defaultdict(<class 'int'>, {'Antony Hoffman': 1}), 'Mia Farrow': defaultdict(<class 'int'>, {'Luc Besson': 1, 'Nadia Tass': 1}), 'Pedro Armendáriz Jr.': defaultdict(<class 'int'>, {'Jacques Perrin': 1}), 'David Oyelowo': defaultdict(<class 'int'>, {'Peter Hyams': 1, 'Anthony Hemingway': 1, 'Ava DuVernay': 1, 'J.C. Chandor': 1, 'Kevin Macdonald': 1, 'Jerry Jameson': 1}), 'Sasha Roiz': defaultdict(<class 'int'>, {'Paul W.S. Anderson': 1}), 'Sariann Monaco': defaultdict(<class 'int'>, {'Andrés Couturier': 1}), 'Steve Coogan': defaultdict(<class 'int'>, {'Yarrow Cheney': 1, 'Frank Oz': 1, 'Stephen Frears': 1, 'Andrew Fleming': 1, 'Michael Winterbottom': 1}), 'Jason Flemyng': defaultdict(<class 'int'>, {'Stephen Norrington': 1, -1: 1, 'Alexandre Aja': 1, 'Don Mancini': 1, 'Oleg Stepchenko': 1, 'Bob Spiers': 1, 'Jonathan English': 1}), 'Steve Carell': defaultdict(<class 'int'>, {'Pierre Coffin': 2, 'Kyle Balda': 1, 'Jay Roach': 1, 'Judd Apatow': 1, 'Joe Nussbaum': 1, 'Lorene Scafaria': 1, 'Jonathan Dayton': 1, 'Peter Sollett': 1, 'Nat Faxon': 1}), 'Ariana Richards': defaultdict(<class 'int'>, {'Steven Spielberg': 1, 'Patrick Read Johnson': 1}), 'Jerry Stiller': defaultdict(<class 'int'>, {'Adam Shankman': 1, 'Lawrence Kasanoff': 1, 'Eric Bross': 1}), 'Harold Perrineau': defaultdict(<class 'int'>, {-1: 1, 'Bob Rafelson': 1, 'Malcolm D. Lee': 2, 'Fina Torres': 1}), 'Nicholas Lea': defaultdict(<class 'int'>, {'Martin Campbell': 1}), 'Loretta Devine': defaultdict(<class 'int'>, {'Bill Condon': 1, 'John Ottman': 1, 'Michael Schultz': 1}), 'Adam Arkin': defaultdict(<class 'int'>, {-1: 1, 'Diane Keaton': 1}), 'Ayelet Zurer': defaultdict(<class 'int'>, {'Steven Spielberg': 1}), 'Tom Selleck': defaultdict(<class 'int'>, {'Robert Luketic': 1, 'Frank Oz': 1, 'Leonard Nimoy': 1}), 'Julia Ormond': defaultdict(<class 'int'>, {'Jerry Zucker': 1, 'Patricia Rozema': 1}), 'Bai Ling': defaultdict(<class 'int'>, {'Andy Tennant': 1}), 'Connie Nielsen': defaultdict(<class 'int'>, {'Paul W.S. Anderson': 1, 'William Friedkin': 1, 'John McTiernan': 1, 'McG': 1, 'Vic Sarin': 1}), 'Christopher Meloni': defaultdict(<class 'int'>, {'David Pastor': 1, 'Lana Wachowski': 1, 'David Wain': 1}), 'Peter Coyote': defaultdict(<class 'int'>, {'Barry Levinson': 1, 'Brian De Palma': 1, 'Michael Polish': 1}), 'Raven-Symoné': defaultdict(<class 'int'>, {'Steve Carr': 1}), 'Mhairi Calvey': defaultdict(<class 'int'>, {'Mel Gibson': 1}), 'Albert Brooks': defaultdict(<class 'int'>, {'David Silverman': 1, 'Joe Dante': 1}), 'Martin Landau': defaultdict(<class 'int'>, {'Frank Darabont': 1, 'Rob Bowman': 1, 'Joseph L. Mankiewicz': 1, 'Tim Burton': 1, 'Shane Acker': 1, 'Steve Barron': 1, 'George Stevens': 1, 'Ronald Neame': 1, 'Daniel Davila': 1}), 'David Gant': defaultdict(<class 'int'>, {'Jean-Jacques Annaud': 1}), 'Rory Culkin': defaultdict(<class 'int'>, {'M. Night Shyamalan': 1, 'Arie Posin': 1, 'Jacob Aaron Estes': 1}), 'Rupert Everett': defaultdict(<class 'int'>, {'Andrew Adamson': 1}), 'Tim Conway': defaultdict(<class 'int'>, {'Paul Tibbitt': 1, -1: 1}), 'Lili Taylor': defaultdict(<class 'int'>, {'Ron Howard': 1}), 'Nicole Beharie': defaultdict(<class 'int'>, {-1: 1, 'Stefan C. Schaefer': 1}), 'Sanaa Lathan': defaultdict(<class 'int'>, {'Paul W.S. Anderson': 1, 'Stephen Norrington': 1}), 'LeVar Burton': defaultdict(<class 'int'>, {'Jonathan Frakes': 2, 'David Carson': 1, -1: 1}), 'David Hyde Pierce': defaultdict(<class 'int'>, {'Mike Nichols': 1, 'Nick Tomnay': 1}), 'Jeremy Irvine': defaultdict(<class 'int'>, {'Steven Spielberg': 1, 'Jonathan Teplitzky': 1, 'Roland Emmerich': 1, 'Ol Parker': 1}), 'Michael Biehn': defaultdict(<class 'int'>, {'James Cameron': 3, 'William Friedkin': 1, 'Christian Duguay': 1, 'Jonathan Frakes': 1, 'George P. Cosmatos': 1, 'Brian Trenchard-Smith': 1, 'Xavier Gens': 1}), 'Frank Langella': defaultdict(<class 'int'>, {'Oliver Stone': 1, 'Richard Kelly': 1, 'Franklin J. Schaffner': 1, 'Jake Schreier': 1}), 'Gary Cole': defaultdict(<class 'int'>, {'Betty Thomas': 1, 'Tim Hill': 1, 'Rawson Marshall Thurber': 1, 'Ben Falcone': 1, 'Sam Raimi': 1, 'Mike Judge': 1, 'Mitch Davis': 1}), 'Theo James': defaultdict(<class 'int'>, {'Måns Mårlind': 1}), 'James Martin Kelly': defaultdict(<class 'int'>, {'Adam Shankman': 1}), 'LL Cool J': defaultdict(<class 'int'>, {'John McTiernan': 1, 'Renny Harlin': 2, 'Wayne Wang': 1, 'Daisy von Scherler Mayer': 1, 'Michael Rymer': 1}), 'Talisa Soto': defaultdict(<class 'int'>, {'Wych Kaosayananda': 1}), 'Ron Howard': defaultdict(<class 'int'>, {'Bobby Farrelly': 1}), 'Lea Michele': defaultdict(<class 'int'>, {'Will Finn': 1, 'Kevin Tancharoen': 1}), 'Charlotte Rampling': defaultdict(<class 'int'>, {'Michael Caton-Jones': 1, 'Norman Jewison': 1, 'Sidney Lumet': 1, 'François Ozon': 1, 'Hans Petter Moland': 1, 'Jean-Jacques Mantello': 1}), 'Roxanne McKee': defaultdict(<class 'int'>, {'Renny Harlin': 1}), 'Vincent Pastore': defaultdict(<class 'int'>, {'Joseph Ruben': 1, 'Rob Pritts': 1, 'James Melkonian': 1, 'Danny Provenzano': 1}), 'Max Minghella': defaultdict(<class 'int'>, {'Alejandro Amenábar': 1, 'Chris Gorak': 1}), 'Jenna Fischer': defaultdict(<class 'int'>, {'Bobby Farrelly': 1, 'Brian Koppelman': 1, 'Bob Odenkirk': 1}), 'Michael Raymond-James': defaultdict(<class 'int'>, {'Craig Gillespie': 1}), 'Rufus Sewell': defaultdict(<class 'int'>, {'Timur Bekmambetov': 1, 'Chuck Russell': 1, 'Christian Duguay': 1, 'Alex Proyas': 1, 'Neil Burger': 1, 'Edward Hall': 1}), 'Will Patton': defaultdict(<class 'int'>, {'Jon Amiel': 1}), 'Hector Elizondo': defaultdict(<class 'int'>, {-1: 1, 'Robert Butler': 1, 'Garry Marshall': 1, 'Jesse Dylan': 1}), 'Colin Firth': defaultdict(<class 'int'>, {'Doug Lefler': 1, 'Phyllida Lloyd': 1, 'Beeban Kidron': 1, 'Richard Curtis': 1, 'Anthony Minghella': 1, 'Sharon Maguire': 1, 'Kirk Jones': 1, 'Dennie Gordon': 1, 'Atom Egoyan': 1, 'Rowan Joffe': 1, 'Tom Hooper': 1, 'Oliver Parker': 1, 'Stephan Elliott': 1, 'Anand Tucker': 1, 'Tom Ford': 1}), 'Rami Malek': defaultdict(<class 'int'>, {'Scott Waugh': 1, 'Spike Lee': 1}), 'Goran Visnjic': defaultdict(<class 'int'>, {'Chris Wedge': 1, 'Griffin Dunne': 1, 'Mike Mills': 1}), 'Judge Reinhold': defaultdict(<class 'int'>, {'Michael Lembeck': 1, 'John Pasquin': 1, 'Martin Brest': 1}), 'Finn Wittrock': defaultdict(<class 'int'>, {'Angelina Jolie Pitt': 1}), 'Clint Eastwood': defaultdict(<class 'int'>, {'Clint Eastwood': 10, 'Robert Lorenz': 1, 'Joshua Logan': 1, 'Don Siegel': 1, 'Ted Post': 1, 'Sergio Leone': 2}), 'Delroy Lindo': defaultdict(<class 'int'>, {'John Woo': 1, 'Taylor Hackford': 1, 'Barry Sonnenfeld': 1, 'David Webb Peoples': 1}), 'Sayed Badreya': defaultdict(<class 'int'>, {'Larry Charles': 1}), 'Quvenzhané Wallis': defaultdict(<class 'int'>, {'Will Gluck': 1, 'Steve McQueen': 1, 'Benh Zeitlin': 1}), 'Lea Thompson': defaultdict(<class 'int'>, {'John Milius': 1, 'Robert Zemeckis': 3, 'Willard Huyck': 1, 'Alex Ranarivelo': 1}), 'Maura Tierney': defaultdict(<class 'int'>, {'Mike Nichols': 1, 'Tom Shadyac': 1}), 'Melina Kanakaredes': defaultdict(<class 'int'>, {'Renny Harlin': 1}), 'Pamela Reed': defaultdict(<class 'int'>, {'Taylor Hackford': 1}), 'Michael Rapaport': defaultdict(<class 'int'>, {'Nora Ephron': 1, 'Paul Feig': 1, 'Marc Bennett': 1, 'Hal Haberman': 1}), 'Caitlin Stasey': defaultdict(<class 'int'>, {'Stuart Beattie': 1}), 'Ian McNeice': defaultdict(<class 'int'>, {'Roman Polanski': 1}), 'Michael Kelly': defaultdict(<class 'int'>, {'Baltasar Kormákur': 1, 'Marc Lawrence': 1, 'Josh Trank': 1, 'Peter Stebbings': 1}), 'Michael Smiley': defaultdict(<class 'int'>, {'Tom Tykwer': 1, 'Edgar Wright': 1, 'Ben Wheatley': 1}), 'Verne Troyer': defaultdict(<class 'int'>, {'Jay Roach': 1}), 'Wayne Knight': defaultdict(<class 'int'>, {'Steven Spielberg': 1}), 'Si Won Choi': defaultdict(<class 'int'>, {'Daniel Lee': 1}), 'Shawna Waldron': defaultdict(<class 'int'>, {'Rob Reiner': 1}), 'Craig Stark': defaultdict(<class 'int'>, {'Quentin Tarantino': 1}), 'Eric Dane': defaultdict(<class 'int'>, {'David Frankel': 1, 'Steve Antin': 1, 'Rich Cowan': 1}), 'Jill Hennessy': defaultdict(<class 'int'>, {'Walt Becker': 1}), 'Patrick Fugit': defaultdict(<class 'int'>, {'David Fincher': 1, 'Peter Kosminsky': 1, 'Jonas Åkerlund': 1}), 'Izabella Scorupco': defaultdict(<class 'int'>, {'Martin Campbell': 1}), 'Daniel von Bargen': defaultdict(<class 'int'>, {'Simon West': 1}), 'Natascha McElhone': defaultdict(<class 'int'>, {'Peter Weir': 1, 'William Malone': 1}), 'Anjelica Huston': defaultdict(<class 'int'>, {'Steve Carr': 1, 'Barry Sonnenfeld': 1, 'Andy Tennant': 1, 'Bob Rafelson': 1, 'Mira Nair': 1, 'Stewart Raffill': 1, 'Clark Gregg': 1, 'Vincent Gallo': 1}), 'Carol Ann Susi': defaultdict(<class 'int'>, {'Lawrence Guterman': 1}), 'Dorian Missick': defaultdict(<class 'int'>, {'Marc Lawrence': 1, -1: 1, 'Qasim Basir': 1}), 'Taylor Lautner': defaultdict(<class 'int'>, {'Adam Shankman': 1, 'Frank Coraci': 1, 'Robert Rodriguez': 1}), 'Ki Hong Lee': defaultdict(<class 'int'>, {'Wes Ball': 2}), 'Billy Burke': defaultdict(<class 'int'>, {'Jay Russell': 1, 'Gregory Hoblit': 1, 'Robert Towne': 1, 'Charles Matthau': 1, 'David F. Sandberg': 1, -1: 1}), 'Misha Gabriel Hamilton': defaultdict(<class 'int'>, {'Kenny Ortega': 1}), 'Estella Warren': defaultdict(<class 'int'>, {'David McNally': 1, 'Wayne Kramer': 1}), 'Jennifer Saunders': defaultdict(<class 'int'>, {'Henry Selick': 1}), 'Zooey Deschanel': defaultdict(<class 'int'>, {'M. Night Shyamalan': 1, 'Garth Jennings': 1, 'Barry Sonnenfeld': 1, 'Lawrence Kasdan': 1, 'Ed Decter': 1, 'Michael Clancy': 1, 'Jesse Peretz': 1, 'Adam Rapp': 1, 'David Gordon Green': 1}), 'Snoop Dogg': defaultdict(<class 'int'>, {'Todd Phillips': 1, 'Alan Jacobs': 1}), 'Jim Belushi': defaultdict(<class 'int'>, {'Brian Levant': 1, 'Roman Polanski': 1, 'John Pasquin': 1, 'Oliver Stone': 1}), 'James Babson': defaultdict(<class 'int'>, {'Guillermo del Toro': 1}), 'Ivana Milicevic': defaultdict(<class 'int'>, {'John Woo': 1, 'Charles Robert Carner': 1, 'Jeff Franklin': 1}), 'Emma Watson': defaultdict(<class 'int'>, {'Sam Fell': 1, 'Alejandro Amenábar': 1}), 'Bianca Kajlich': defaultdict(<class 'int'>, {-1: 1, 'Ruben Fleischer': 1}), 'Romany Malco': defaultdict(<class 'int'>, {'Kevin Donovan': 1, 'Tim Story': 1}), 'Peter Greene': defaultdict(<class 'int'>, {'Geoff Murphy': 1, 'Les Mayfield': 1, 'Chuck Russell': 1, 'Ash Baron-Cohen': 1}), 'Colm Feore': defaultdict(<class 'int'>, {'Kenneth Branagh': 1, 'Rob Marshall': 1, 'Kasi Lemmons': 1, 'Erik Canuel': 1}), 'Gary Dourdan': defaultdict(<class 'int'>, {'Jean-Pierre Jeunet': 1, 'Gary Fleder': 1, 'Salim Akil': 1}), 'Tate Donovan': defaultdict(<class 'int'>, {'Antoine Fuqua': 1}), 'Isaac Hempstead Wright': defaultdict(<class 'int'>, {'Graham Annable': 1, 'Nick Murphy': 1}), 'Eileen Brennan': defaultdict(<class 'int'>, {'John Pasquin': 1, 'Howard Zieff': 1, 'Victor Salva': 1, 'George Roy Hill': 1}), 'Ryan Gosling': defaultdict(<class 'int'>, {'Ruben Fleischer': 1, 'Glenn Ficarra': 1, 'Barbet Schroeder': 1, 'Boaz Yakin': 1, 'Nick Cassavetes': 1, 'Adam McKay': 1, 'George Clooney': 1, 'Andrew Jarecki': 1, 'Nicolas Winding Refn': 2, 'Derek Cianfrance': 2, 'Craig Gillespie': 1, 'Henry Bean': 1, 'Ryan Fleck': 1, 'Alex Smith': 1}), 'Olivia Wilde': defaultdict(<class 'int'>, {'Harold Ramis': 1, 'Paul Haggis': 1, 'Jessie Nelson': 1, 'David Gelb': 1, 'Joe Swanberg': 1, 'Hans Canosa': 1}), 'Steven Anthony Lawrence': defaultdict(<class 'int'>, {'Donald Petrie': 1}), 'Blair Brown': defaultdict(<class 'int'>, {'Clark Johnson': 1}), 'Cedric the Entertainer': defaultdict(<class 'int'>, {'Joel Coen': 1, 'Darnell Martin': 1}), 'Bojana Novakovic': defaultdict(<class 'int'>, {'Martin Campbell': 1, 'Sam Raimi': 1, 'John Erick Dowdle': 1}), 'John Kapelos': defaultdict(<class 'int'>, {'Peter Hyams': 1}), 'Sunny Mabrey': defaultdict(<class 'int'>, {'Lee Tamahori': 1}), 'Josh Wingate': defaultdict(<class 'int'>, {'Scott Stewart': 1}), 'Sean Pertwee': defaultdict(<class 'int'>, {'Paul W.S. Anderson': 1, 'Danny Cannon': 1, 'Martyn Pick': 1, 'Gary Sinyor': 1}), 'Clifton Collins Jr.': defaultdict(<class 'int'>, {'Rod Lurie': 1, 'William Dear': 1, 'Christine Jeffs': 1, 'Benni Diez': 1, 'Brandon Trost': 1}), 'Robert Forster': defaultdict(<class 'int'>, {'Walter Hill': 1, 'Bobby Farrelly': 1, 'Hyung-rae Shim': 1, 'Gary Nelson': 1}), 'Matt Bomer': defaultdict(<class 'int'>, {'Akiva Goldsman': 1, 'Andrew Niccol': 1, 'Jonathan Liebesman': 1, 'Gregory Jacobs': 1}), 'Marc Blucas': defaultdict(<class 'int'>, {'Brian Robbins': 1, 'Michael Tollin': 1, 'Robby Henson': 1}), 'Dougray Scott': defaultdict(<class 'int'>, {'Walter Salles': 1}), 'Kelly Preston': defaultdict(<class 'int'>, {'Stephen Herek': 1, 'Steve Oedekerk': 1, 'Julie Anne Robinson': 1, 'Ivan Reitman': 1}), 'Odeya Rush': defaultdict(<class 'int'>, {'Rob Letterman': 1}), 'Nate Richert': defaultdict(<class 'int'>, {-1: 1}), 'Jon Heder': defaultdict(<class 'int'>, {'Mark Waters': 1, 'Todd Phillips': 1, 'Lijun Sun': 1, 'Jared Hess': 1}), 'Taylor Negron': defaultdict(<class 'int'>, {'Brian Levant': 1, 'Amy Heckerling': 1, 'Alex Zamm': 1, 'Lance Kawas': 1}), 'Robert Baker': defaultdict(<class 'int'>, {'George Clooney': 1}), 'Barry Corbin': defaultdict(<class 'int'>, {-1: 1, 'Tommy Lee Jones': 1, 'Steve Rash': 1, 'Robert M. Young': 1, 'Kirk Loudon': 1}), 'Jesse McCartney': defaultdict(<class 'int'>, {'Tim Hill': 1, 'Bradley Parker': 1}), 'Marlon Brando': defaultdict(<class 'int'>, {'Richard Donner': 1, 'John Frankenheimer': 1, 'Elia Kazan': 2}), 'Alyson Hannigan': defaultdict(<class 'int'>, {'Jesse Dylan': 1, 'Jon Hurwitz': 1, 'J.B. Rogers': 1, 'Aaron Seltzer': 1, 'Robert Iscove': 1, 'Alan Cohn': 1, 'Paul Weitz': 1, 'Bob Saget': 1}), 'Mila Kunis': defaultdict(<class 'int'>, {'Shawn Levy': 1, 'Seth MacFarlane': 1, 'Will Gluck': 1, 'John Moore': 1, 'Nicholas Stoller': 1, 'Guillaume Canet': 1, 'Jon Lucas': 1, \"Tommy O'Haver\": 1}), 'Eric Idle': defaultdict(<class 'int'>, {'Brad Silberling': 1, 'Marc F. Adler': 1, 'Arthur Hiller': 1, 'Terry Gilliam': 1}), 'Erika Christensen': defaultdict(<class 'int'>, {'Robert Schwentke': 1, 'Bob Dolman': 1, 'John Polson': 1}), 'David Carradine': defaultdict(<class 'int'>, {'Quentin Tarantino': 1, 'Jason Friedberg': 1, 'Steve Carver': 1}), 'Christopher Judge': defaultdict(<class 'int'>, {-1: 1, 'David Hewlett': 1}), 'Xander Berkeley': defaultdict(<class 'int'>, {'Tom Dey': 1}), 'Madeline Carroll': defaultdict(<class 'int'>, {'Mark Waters': 1, 'Brian Levant': 1, 'Joshua Michael Stern': 1, 'Simon West': 1, 'Rob Reiner': 1}), 'Charles S. Dutton': defaultdict(<class 'int'>, {'David Fincher': 1}), 'Andrea Corr': defaultdict(<class 'int'>, {'Alan Parker': 1}), 'Tom Wilkinson': defaultdict(<class 'int'>, {'Stephen Hopkins': 1, 'Gil Junger': 1, 'Ken Scott': 1, 'John Madden': 3, 'Tony Gilroy': 1, 'Alejandro Monteverde': 1, 'Scott Derrickson': 1, 'Gillian Armstrong': 1, 'Peter Cattaneo': 1, 'Todd Field': 1}), 'Julie Walters': defaultdict(<class 'int'>, {'Paul King': 1, 'John Crowley': 1, 'Stephen Daldry': 1}), 'Eddie Redmayne': defaultdict(<class 'int'>, {'Shekhar Kapur': 1, 'James Marsh': 1, 'Simon Curtis': 1, 'Tom Kalin': 1}), 'Billy Campbell': defaultdict(<class 'int'>, {'Ron Maxwell': 1}), 'Stephen Root': defaultdict(<class 'int'>, {'Karey Kirkpatrick': 1, 'Kevin Smith': 1, 'Ridley Scott': 1, 'Callie Khouri': 1, 'Jeff Lowell': 1}), 'Sophia Myles': defaultdict(<class 'int'>, {'Jonathan Frakes': 1, 'Len Wiseman': 2}), 'Denis Lavant': defaultdict(<class 'int'>, {'Jean-Pierre Jeunet': 1, 'Christophe Ali': 1}), 'James Mason': defaultdict(<class 'int'>, {'Stanley Kubrick': 1, 'Anthony Mann': 1, 'Richard Fleischer': 1}), 'Norman Reedus': defaultdict(<class 'int'>, {'Guillermo del Toro': 1, 'Christian Alvart': 1, 'Davis Guggenheim': 1, 'Scott Kalvert': 1, 'Troy Duffy': 2}), 'Todd Stashwick': defaultdict(<class 'int'>, {'Anthony Russo': 1}), 'Margot Kidder': defaultdict(<class 'int'>, {'Richard Lester': 2}), 'Todd Giebenhain': defaultdict(<class 'int'>, {'Martin Brest': 1}), 'Kirsten Dunst': defaultdict(<class 'int'>, {'Don Bluth': 1, 'Joe Dante': 1, 'Sofia Coppola': 2, 'Richard Loncraine': 1, 'Jeff Nichols': 1, 'John Stockwell': 1, 'Peyton Reed': 1, 'Michael Patrick Jann': 1, -1: 1, 'Leslye Headland': 1}), 'Quentin Tarantino': defaultdict(<class 'int'>, {'Robert Rodriguez': 3, 'Morgan Spurlock': 1, 'Quentin Tarantino': 1}), 'Jennifer Ehle': defaultdict(<class 'int'>, {'Kathryn Bigelow': 1, 'Sam Taylor-Johnson': 1, \"Gavin O'Connor\": 1, 'Mike Binder': 1, 'Shana Feste': 1}), 'Alice Greczyn': defaultdict(<class 'int'>, {'Jay Chandrasekhar': 1}), 'Matt Price': defaultdict(<class 'int'>, {'Milos Forman': 1}), 'Kasia Smutniak': defaultdict(<class 'int'>, {'Pierre Morel': 1}), 'Jaime King': defaultdict(<class 'int'>, {'Paul Hunter': 1, 'Dewey Nicks': 1}), 'Rob Paulsen': defaultdict(<class 'int'>, {'Steve Oedekerk': 1, 'Guillaume Ivernel': 1}), 'Kathleen Freeman': defaultdict(<class 'int'>, {'Andrew Adamson': 1}), 'Lupe Ontiveros': defaultdict(<class 'int'>, {'James L. Brooks': 1, 'Miguel Arteta': 1}), 'Joel Courtney': defaultdict(<class 'int'>, {'J.J. Abrams': 1, -1: 1}), 'Bill Duke': defaultdict(<class 'int'>, {'Brian Helgeland': 1, 'Mark L. Lester': 1, 'Craig R. Baxley': 1}), 'Dylan Walsh': defaultdict(<class 'int'>, {'Frank Marshall': 1}), 'Fann Wong': defaultdict(<class 'int'>, {'David Dobkin': 1}), 'Bernard Hill': defaultdict(<class 'int'>, {-1: 1}), 'Scoot McNairy': defaultdict(<class 'int'>, {'Angela Robinson': 1, 'Gareth Edwards': 1}), 'Olivier Martinez': defaultdict(<class 'int'>, {'Adrian Lyne': 1, 'Jean-Paul Rappeneau': 1, 'Katja von Garnier': 1, 'Bigas Luna': 1}), 'Alex Pettyfer': defaultdict(<class 'int'>, {'D.J. Caruso': 1, 'Geoffrey Sax': 1, 'Lee Daniels': 1, 'Shana Feste': 1, 'Daniel Barnz': 1}), 'Viggo Mortensen': defaultdict(<class 'int'>, {'Ridley Scott': 1, 'David Cronenberg': 2, 'Agustín Díaz Yanes': 1, 'John Hillcoat': 1, 'Ed Harris': 1, 'Vicente Amorim': 1, 'Tony Goldwyn': 1, 'David Oelhoffen': 1, 'Kevin Spacey': 1, 'Renny Harlin': 1, 'Gregory Widen': 1}), 'Deborah Kara Unger': defaultdict(<class 'int'>, {'David Fincher': 1, 'Geoffrey Sax': 1}), 'Radha Mitchell': defaultdict(<class 'int'>, {'Christophe Gans': 1, 'Michael J. Bassett': 1, 'Roger Spottiswoode': 1, 'Breck Eisner': 1, 'Joel Schumacher': 1, 'Marc Forster': 1, 'Emma-Kate Croghan': 1}), 'Matt Walsh': defaultdict(<class 'int'>, {'Steven Quale': 1, 'Jay Duplass': 1}), 'Louis Lombardi': defaultdict(<class 'int'>, {'John Landis': 1, 'Luke Greenfield': 1, 'James Foley': 1}), 'Armin Mueller-Stahl': defaultdict(<class 'int'>, {'Mimi Leder': 1}), 'Mike Starr': defaultdict(<class 'int'>, {'Steven Seagal': 1, 'Woody Allen': 1, 'Michael Schultz': 1, 'Brian Caunter': 1}), 'Amber Valletta': defaultdict(<class 'int'>, {'Garry Marshall': 1}), 'Shô Kosugi': defaultdict(<class 'int'>, {'James McTeigue': 1}), 'David Jason': defaultdict(<class 'int'>, {-1: 1}), 'Muse Watson': defaultdict(<class 'int'>, {'Richard Donner': 1, 'Jay Roach': 1, 'Danny Cannon': 1, 'Jim Gillespie': 1, 'Ed Gass-Donnelly': 1}), 'J.D. Evermore': defaultdict(<class 'int'>, {'Andrew Niccol': 1}), 'Grey Damon': defaultdict(<class 'int'>, {-1: 1}), 'Christina Milian': defaultdict(<class 'int'>, {'Stephen Herek': 1}), 'Paul Brooke': defaultdict(<class 'int'>, {'Luc Besson': 1}), 'Mia Kirshner': defaultdict(<class 'int'>, {'Costa-Gavras': 1}), 'Julie Benz': defaultdict(<class 'int'>, {-1: 1, 'Lexi Alexander': 1, 'David Hackl': 1, 'Gary Hardwick': 1, 'Darren Stein': 1}), 'Ian Ziering': defaultdict(<class 'int'>, {'Tony Scott': 1, 'Anthony C. Ferrante': 1}), 'Alden Ehrenreich': defaultdict(<class 'int'>, {'Richard LaGravenese': 1, 'Francis Ford Coppola': 1}), 'Chris Klein': defaultdict(<class 'int'>, {'Andrzej Bartkowiak': 1}), 'Tobias Menzies': defaultdict(<class 'int'>, {-1: 1}), 'Lauren Holly': defaultdict(<class 'int'>, {'Renny Harlin': 1, 'Peter Farrelly': 1}), \"Michael O'Neill\": defaultdict(<class 'int'>, {'Steven Soderbergh': 1}), 'P.J. Soles': defaultdict(<class 'int'>, {'Chuck Bowman': 1}), 'Corinna Harney': defaultdict(<class 'int'>, {'Jerry Zucker': 1}), 'Nandita Das': defaultdict(<class 'int'>, {'Deepa Mehta': 1}), 'Charlie Korsmo': defaultdict(<class 'int'>, {'Warren Beatty': 1}), 'Mark Margolis': defaultdict(<class 'int'>, {'John McTiernan': 1, 'Matt Reeves': 1, 'Darren Aronofsky': 2}), 'Rosie Perez': defaultdict(<class 'int'>, {'Penny Marshall': 1, 'Patricia Cardoso': 1}), 'Donatas Banionis': defaultdict(<class 'int'>, {'Andrei Tarkovsky': 1}), 'Joseph Gilgun': defaultdict(<class 'int'>, {'Brad Furman': 1, 'James Mather': 1, 'Daniel Barber': 1}), 'Laurence Olivier': defaultdict(<class 'int'>, {'Terence Young': 1, 'Franklin J. Schaffner': 1, 'Alfred Hitchcock': 1}), 'Jonathan Winters': defaultdict(<class 'int'>, {'Brian Levant': 1, 'Russell Mulcahy': 1, 'Stanley Kramer': 1}), 'Regina Hall': defaultdict(<class 'int'>, {'David Zucker': 1}), 'Candice Bergen': defaultdict(<class 'int'>, {'Donald Petrie': 1, 'Richard Attenborough': 1}), 'Bradley Whitford': defaultdict(<class 'int'>, {'Joel Schumacher': 1}), 'Natasha Lyonne': defaultdict(<class 'int'>, {'Keenen Ivory Wayans': 1, 'Woody Allen': 1, 'Adam Rifkin': 1, 'Tamara Jenkins': 1, 'Danny Perez': 1, 'Jamie Babbit': 1}), 'Bill Cobbs': defaultdict(<class 'int'>, {'James Bobin': 1, 'Michael Apted': 1, 'Tony Kaye': 1, 'Forest Whitaker': 1, 'Mick Jackson': 1, 'Michael O. Sajbel': 1}), 'Sydney Pollack': defaultdict(<class 'int'>, {'Roger Michell': 1}), 'Adam Garcia': defaultdict(<class 'int'>, {'David McNally': 1, 'Sara Sugarman': 1, 'Klaus Menzel': 1}), 'Lucille Ball': defaultdict(<class 'int'>, {'Melville Shavelson': 1}), 'Dania Ramirez': defaultdict(<class 'int'>, {'Joel Zwick': 1}), 'Demián Bichir': defaultdict(<class 'int'>, {'Oliver Stone': 1, 'Chris Weitz': 1}), 'Richard Burgi': defaultdict(<class 'int'>, {'David R. Ellis': 1}), 'Kevin McNally': defaultdict(<class 'int'>, {'Peter Howitt': 1, 'Irwin Winkler': 1}), 'Virginia Madsen': defaultdict(<class 'int'>, {'David Lynch': 1, 'Alexander Payne': 1, 'Bobby Roth': 1}), 'Jim Sturgess': defaultdict(<class 'int'>, {'Julie Taymor': 1, 'Giuseppe Tornatore': 1, 'Kari Skogland': 1}), 'Alexa PenaVega': defaultdict(<class 'int'>, {'John Gray': 1, 'Ulu Grosbard': 1, 'Rob Reiner': 1, 'Robert Rodriguez': 3, 'Darren Lynn Bousman': 1, 'Mark Young': 1, 'Jon Gunn': 1}), 'John de Lancie': defaultdict(<class 'int'>, {'Harold Ramis': 1, 'Marc Schölermann': 1}), 'Malese Jow': defaultdict(<class 'int'>, {'John Schultz': 1}), 'Costas Mandylor': defaultdict(<class 'int'>, {'Sean Penn': 1, 'Kevin Greutert': 2, 'Darren Lynn Bousman': 2}), 'Marcela Mar': defaultdict(<class 'int'>, {'Mike Newell': 1}), 'Pierre Perrier': defaultdict(<class 'int'>, {-1: 1}), 'Sam Waterston': defaultdict(<class 'int'>, {'George P. Cosmatos': 1}), 'Daniel Kaluuya': defaultdict(<class 'int'>, {'Oliver Parker': 1}), 'Clea DuVall': defaultdict(<class 'int'>, {'Ben Affleck': 1, 'James Mangold': 1}), 'Mel Blanc': defaultdict(<class 'int'>, {'Norman Ferguson': 1}), 'Judith Chapman': defaultdict(<class 'int'>, {'Roger Kumble': 1}), 'Augustus Prew': defaultdict(<class 'int'>, {'Burr Steers': 1}), 'Imelda Staunton': defaultdict(<class 'int'>, {'Peter Lord': 1, 'Ang Lee': 1}), 'John Witherspoon': defaultdict(<class 'int'>, {'Reginald Hudlin': 1, 'Wes Craven': 1, 'Marcus Raboy': 1, 'Steve Carr': 1}), 'Debra Messing': defaultdict(<class 'int'>, {'Mark Pellington': 1, 'Edward Burns': 1}), 'Bono': defaultdict(<class 'int'>, {'Larry Charles': 1, 'Catherine Owens': 1}), 'Robert Davi': defaultdict(<class 'int'>, {'John Glen': 1}), 'Fisher Stevens': defaultdict(<class 'int'>, {'Julie Anne Robinson': 1, 'Frédéric Auburtin': 1, 'Walter Hill': 1, 'Meiert Avis': 1, 'Avi Nesher': 1}), 'Tony Cox': defaultdict(<class 'int'>, {'Sngmoo Lee': 1}), 'Omar Sy': defaultdict(<class 'int'>, {'Jean-Pierre Jeunet': 1}), 'Mekhi Phifer': defaultdict(<class 'int'>, {'Curtis Hanson': 1, 'Wayne Beach': 1, 'Preston A. Whitmore II': 1, 'Tim Blake Nelson': 1}), 'Jamel Debbouze': defaultdict(<class 'int'>, {'Jamel Debbouze': 1}), 'Julian Sands': defaultdict(<class 'int'>, {'Gordon Chan': 1, 'Frank Marshall': 1, 'Steve Miner': 1, 'James Ivory': 1, 'Anthony Hickox': 1}), 'Robert Clohessy': defaultdict(<class 'int'>, {'Asger Leth': 1}), 'Joel McHale': defaultdict(<class 'int'>, {'David Frankel': 1}), 'Martin Kove': defaultdict(<class 'int'>, {'John G. Avildsen': 1, 'Mario Van Peebles': 1}), 'Tom Welling': defaultdict(<class 'int'>, {'Shawn Levy': 1}), 'Jerry Ferrara': defaultdict(<class 'int'>, {'Peter Berg': 1, 'Michael Corrente': 1}), 'Javier Botet': defaultdict(<class 'int'>, {'James Wan': 1, 'Andrés Muschietti': 1, 'Brian Dorton': 1}), 'Andrew Garfield': defaultdict(<class 'int'>, {'David Fincher': 1, 'Terry Gilliam': 1, 'Mark Romanek': 1, 'Julian Jarrold': 1}), 'Carmen Perez': defaultdict(<class 'int'>, {'Ken Kwapis': 1}), 'Beau Mirchoff': defaultdict(<class 'int'>, {'David Zucker': 1}), 'Kelly Rutherford': defaultdict(<class 'int'>, {'Wes Craven': 1}), 'Olivia Munn': defaultdict(<class 'int'>, {'Tim Story': 1, 'Scott Derrickson': 1, 'Douglas McGrath': 1}), 'Wes Studi': defaultdict(<class 'int'>, {'Michael Mann': 1}), 'Bokeem Woodbine': defaultdict(<class 'int'>, {'Taylor Hackford': 1, 'Kirk Wong': 1, 'Matthew Bright': 1, 'Christian Sesma': 1, 'Tommy Oliver': 1}), 'Jason Alexander': defaultdict(<class 'int'>, {'Bobby Farrelly': 1}), 'Sally Kirkland': defaultdict(<class 'int'>, {'Oliver Stone': 1, 'Sharon Greytak': 1}), 'Matthew Perry': defaultdict(<class 'int'>, {'Burr Steers': 1, 'Reginald Hudlin': 1, 'Damon Santostefano': 1}), 'Krista Allen': defaultdict(<class 'int'>, {'David R. Ellis': 1, 'John Gulager': 1}), 'Joaquim de Almeida': defaultdict(<class 'int'>, {'John Moore': 1, 'James Manera': 1}), 'Pink': defaultdict(<class 'int'>, {'Nicholas Stoller': 1}), 'Lisa Ann Walter': defaultdict(<class 'int'>, {'Peter Chelsom': 1, 'Steven Brill': 1}), 'Michael Jai White': defaultdict(<class 'int'>, {'Mark A.Z. Dippé': 1, 'Mic Rodgers': 1, 'Andrzej Bartkowiak': 1, 'Tyler Perry': 2, 'Ekachai Uekrongtham': 1, 'Ernie Barbarash': 1, 'Kevin Carraway': 1, 'Michael Jai White': 1}), 'Rudy Youngblood': defaultdict(<class 'int'>, {'Mel Gibson': 1, 'Russell Friedenberg': 1}), 'Joe Don Baker': defaultdict(<class 'int'>, {'John Glen': 1}), 'Topher Grace': defaultdict(<class 'int'>, {'Nimród Antal': 1, 'Robert Luketic': 1, 'Michael Dowse': 1, 'Jason Stone': 1}), 'Brian Dennehy': defaultdict(<class 'int'>, {'Ivan Reitman': 1, 'Jean-François Richet': 1, 'Robert Moresco': 1, 'Pete Jones': 1}), 'Gena Rowlands': defaultdict(<class 'int'>, {'Iain Softley': 1}), 'Busy Philipps': defaultdict(<class 'int'>, {'Paul Weiland': 1, 'Keenen Ivory Wayans': 1, 'Joel Edgerton': 1}), 'Johnny Cannizzaro': defaultdict(<class 'int'>, {'Clint Eastwood': 1}), 'Lorraine Bracco': defaultdict(<class 'int'>, {'John McTiernan': 1}), 'Sam Trammell': defaultdict(<class 'int'>, {'Colin Strause': 1, 'Chuck Russell': 1}), 'Macaulay Culkin': defaultdict(<class 'int'>, {'Donald Petrie': 1, 'Chris Columbus': 2, 'Howard Zieff': 1, 'Brian Dannelly': 1, 'Fenton Bailey': 1}), 'Bobby Lee': defaultdict(<class 'int'>, {'Greg Mottola': 1}), 'Miriam Margolyes': defaultdict(<class 'int'>, {'Anne Fletcher': 1, 'Chris Noonan': 1, 'István Szabó': 1, 'Barbra Streisand': 1}), 'Alison Brie': defaultdict(<class 'int'>, {'Wes Craven': 1, 'Christian Ditter': 1, 'Nicholas Stoller': 1}), 'Michael Wincott': defaultdict(<class 'int'>, {'Oliver Stone': 2, 'Alex Proyas': 1}), 'James Wilcox': defaultdict(<class 'int'>, {'Jake Kasdan': 1}), 'Emma Bell': defaultdict(<class 'int'>, {'Steven Quale': 1, 'Davis Guggenheim': 1}), 'Jimmy Fallon': defaultdict(<class 'int'>, {'Bobby Farrelly': 1, 'Dave Borthwick': 1}), 'Bruce Dinsmore': defaultdict(<class 'int'>, {-1: 1}), 'Noah Bean': defaultdict(<class 'int'>, {'Roger Michell': 1}), '50 Cent': defaultdict(<class 'int'>, {'Jim Sheridan': 1}), 'Oliver Hudson': defaultdict(<class 'int'>, {'Sam Weisman': 1, 'Glen Morgan': 1}), 'Catherine Deneuve': defaultdict(<class 'int'>, {'Peter Hyams': 1, 'Lars von Trier': 1, 'André Téchiné': 1, 'François Ozon': 1, 'Vincent Paronnaud': 1, 'Dick Richards': 1, 'François Truffaut': 1}), 'Stephen Rea': defaultdict(<class 'int'>, {'Stephen Hopkins': 1, 'Neil Jordan': 1, 'Lluís Quílez': 1}), 'Jordi Mollà': defaultdict(<class 'int'>, {'Olivier Megaton': 1, 'Roland Joffé': 1}), 'Mira Sorvino': defaultdict(<class 'int'>, {'Irwin Winkler': 1, 'Antoine Fuqua': 1, 'Spike Lee': 1, 'Christopher M. Bessette': 1, 'Griffin Dunne': 1}), 'Dane Cook': defaultdict(<class 'int'>, {'Joseph Kahn': 1, 'Mark Helfrich': 1, 'Howard Deutch': 1, 'Greg Coolidge': 1}), 'Bobbie Phillips': defaultdict(<class 'int'>, {'Paul Verhoeven': 1}), 'Carol Kane': defaultdict(<class 'int'>, {'Elaine May': 1}), 'Richard Epcar': defaultdict(<class 'int'>, {'John Carpenter': 1}), 'Mathieu Kassovitz': defaultdict(<class 'int'>, {'Jean-Pierre Jeunet': 1}), 'Mary-Kate Olsen': defaultdict(<class 'int'>, {'Dennie Gordon': 1, 'Jonathan Levine': 1}), 'Omar Epps': defaultdict(<class 'int'>, {'Charles Shyer': 1, 'Charles S. Dutton': 1, 'Wes Craven': 1, 'Takeshi Kitano': 1, 'Rick Famuyiwa': 1}), 'Justin Theroux': defaultdict(<class 'int'>, {'Danny DeVito': 1, 'David Wain': 1, 'Greg Berlanti': 1}), 'M. Emmet Walsh': defaultdict(<class 'int'>, {'Jerry Jameson': 1}), 'Bridgette Wilson-Sampras': defaultdict(<class 'int'>, {'Jean-Marie Poiré': 1}), 'John Gatins': defaultdict(<class 'int'>, {'Brian Robbins': 1}), 'Sarah Roemer': defaultdict(<class 'int'>, {'D.J. Caruso': 1}), 'James Brolin': defaultdict(<class 'int'>, {'Richard Shepard': 1}), 'Jennifer Jason Leigh': defaultdict(<class 'int'>, {'Joel Coen': 1, 'John Maybury': 1, 'David Cronenberg': 1, 'Dan Curtis': 1, 'Jane Campion': 1, 'Tuck Tucker': 1, 'Duke Johnson': 1, 'Amy Heckerling': 1}), 'Jay Hernandez': defaultdict(<class 'int'>, {'Sergey Bodrov': 1, 'Boaz Yakin': 1, 'Neil LaBute': 1, 'Eli Roth': 2}), 'Tamannaah Bhatia': defaultdict(<class 'int'>, {'S.S. Rajamouli': 1}), 'Arliss Howard': defaultdict(<class 'int'>, {'Robert Schwentke': 1}), 'Colin Ferguson': defaultdict(<class 'int'>, {'Michael Lehmann': 1}), 'Adam Baldwin': defaultdict(<class 'int'>, {'Joss Whedon': 1, 'Stephen Hopkins': 1, 'Richard Donner': 1, 'Robert Redford': 1}), 'Takeshi Kaneshiro': defaultdict(<class 'int'>, {'John Woo': 1, 'Yimou Zhang': 1}), 'Ethan Embry': defaultdict(<class 'int'>, {'Andy Tennant': 1, 'Harry Elfont': 1, 'Danny Leiner': 1, 'Tim McCanlies': 1}), 'Austin Pendleton': defaultdict(<class 'int'>, {'Jonathan Lynn': 1, 'Billy Wilder': 1}), 'Tony Chiu Wai Leung': defaultdict(<class 'int'>, {'Kar-Wai Wong': 1}), 'Blythe Auffarth': defaultdict(<class 'int'>, {'Yuefeng Song': 1}), 'Sarah Silverman': defaultdict(<class 'int'>, {'David Mirkin': 1, 'Bobby Farrelly': 1, 'Scott Alexander': 1}), 'D.B. Woodside': defaultdict(<class 'int'>, {'Andy Fickman': 1}), 'Sonia Braga': defaultdict(<class 'int'>, {'Luis Mandoki': 1}), 'Beth Grant': defaultdict(<class 'int'>, {'Stephen Herek': 1, 'Jason Bateman': 1}), \"Mo'Nique\": defaultdict(<class 'int'>, {'Lee Daniels': 1, 'Malcolm D. Lee': 1, 'John Singleton': 1, 'Jessy Terrero': 1, 'Mark Brown': 1, 'DJ Pooh': 1, 'Nnegest Likké': 1}), 'Wilford Brimley': defaultdict(<class 'int'>, {'John Carpenter': 1, 'Peter Segal': 1, 'Richard Dutcher': 1}), 'Gregory Scott Cummins': defaultdict(<class 'int'>, {'Jeb Stuart': 1}), 'Tom Skerritt': defaultdict(<class 'int'>, {'Steve Miner': 1, 'Dominic Sena': 1, 'David Cronenberg': 1, 'Gary Sherman': 1, 'Ridley Scott': 1, 'Mario Van Peebles': 1}), 'Mike Howard': defaultdict(<class 'int'>, {'Paul Thomas Anderson': 1}), 'Hayden Christensen': defaultdict(<class 'int'>, {'David Leland': 1, 'Sarik Andreasyan': 1, 'Joby Harold': 1, 'George Hickenlooper': 1, 'Billy Ray': 1, 'Michael Polish': 1}), 'Patton Oswalt': defaultdict(<class 'int'>, {'Paul Thomas Anderson': 1, 'Todd Strauss-Schulson': 1}), 'Laura-Leigh': defaultdict(<class 'int'>, {'Rawson Marshall Thurber': 1}), 'Yuliya Snigir': defaultdict(<class 'int'>, {'Fedor Bondarchuk': 1}), 'Kathleen Quinlan': defaultdict(<class 'int'>, {'Jonathan Mostow': 1}), 'Bernie Casey': defaultdict(<class 'int'>, {'Irvin Kershner': 1}), 'Charlie McDermott': defaultdict(<class 'int'>, {'Steve Pink': 1, 'Courtney Hunt': 1}), 'Rick Yune': defaultdict(<class 'int'>, {'Scott Hicks': 1, 'RZA': 1}), 'Blair Underwood': defaultdict(<class 'int'>, {'Andrew Niccol': 1, 'Michael Schultz': 1}), 'Stockard Channing': defaultdict(<class 'int'>, {'Andrew Bergman': 1, 'Gary David Goldberg': 1, 'Hugh Wilson': 1, 'Patrick Stettner': 1}), 'Cheryl Hines': defaultdict(<class 'int'>, {'Kirk De Micco': 1}), 'Mike Tyson': defaultdict(<class 'int'>, {'Wilson Yip': 1}), 'Rene Russo': defaultdict(<class 'int'>, {'Richard Donner': 1}), 'Catherine Dyer': defaultdict(<class 'int'>, {'John Lee Hancock': 1}), 'Jon Foo': defaultdict(<class 'int'>, {-1: 1, 'Prachya Pinkaew': 1}), 'Amy Schumer': defaultdict(<class 'int'>, {'Judd Apatow': 1}), 'Michael Angarano': defaultdict(<class 'int'>, {'Mike Mitchell': 1, 'Thomas Vinterberg': 1, 'Gavin Wiesen': 1, 'David Gordon Green': 1}), 'Natasha Henstridge': defaultdict(<class 'int'>, {'Roger Donaldson': 1, 'Ringo Lam': 1, 'Richard Boddington': 1}), 'Dylan Baker': defaultdict(<class 'int'>, {'Tarsem Singh': 1, 'Clare Kilner': 1, 'Bob Odenkirk': 1}), 'Scott Glenn': defaultdict(<class 'int'>, {'Randall Wallace': 1, 'John McTiernan': 1, 'Lawrence Kasdan': 1, 'David Hackl': 1}), 'Charlyne Yi': defaultdict(<class 'int'>, {'Judd Apatow': 1}), 'Craig Parker': defaultdict(<class 'int'>, {'Patrick Tatopoulos': 1}), \"Heather O'Rourke\": defaultdict(<class 'int'>, {'Tobe Hooper': 1}), 'Danneel Ackles': defaultdict(<class 'int'>, {'Alan Poul': 1, 'Jon Hurwitz': 1}), 'Ashley Williams': defaultdict(<class 'int'>, {'Luke Greenfield': 1}), \"Jodi Lyn O'Keefe\": defaultdict(<class 'int'>, {-1: 1}), \"Tatum O'Neal\": defaultdict(<class 'int'>, {'Michael Ritchie': 1}), 'Emilia Fox': defaultdict(<class 'int'>, {'Roman Polanski': 1}), 'Keisha Castle-Hughes': defaultdict(<class 'int'>, {'Catherine Hardwicke': 1, 'Niki Caro': 1}), \"Robert Ri'chard\": defaultdict(<class 'int'>, {'Jaume Collet-Serra': 1}), 'Aaliyah': defaultdict(<class 'int'>, {'Michael Rymer': 1}), 'Brian Blessed': defaultdict(<class 'int'>, {'Mike Hodges': 1, 'Kenneth Branagh': 1}), 'Cicely Tyson': defaultdict(<class 'int'>, {'Rob Cohen': 1, 'Wayne Wang': 1, 'Bryan Barber': 1, 'Darren Grant': 1}), 'Daniel Mays': defaultdict(<class 'int'>, {'Susanna White': 1}), 'Frank Whaley': defaultdict(<class 'int'>, {'Danny DeVito': 1}), 'Mitch Pileggi': defaultdict(<class 'int'>, {'Chris Carter': 1}), 'Ken Arnold': defaultdict(<class 'int'>, {'John Singleton': 1}), 'Drake Bell': defaultdict(<class 'int'>, {'Craig Mazin': 1, 'Stephen Frears': 1, 'Taedong Park': 1, 'Deb Hagan': 1}), 'Alona Tal': defaultdict(<class 'int'>, {'Allen Hughes': 1}), 'Shannon Elizabeth': defaultdict(<class 'int'>, {'Wes Craven': 1, 'Steve Beck': 1, 'Gregory Poirier': 1}), 'Jim Gaffigan': defaultdict(<class 'int'>, {'Anne Fletcher': 1, 'George Ratliff': 1, 'Sol Tryon': 1}), 'Alex Russell': defaultdict(<class 'int'>, {'Kimble Rendall': 1}), 'Rosanna Arquette': defaultdict(<class 'int'>, {'John Milius': 1}), 'Tim Meadows': defaultdict(<class 'int'>, {'Jake Kasdan': 1}), 'Gregory Smith': defaultdict(<class 'int'>, {'Les Mayfield': 1, 'Bronwen Hughes': 1, 'Jason Eisener': 1}), 'Michiel Huisman': defaultdict(<class 'int'>, {'Jean-Marc Vallée': 2, 'Paul Verhoeven': 1}), 'Paul Sorvino': defaultdict(<class 'int'>, {'Hark Tsui': 1, 'Warren Beatty': 1, 'Émile Gaudreault': 1, 'Darren Lynn Bousman': 1}), 'Mireille Enos': defaultdict(<class 'int'>, {'David Ayer': 1}), 'Kevin Zegers': defaultdict(<class 'int'>, {'Peter Hewitt': 1, 'Rob Schmidt': 1, 'Charles Martin Smith': 1, 'Derick Martini': 1, 'Duncan Tucker': 1}), 'Marley Shelton': defaultdict(<class 'int'>, {'Ronny Yu': 1, 'Jamie Blanks': 1, 'David Caffrey': 1}), 'Archie Panjabi': defaultdict(<class 'int'>, {'Ridley Scott': 1, 'Fernando Meirelles': 1, 'Gurinder Chadha': 1, \"Damien O'Donnell\": 1}), 'Ruth Wilson': defaultdict(<class 'int'>, {-1: 1}), 'Oliver Reed': defaultdict(<class 'int'>, {'Moustapha Akkad': 1, 'Carol Reed': 1, 'Guy Hamilton': 1}), 'Jeremy W. Auman': defaultdict(<class 'int'>, {'Ang Lee': 1}), 'Maricel Álvarez': defaultdict(<class 'int'>, {'Alejandro G. Iñárritu': 1}), 'Richard E. Grant': defaultdict(<class 'int'>, {'Martin Scorsese': 1, 'Uli Edel': 1, 'Richard Shepard': 1}), 'David Paymer': defaultdict(<class 'int'>, {'Hugh Johnson': 1, 'Rob Reiner': 1}), 'Rumi Hiiragi': defaultdict(<class 'int'>, {'Hayao Miyazaki': 1}), 'Tiago Riani': defaultdict(<class 'int'>, {'George Tillman Jr.': 1}), 'Liam Aiken': defaultdict(<class 'int'>, {'Hugh Hudson': 1, 'John Hoffman': 1, 'Nicholas Hytner': 1, 'Michael Winterbottom': 1}), 'Terry Pheto': defaultdict(<class 'int'>, {'Justin Chadwick': 1, 'Bille August': 1, 'Gavin Hood': 1}), 'Nia Long': defaultdict(<class 'int'>, {'Raja Gosnell': 1, 'Rupert Wainwright': 1, 'Brian Levant': 1, 'Mennan Yapo': 1, 'Peter Atencio': 1, 'F. Gary Gray': 1}), 'Kyle Hebert': defaultdict(<class 'int'>, {'Jeremy Degruson': 1}), 'Ryan Guzman': defaultdict(<class 'int'>, {'Scott Speer': 1, 'Rob Cohen': 1, 'Rita Merson': 1}), 'Lin Shaye': defaultdict(<class 'int'>, {'David R. Ellis': 1, 'Leigh Whannell': 1, 'James Wan': 2, 'Stiles White': 1, 'William Eubank': 1}), 'Laura Harring': defaultdict(<class 'int'>, {'Jonathan Hensleigh': 1, 'Glen Morgan': 1}), 'Ryan Kruger': defaultdict(<class 'int'>, {'Neil Marshall': 1}), 'James Coburn': defaultdict(<class 'int'>, {'Brian Levant': 1, 'Sam Peckinpah': 2, 'John Sturges': 1}), 'Ana de la Reguera': defaultdict(<class 'int'>, {'Jared Hess': 1}), 'Matt Lucas': defaultdict(<class 'int'>, {'Paul Feig': 1}), 'Brandon T. Jackson': defaultdict(<class 'int'>, {'John Whitesell': 1, 'Erik White': 1}), 'Illeana Douglas': defaultdict(<class 'int'>, {'Frank Marshall': 1, 'David Koepp': 1}), 'Callum Rennie': defaultdict(<class 'int'>, {'Jean-Pierre Jeunet': 1, 'Les Mayfield': 1, 'Christopher Nolan': 1}), 'Ken Howard': defaultdict(<class 'int'>, {'John Gatins': 1, 'Irwin Winkler': 1}), 'Frances Fisher': defaultdict(<class 'int'>, {'Peter Howitt': 1, 'Vadim Perelman': 1, 'Catherine Hardwicke': 1, 'Karen Moncrieff': 1}), 'Alice Braga': defaultdict(<class 'int'>, {'Miguel Sapochnik': 1, 'David Mamet': 1, 'Fernando Meirelles': 1}), 'George Kennedy': defaultdict(<class 'int'>, {'Mark Dindal': 1, 'Peter Segal': 1, 'Rupert Wyatt': 1, 'David Zucker': 1, 'Sam Levinson': 1, 'Michael Gornick': 1}), 'Joan Plowright': defaultdict(<class 'int'>, {'Tom Reeve': 1}), 'Rob Riggle': defaultdict(<class 'int'>, {'Nanette Burstein': 1, 'Luke Greenfield': 1, 'Neal Brennan': 1}), 'Alicia Witt': defaultdict(<class 'int'>, {'Stephen Herek': 1, 'Tyler Perry': 1, 'Jamie Blanks': 1, 'Mike Binder': 1, 'John Waters': 1}), 'Desmond Llewelyn': defaultdict(<class 'int'>, {'Lewis Gilbert': 1, 'Terence Young': 1, 'Guy Hamilton': 1}), 'Sharlto Copley': defaultdict(<class 'int'>, {'Neill Blomkamp': 1}), 'John Doman': defaultdict(<class 'int'>, {'Clint Eastwood': 1}), 'Emily Osment': defaultdict(<class 'int'>, {'Peter Chelsom': 1}), 'Elizabeth Daily': defaultdict(<class 'int'>, {'Stig Bergqvist': 1, 'Igor Kovalyov': 1, 'John Eng': 1, -1: 1}), 'George Carlin': defaultdict(<class 'int'>, {'Barbra Streisand': 1}), 'Hope Davis': defaultdict(<class 'int'>, {'Alexander Payne': 1, 'Lasse Hallström': 1}), 'Cory Hardrict': defaultdict(<class 'int'>, {'Jonathan Levine': 1}), 'Zach Gilford': defaultdict(<class 'int'>, {-1: 2, 'Jee-woon Kim': 1, 'Matt Bettinelli-Olpin': 1}), 'Josh Charles': defaultdict(<class 'int'>, {'John Singleton': 1, 'Tim Hill': 1}), 'Tina Fey': defaultdict(<class 'int'>, {'Michael McCullers': 1, 'Shawn Levy': 1, 'Mark Waters': 1, 'Paul Weitz': 1, 'Matt Maiellaro': 1}), 'Antony Starr': defaultdict(<class 'int'>, {'Steven Brill': 1}), 'Kurt Fuller': defaultdict(<class 'int'>, {'Woody Allen': 1}), 'Brenda Song': defaultdict(<class 'int'>, {'John Schultz': 1}), 'Patrick Macnee': defaultdict(<class 'int'>, {'John Glen': 1, 'Joe Dante': 1}), 'Mark Gatiss': defaultdict(<class 'int'>, {'Steve Box': 1, 'Jez Butterworth': 1}), 'Kate Upton': defaultdict(<class 'int'>, {'Bobby Farrelly': 1}), 'Mehcad Brooks': defaultdict(<class 'int'>, {'James Gartner': 1, 'H.M. Coakley': 1}), 'Edgar Arreola': defaultdict(<class 'int'>, {'Denis Villeneuve': 1}), 'Alyson Stoner': defaultdict(<class 'int'>, {'Jon M. Chu': 1}), 'Faizon Love': defaultdict(<class 'int'>, {'John Stockwell': 1, 'Martin Lawrence': 1}), 'Danny Huston': defaultdict(<class 'int'>, {'David Slade': 1}), 'Carmen Electra': defaultdict(<class 'int'>, {'Jason Friedberg': 2, 'David Zucker': 1}), 'Yaphet Kotto': defaultdict(<class 'int'>, {'Paul Michael Glaser': 1, 'Guy Hamilton': 1, 'Michael Roemer': 1}), 'Jessica Barden': defaultdict(<class 'int'>, {'Joe Wright': 1}), 'Brian Thompson': defaultdict(<class 'int'>, {'John R. Leonetti': 1}), 'Debi Mazar': defaultdict(<class 'int'>, {-1: 1}), 'Devin Ratray': defaultdict(<class 'int'>, {'Martha Coolidge': 1, 'Alexander Payne': 1, 'Jeremy Saulnier': 1}), 'Craig Ferguson': defaultdict(<class 'int'>, {'Stephen J. Anderson': 1, 'Kevin Allen': 1}), 'Warren Beatty': defaultdict(<class 'int'>, {'Warren Beatty': 1}), 'Tika Sumpter': defaultdict(<class 'int'>, {'Tate Taylor': 1}), 'Rainn Wilson': defaultdict(<class 'int'>, {'Ivan Reitman': 1}), 'Sarah Polley': defaultdict(<class 'int'>, {'Vincenzo Natali': 1, 'Doug Liman': 1, 'Isabel Coixet': 1}), 'Eddie Cibrian': defaultdict(<class 'int'>, {'Bruce Hunt': 1, 'J.B. Rogers': 1, 'Tyler Perry': 1, 'Bill Duke': 1}), 'Jessica Paré': defaultdict(<class 'int'>, {'Paul McGuigan': 1}), 'Grace Phipps': defaultdict(<class 'int'>, {'Craig Gillespie': 1}), 'Saffron Burrows': defaultdict(<class 'int'>, {'Chris Roberts': 1}), 'Ian Whyte': defaultdict(<class 'int'>, {'James Wong': 1}), 'Annabella Sciorra': defaultdict(<class 'int'>, {'Andy Cadiff': 1}), 'Ólafur Darri Ólafsson': defaultdict(<class 'int'>, {-1: 1}), 'Tyler Labine': defaultdict(<class 'int'>, {'Peter Howitt': 1}), 'Emir Kusturica': defaultdict(<class 'int'>, {'Neil Jordan': 1, 'Patrice Leconte': 1}), 'Emily Watson': defaultdict(<class 'int'>, {'Chris Noonan': 1, 'Alan Parker': 1, 'Brian Percival': 1, 'Richard E. Grant': 1}), 'Dong-gun Jang': defaultdict(<class 'int'>, {'Kaige Chen': 1}), 'Steve Howey': defaultdict(<class 'int'>, {'Corey Yuen': 1, 'Bo Zenga': 1}), 'Louise Bourgoin': defaultdict(<class 'int'>, {'Laurent Tirard': 1}), 'Paz Vega': defaultdict(<class 'int'>, {'Olivier Dahan': 1}), 'Konstantin Khabenskiy': defaultdict(<class 'int'>, {'Maksim Fadeev': 1, 'Timur Bekmambetov': 1, 'Aleksandr Veledinskiy': 1}), 'Sandra Ellis Lafferty': defaultdict(<class 'int'>, {'James Mangold': 1, 'Ryan Smith': 1}), 'Amanda Schull': defaultdict(<class 'int'>, {-1: 1, 'Nicholas Hytner': 1}), 'Lisa Edelstein': defaultdict(<class 'int'>, {'Edward Norton': 1}), 'Dick Clark': defaultdict(<class 'int'>, {'George Clooney': 1}), 'Aldis Hodge': defaultdict(<class 'int'>, {'F. Gary Gray': 1}), 'Joe Lo Truglio': defaultdict(<class 'int'>, {'David Wain': 1, 'Steve Pink': 1, 'Frank Sebastiano': 1, 'Matt Walsh': 1}), 'Eddie Cahill': defaultdict(<class 'int'>, {\"Gavin O'Connor\": 1}), 'Shun Oguri': defaultdict(<class 'int'>, {'Shinji Aramaki': 1}), 'Julian Glover': defaultdict(<class 'int'>, {'John Glen': 1, 'Dominic Burns': 1}), 'Lilli Lavine': defaultdict(<class 'int'>, {'Peter Chelsom': 1}), 'Mia Sara': defaultdict(<class 'int'>, {'Peter Hyams': 1}), 'David Lyons': defaultdict(<class 'int'>, {'Lasse Hallström': 1}), 'Vinessa Shaw': defaultdict(<class 'int'>, {'Kenny Ortega': 1}), 'Zoë Kravitz': defaultdict(<class 'int'>, {'Scott Hicks': 1, 'Anna Boden': 1, 'Analeine Cal y Mayor': 1}), 'Elizabeth McGovern': defaultdict(<class 'int'>, {'Matthew Vaughn': 1}), 'Talulah Riley': defaultdict(<class 'int'>, {'Joe Wright': 1}), 'Philip Baker Hall': defaultdict(<class 'int'>, {'Janusz Kaminski': 1, 'John Dahl': 1}), 'Jacques Perrin': defaultdict(<class 'int'>, {'Jacques Perrin': 1}), 'Samaire Armstrong': defaultdict(<class 'int'>, {'Donald Petrie': 1}), 'Scott Grimes': defaultdict(<class 'int'>, {'Jay Roach': 1}), 'Mara Wilson': defaultdict(<class 'int'>, {'Michael Ritchie': 1, 'Britt Allcroft': 1}), 'Dominic Flores': defaultdict(<class 'int'>, {'David Gordon Green': 1}), 'Matt Smith': defaultdict(<class 'int'>, {'Burr Steers': 1}), 'Tenzin Thuthob Tsarong': defaultdict(<class 'int'>, {'Martin Scorsese': 1}), 'Louis Jourdan': defaultdict(<class 'int'>, {'John Glen': 1}), 'Harold Ramis': defaultdict(<class 'int'>, {'Judd Apatow': 1}), 'Richard Wilson': defaultdict(<class 'int'>, {'David Lean': 1}), 'Phil Davis': defaultdict(<class 'int'>, {'Richard Eyre': 1}), 'Ellen Burstyn': defaultdict(<class 'int'>, {'Callie Khouri': 1, 'William Friedkin': 1, 'Tim Chambers': 1, 'Darren Aronofsky': 1}), 'John Belushi': defaultdict(<class 'int'>, {'John Landis': 2}), 'America Ferrera': defaultdict(<class 'int'>, {'Sanaa Hamri': 1, 'Rick Famuyiwa': 1, 'Patricia Cardoso': 1, 'Patricia Riggen': 1}), 'Dolly Parton': defaultdict(<class 'int'>, {'Todd Graff': 1, 'Colin Higgins': 1}), 'Sharon Small': defaultdict(<class 'int'>, {'Chris Weitz': 1}), 'Gerald McRaney': defaultdict(<class 'int'>, {'Wolfgang Petersen': 1}), 'Jackie Gleason': defaultdict(<class 'int'>, {-1: 1}), 'Piper Laurie': defaultdict(<class 'int'>, {'Walter Murch': 1}), 'Harry Lennix': defaultdict(<class 'int'>, {'E. Elias Merhige': 1, 'Kevin Rodney Sullivan': 1, 'Rod Lurie': 1}), 'Meat Loaf': defaultdict(<class 'int'>, {'Ronny Yu': 1, 'Uwe Boll': 1, 'Antonio Banderas': 1}), 'Kim-Marie Woodhouse': defaultdict(<class 'int'>, {'Kenneth Branagh': 1}), 'Erick Avari': defaultdict(<class 'int'>, {'Steve Carr': 1}), 'Rob McElhenney': defaultdict(<class 'int'>, {-1: 1}), \"Ryan O'Neal\": defaultdict(<class 'int'>, {'Richard Attenborough': 1, 'Stanley Kubrick': 1}), 'Robert Pine': defaultdict(<class 'int'>, {'Wes Craven': 1}), 'Sarah Carter': defaultdict(<class 'int'>, {'David R. Ellis': 1}), 'Daniel Roebuck': defaultdict(<class 'int'>, {'Kevin Allen': 1, 'Harald Zwart': 1, 'George Gallo': 1, 'James Wong': 1, 'Don Coscarelli': 1}), 'Pam Ferris': defaultdict(<class 'int'>, {'James McTeigue': 1}), 'Rip Torn': defaultdict(<class 'int'>, {'Donald Petrie': 1, 'Tom Green': 1, 'Ira Sachs': 1}), 'Christopher Lambert': defaultdict(<class 'int'>, {'Andrew Morahan': 1, 'Paul W.S. Anderson': 1, 'Russell Mulcahy': 1, 'Douglas Aarniokoski': 1, 'Stuart Gordon': 1, 'Timothy Hines': 1, 'Luc Besson': 1}), 'David Conrad': defaultdict(<class 'int'>, {'Michael Cohn': 1}), 'Woody Allen': defaultdict(<class 'int'>, {'Woody Allen': 10}), 'Paul Hogan': defaultdict(<class 'int'>, {'Alan Shapiro': 1, 'John Cornell': 1, 'Peter Faiman': 1}), 'Christo Jivkov': defaultdict(<class 'int'>, {'Mel Gibson': 1}), 'Luke Bracey': defaultdict(<class 'int'>, {'Michael Hoffman': 1, 'Roger Donaldson': 1}), 'Katharine Isabelle': defaultdict(<class 'int'>, {'Ronny Yu': 1, 'Cassandra Nicolaou': 1}), 'Cara Delevingne': defaultdict(<class 'int'>, {'Michael Winterbottom': 1}), 'Mike Vogel': defaultdict(<class 'int'>, {'Matt Reeves': 1, 'Ken Kwapis': 1, 'Jim Field Smith': 1}), 'Kevin Nash': defaultdict(<class 'int'>, {'Michael Pressman': 1}), 'Bruce McGill': defaultdict(<class 'int'>, {'Tim Story': 1, 'Kevin Brodie': 1, 'Tim Boxell': 1}), 'Lena Olin': defaultdict(<class 'int'>, {'Lasse Hallström': 1, 'Jaume Balagueró': 1}), 'Mary Lynn Rajskub': defaultdict(<class 'int'>, {'Charles Herman-Wurmfeld': 1, -1: 1, 'Colin Trevorrow': 1}), 'Bailee Madison': defaultdict(<class 'int'>, {'Andy Fickman': 1, 'Troy Nixey': 1}), 'Lee Remick': defaultdict(<class 'int'>, {'Richard Donner': 1}), 'Chelan Simmons': defaultdict(<class 'int'>, {'James Wong': 1}), 'Blythe Danner': defaultdict(<class 'int'>, {'Scott Hicks': 1, 'Peter H. Hunt': 1}), 'Darcy Donavan': defaultdict(<class 'int'>, {'Adam McKay': 1}), 'Heather Locklear': defaultdict(<class 'int'>, {'Brett Ratner': 1, 'Mark L. Lester': 1, 'Jim Amatulli': 1}), 'Jim Meskimen': defaultdict(<class 'int'>, {'Paul Thomas Anderson': 1}), 'Dave Chappelle': defaultdict(<class 'int'>, {'Malcolm D. Lee': 1, 'Tamra Davis': 1}), 'Nicki Aycox': defaultdict(<class 'int'>, {'Victor Salva': 1}), 'Lily Atkinson': defaultdict(<class 'int'>, {'Steve Bendelack': 1}), 'Nicholas Gonzalez': defaultdict(<class 'int'>, {'Dwight H. Little': 1, 'Jeff Crook': 1, 'Richard Montoya': 1}), 'Fanny Ardant': defaultdict(<class 'int'>, {'Shekhar Kapur': 1}), 'Alexis Arquette': defaultdict(<class 'int'>, {'Ronny Yu': 1}), 'Joseph Cotten': defaultdict(<class 'int'>, {'Richard Fleischer': 1, 'King Vidor': 1, 'Henry Hathaway': 1}), 'Ari Graynor': defaultdict(<class 'int'>, {'David Gordon Green': 1, 'Peter Sollett': 1, 'Lee Toland Krieger': 1}), 'Jere Burns': defaultdict(<class 'int'>, {'Simon Wincer': 1}), 'Connie Ray': defaultdict(<class 'int'>, {'Tim Fywell': 1}), 'Aimee Garcia': defaultdict(<class 'int'>, {'Nigel Cole': 1, 'Emily Dell': 1}), 'Justin Fletcher': defaultdict(<class 'int'>, {-1: 1}), 'Claudia Christian': defaultdict(<class 'int'>, {'Don Michael Paul': 1}), 'Tyler James Williams': defaultdict(<class 'int'>, {'Paul Feig': 1, 'Tina Gordon Chism': 1}), 'Dianne Wiest': defaultdict(<class 'int'>, {'James Bridges': 1, 'Herbert Ross': 1, 'Jessie Nelson': 1, 'Lawrence Kasdan': 1, 'Joel Schumacher': 1, 'John Cameron Mitchell': 1}), 'Stephen Dillane': defaultdict(<class 'int'>, {'Bill Paxton': 1}), 'Laura Ramsey': defaultdict(<class 'int'>, {'Carter Smith': 1, 'Renny Harlin': 1, 'Rick de Oliveira': 1}), 'Mark Valley': defaultdict(<class 'int'>, {'John Schlesinger': 1}), 'Frank Grillo': defaultdict(<class 'int'>, {'Wes Craven': 1, 'James DeMonaco': 1, 'Will Canon': 1}), 'Chris Marquette': defaultdict(<class 'int'>, {'Luke Greenfield': 1}), 'Martin Starr': defaultdict(<class 'int'>, {'Bruce McCulloch': 1}), 'Sissy Spacek': defaultdict(<class 'int'>, {'Akiva Schaffer': 1, 'Michael Apted': 1, 'Courtney Solomon': 1, 'David Lynch': 1}), 'Chris Zylka': defaultdict(<class 'int'>, {'David R. Ellis': 1}), 'Frank Finlay': defaultdict(<class 'int'>, {'Tobe Hooper': 1, 'Martin Ritt': 1}), 'Marco Treviño': defaultdict(<class 'int'>, {'Patricia Riggen': 1}), 'Victor Wong': defaultdict(<class 'int'>, {'John Carpenter': 1, 'Charles T. Kanganis': 1, 'Jim Goddard': 1, 'Michael Ritchie': 1}), 'Dany Boon': defaultdict(<class 'int'>, {'Pascal Chaumeil': 1, 'Dany Boon': 1}), 'Tom Berenger': defaultdict(<class 'int'>, {'Ron Maxwell': 1, 'Lance Hool': 1}), 'John Doe': defaultdict(<class 'int'>, {'Jonathan Kaplan': 1}), 'Kyra Sedgwick': defaultdict(<class 'int'>, {'Ole Bornedal': 1, 'Sidney Lumet': 1}), 'Alexander Skarsgård': defaultdict(<class 'int'>, {'Rod Lurie': 1, 'Lars von Trier': 1, 'Zal Batmanglij': 1, 'Marielle Heller': 1}), 'Brian Bosworth': defaultdict(<class 'int'>, {'Craig R. Baxley': 1}), 'Tanya Roberts': defaultdict(<class 'int'>, {'John Guillermin': 1}), 'Cheech Marin': defaultdict(<class 'int'>, {'Marcos Siega': 1, 'José Luis Valenzuela': 1}), 'Donald Faison': defaultdict(<class 'int'>, {'Jeffrey W. Byrd': 1, 'Amy Heckerling': 1, 'Bille Woodruff': 1, 'Scott Foley': 1, 'David Raynr': 1}), 'Don McKellar': defaultdict(<class 'int'>, {'Fernando Meirelles': 1}), 'Dallas Barnett': defaultdict(<class 'int'>, {'Andrew Adamson': 1}), 'Zoe Kazan': defaultdict(<class 'int'>, {'Richard Linklater': 1, 'Bradley Rust Gray': 1}), 'François Cluzet': defaultdict(<class 'int'>, {'Guillaume Canet': 1, 'Thomas Lilti': 1}), 'Scout Taylor-Compton': defaultdict(<class 'int'>, {'Taylor Hackford': 1, 'Rob Zombie': 1}), 'Yolande Moreau': defaultdict(<class 'int'>, {'Jérôme Deschamps': 1}), 'Sergey Garmash': defaultdict(<class 'int'>, {'Inna Evlannikova': 1}), 'Rod Steiger': defaultdict(<class 'int'>, {'Sergey Bondarchuk': 1}), 'Siu-Wong Fan': defaultdict(<class 'int'>, {'Teddy Chan': 1}), 'Minnie Driver': defaultdict(<class 'int'>, {'Bonnie Hunt': 1, 'Trey Parker': 1, 'Hayao Miyazaki': 1, 'George Armitage': 1, 'Oliver Parker': 1, 'Mel Smith': 1, 'Gina Prince-Bythewood': 1}), 'Gerry Bednob': defaultdict(<class 'int'>, {'Kevin Smith': 1}), 'Lena Horne': defaultdict(<class 'int'>, {'Sidney Lumet': 1}), 'Willie Garson': defaultdict(<class 'int'>, {'Ron Shelton': 1, 'Spike Jonze': 1}), 'Donald Pleasence': defaultdict(<class 'int'>, {'Richard Williams': 1, 'Lewis Gilbert': 1, 'John Carpenter': 1, 'Dominique Othenin-Girard': 1, 'Joe Chappelle': 1, 'Dwight H. Little': 1}), 'Seymour Cassel': defaultdict(<class 'int'>, {'Michael Dinner': 1, 'Randal Kleiser': 1}), 'Judith Barsi': defaultdict(<class 'int'>, {'Joseph Sargent': 1, 'Don Bluth': 1}), 'Tasha Smith': defaultdict(<class 'int'>, {'Fred Durst': 1}), 'Alessandro Nivola': defaultdict(<class 'int'>, {'Anne Fontaine': 1}), 'Tom Burke': defaultdict(<class 'int'>, {'Stephen Frears': 1}), 'Cole Hauser': defaultdict(<class 'int'>, {-1: 1, 'Paul Abascal': 1}), 'Romola Garai': defaultdict(<class 'int'>, {'Mira Nair': 1, 'Christian Volckman': 1, 'Ruairi Robinson': 1, -1: 1}), 'Bingbing Fan': defaultdict(<class 'int'>, {'Teddy Chan': 1, 'Tung-Shing Yee': 1}), 'Drew Powell': defaultdict(<class 'int'>, {'Mikael Håfström': 1}), 'Joan Rivers': defaultdict(<class 'int'>, {'Mel Brooks': 1}), 'Cem Yilmaz': defaultdict(<class 'int'>, {'Russell Crowe': 1}), 'Manish Dayal': defaultdict(<class 'int'>, {'Lasse Hallström': 1}), 'Roma Downey': defaultdict(<class 'int'>, {'Christopher Spencer': 1}), \"Denis O'Hare\": defaultdict(<class 'int'>, {'Mikael Håfström': 1}), 'Carlos Ponce': defaultdict(<class 'int'>, {'Mike Bigelow': 1, 'Linda Mendoza': 1}), 'Jack Reynor': defaultdict(<class 'int'>, {'Ken Scott': 1}), 'Radivoje Bukvic': defaultdict(<class 'int'>, {'Susanna White': 1}), 'Amanda Detmer': defaultdict(<class 'int'>, {'Dennis Dugan': 1}), 'Zachary Gordon': defaultdict(<class 'int'>, {'David Bowers': 2, 'Rian Johnson': 1}), 'Rock Hudson': defaultdict(<class 'int'>, {'Blake Edwards': 1}), 'Ed Skrein': defaultdict(<class 'int'>, {'Camille Delamarre': 1}), 'Gary Lewis': defaultdict(<class 'int'>, {'Christian Carion': 1}), 'Romain Duris': defaultdict(<class 'int'>, {'Laurent Tirard': 1, 'Cédric Klapisch': 1}), 'Pablo Rago': defaultdict(<class 'int'>, {'Juan José Campanella': 1}), 'Ornella Muti': defaultdict(<class 'int'>, {'Woody Allen': 1}), 'Paige Turco': defaultdict(<class 'int'>, {'Stuart Gillard': 1}), 'Hunter Parrish': defaultdict(<class 'int'>, {'Richard LaGravenese': 1, 'David Jacobson': 1}), 'Omari Hardwick': defaultdict(<class 'int'>, {'Tyler Perry': 1, 'Salim Akil': 1, 'Benny Boom': 1, 'Ava DuVernay': 1}), 'Jason London': defaultdict(<class 'int'>, {'Katt Shea': 1}), 'Chris Harrison': defaultdict(<class 'int'>, {-1: 1}), 'Elaine Hendrix': defaultdict(<class 'int'>, {'John Duigan': 1, 'Jim Issa': 1}), 'Bob Balaban': defaultdict(<class 'int'>, {'Steven Spielberg': 1}), 'Ian Somerhalder': defaultdict(<class 'int'>, {'Jim Sonzero': 1, 'Irwin Winkler': 1, 'Roger Avary': 1}), 'Dean Stockwell': defaultdict(<class 'int'>, {'Tony Scott': 1, 'Gregor Jordan': 1, 'Elia Kazan': 1}), 'Angus T. Jones': defaultdict(<class 'int'>, {'Adam Shankman': 1}), 'Bam Margera': defaultdict(<class 'int'>, {'Jeff Tremaine': 3}), 'Mackenzie Foy': defaultdict(<class 'int'>, {'James Wan': 1, 'Stéphane Aubier': 1}), 'Miranda Cosgrove': defaultdict(<class 'int'>, {'Richard Linklater': 1, 'Scott Marshall': 1}), 'Shailene Woodley': defaultdict(<class 'int'>, {'Alexander Payne': 1, 'Josh Boone': 1, 'James Ponsoldt': 1}), 'Leonard Roberts': defaultdict(<class 'int'>, {'Charles Stone III': 1, 'Theodore Witcher': 1}), 'Sam Claflin': defaultdict(<class 'int'>, {'Thea Sharrock': 1}), 'John Amos': defaultdict(<class 'int'>, {'Tyler Perry': 1, 'Dario Argento': 1, 'Melvin Van Peebles': 1}), 'Barry Watson': defaultdict(<class 'int'>, {'Stephen Kay': 1}), 'Kath Soucie': defaultdict(<class 'int'>, {'Jun Falkenstein': 1, 'Frank Nissen': 1}), 'Lamman Rucker': defaultdict(<class 'int'>, {-1: 1}), 'Billy Crudup': defaultdict(<class 'int'>, {'Tom McCarthy': 1, 'Bart Freundlich': 1, 'William H. Macy': 1, 'Alison Maclean': 1}), 'Richard Lawson': defaultdict(<class 'int'>, {'Kevin Rodney Sullivan': 1}), 'Violante Placido': defaultdict(<class 'int'>, {'Anton Corbijn': 1}), 'Jon Seda': defaultdict(<class 'int'>, {'Gregory Nava': 1}), 'Diedrich Bader': defaultdict(<class 'int'>, {'Jason Friedberg': 1, 'Chuck Sheetz': 1}), 'Jeremy Shada': defaultdict(<class 'int'>, {'Trey Parker': 1}), 'Gunnar Hansen': defaultdict(<class 'int'>, {'John Luessenhop': 1, 'Tobe Hooper': 1}), 'William McNamara': defaultdict(<class 'int'>, {'Jon Amiel': 1, 'Tanner Beard': 1, 'Jay Alaimo': 1, 'David DeCoteau': 1}), 'Marisa Saks': defaultdict(<class 'int'>, {'Malcolm D. Lee': 1}), 'Peter Firth': defaultdict(<class 'int'>, {'Kevin Reynolds': 1}), 'Isaiah Washington': defaultdict(<class 'int'>, {'Steve Beck': 1}), 'Sela Ward': defaultdict(<class 'int'>, {'Nelson McCormick': 1}), 'Johnny Lewis': defaultdict(<class 'int'>, {'Eric Valette': 1}), 'Kay Panabaker': defaultdict(<class 'int'>, {'Andrew Fleming': 1}), \"Jay Laga'aia\": defaultdict(<class 'int'>, {'Michael Spierig': 1}), 'Leighton Meester': defaultdict(<class 'int'>, {'Thomas Bezucha': 1, 'Christian E. Christiansen': 1, 'Shana Feste': 1}), 'Kevin Sussman': defaultdict(<class 'int'>, {'Anthony Bell': 1}), 'Kurtwood Smith': defaultdict(<class 'int'>, {'Gus Van Sant': 1, 'Miguel Arteta': 1, 'Steve James': 1}), 'Samira Wiley': defaultdict(<class 'int'>, {'Henry Joost': 1}), 'Sheryl Lee': defaultdict(<class 'int'>, {'John Carpenter': 1}), 'Pablo Sevilla': defaultdict(<class 'int'>, {-1: 1}), 'Janet Leigh': defaultdict(<class 'int'>, {'Alfred Hitchcock': 1, 'Jack Smight': 1}), 'Mako': defaultdict(<class 'int'>, {'Steve Rash': 1, 'Richard Fleischer': 1}), 'Shengyi Huang': defaultdict(<class 'int'>, {'Stephen Chow': 1}), 'Leah Remini': defaultdict(<class 'int'>, {-1: 1}), 'Mustafa Haidari': defaultdict(<class 'int'>, {'Marc Forster': 1}), 'Thomas Lennon': defaultdict(<class 'int'>, {'Chris Koch': 1}), 'Andy Dick': defaultdict(<class 'int'>, {'Amy Heckerling': 1}), 'Ronald Reagan': defaultdict(<class 'int'>, {'Michael Moore': 1}), 'Andrew Fiscella': defaultdict(<class 'int'>, {'Nimród Antal': 1, 'John Erick Dowdle': 1}), 'James Callis': defaultdict(<class 'int'>, {'Michael O. Sajbel': 1}), 'Aasif Mandvi': defaultdict(<class 'int'>, {'David Koepp': 1}), 'Taylor Cole': defaultdict(<class 'int'>, {'Renny Harlin': 1}), 'Quinton Aaron': defaultdict(<class 'int'>, {'Michel Gondry': 1}), 'Aisha Tyler': defaultdict(<class 'int'>, {'James Wan': 1}), 'Scott Baio': defaultdict(<class 'int'>, {'Bob Clark': 1}), 'Debbie Reynolds': defaultdict(<class 'int'>, {'Michael Lembeck': 1}), 'Sammy Davis Jr.': defaultdict(<class 'int'>, {'Bob Fosse': 1}), 'Martin Dew': defaultdict(<class 'int'>, {'Paul Thomas Anderson': 1}), 'Chris Brown': defaultdict(<class 'int'>, {'Benson Lee': 1, 'Sylvain White': 1, 'Tim Story': 1}), 'Chriss Anglin': defaultdict(<class 'int'>, {'David Zucker': 1}), 'Kevin Alejandro': defaultdict(<class 'int'>, {'Fred Wolf': 1}), 'Catherine Lough Haggquist': defaultdict(<class 'int'>, {'Uwe Boll': 1}), 'Cameron Bright': defaultdict(<class 'int'>, {'Jonathan Glazer': 1}), 'Landon Liboiron': defaultdict(<class 'int'>, {'Paul Gross': 1}), 'Dylan Authors': defaultdict(<class 'int'>, {'Marc Abraham': 1}), 'Isabelle Adjani': defaultdict(<class 'int'>, {'Jean-Paul Rappeneau': 1}), 'Steve Guttenberg': defaultdict(<class 'int'>, {'Nancy Walker': 1, 'Barry Levinson': 1, 'Hugh Wilson': 1}), 'Donny Boaz': defaultdict(<class 'int'>, {'Angelo Pizzo': 1}), 'Damon Wayans': defaultdict(<class 'int'>, {'Richard Benjamin': 1}), 'William Hootkins': defaultdict(<class 'int'>, {'Katsuhiro Ôtomo': 1}), 'Esai Morales': defaultdict(<class 'int'>, {'Kevin Reynolds': 1, 'Luis Valdez': 1, 'Kristin Rizzo': 1}), 'Jiao Xu': defaultdict(<class 'int'>, {'Stephen Chow': 1}), 'Christian Clavier': defaultdict(<class 'int'>, {'Jean-Marie Poiré': 2}), 'Marco St. John': defaultdict(<class 'int'>, {'Kevin Munroe': 1}), 'Peter Vaughan': defaultdict(<class 'int'>, {-1: 1}), 'Necar Zadegan': defaultdict(<class 'int'>, {'Jane Clark': 1}), 'Andy Lau': defaultdict(<class 'int'>, {'Daniel Lee': 1, 'Alan Yuen': 1, 'Chia-Liang Liu': 1}), 'Mani Bharathi': defaultdict(<class 'int'>, {'Gnana Rajasekaran': 1}), 'Joey D. Vieira': defaultdict(<class 'int'>, {'Tom Walsh': 1}), 'Moritz Bleibtreu': defaultdict(<class 'int'>, {'Uli Edel': 1, 'Tom Tykwer': 1}), 'Mary McDonnell': defaultdict(<class 'int'>, {'Kevin Costner': 1}), 'Dan Byrd': defaultdict(<class 'int'>, {'Mark Rosman': 1, 'Alexandre Aja': 1}), 'David Arquette': defaultdict(<class 'int'>, {'Wes Craven': 1, 'Finn Taylor': 1}), 'Scatman Crothers': defaultdict(<class 'int'>, {'Stanley Kubrick': 1, 'Milos Forman': 1}), 'Jeffrey Combs': defaultdict(<class 'int'>, {'William Malone': 1}), 'Eric Mendenhall': defaultdict(<class 'int'>, {'Tyler Perry': 1}), 'Kari J. Kramer': defaultdict(<class 'int'>, {'Rob Hawk': 1}), 'Taran Killam': defaultdict(<class 'int'>, {'Shawn Levy': 1, 'Jerome Elston Scott': 1}), 'Mem Ferda': defaultdict(<class 'int'>, {'Lee Tamahori': 1, 'Julian Gilbey': 1}), \"Nicole 'Snooki' Polizzi\": defaultdict(<class 'int'>, {-1: 1}), 'Bunta Sugawara': defaultdict(<class 'int'>, {'Hayao Miyazaki': 1}), 'Katrina Bowden': defaultdict(<class 'int'>, {'Sean Anders': 1, 'Eli Craig': 1, 'Malcolm Goodwin': 1}), 'Darci Kistler': defaultdict(<class 'int'>, {'Emile Ardolino': 1}), 'Tony Nappo': defaultdict(<class 'int'>, {'George A. Romero': 1}), 'Louis Koo': defaultdict(<class 'int'>, {'Danny Pang': 1}), 'Craig Roberts': defaultdict(<class 'int'>, {'Nicholas Stoller': 1, 'Richard Ayoade': 1}), 'Luenell': defaultdict(<class 'int'>, {'Larry Charles': 1}), 'Linda Cardellini': defaultdict(<class 'int'>, {'Robert Luketic': 1, 'Nicholaus Goossen': 1, 'James Gunn': 1}), 'Craig T. Nelson': defaultdict(<class 'int'>, {'Thomas Bezucha': 1, 'Jeff Kanew': 1, -1: 1}), 'Nia Vardalos': defaultdict(<class 'int'>, {'Kirk Jones': 1, 'Donald Petrie': 1, 'Joel Zwick': 1}), 'Shane Black': defaultdict(<class 'int'>, {'John McTiernan': 1}), 'Jeffrey Jones': defaultdict(<class 'int'>, {'Milos Forman': 1, 'Don Michael Paul': 1}), 'Raoul Bova': defaultdict(<class 'int'>, {'Audrey Wells': 1}), 'Kristin Scott Thomas': defaultdict(<class 'int'>, {'Robert Altman': 1, 'Gilles Paquet-Brenner': 1, 'Mike Newell': 1, 'Sam Taylor-Johnson': 1}), 'Peter Gallagher': defaultdict(<class 'int'>, {-1: 1, 'Max Mayer': 1, 'Steven Soderbergh': 1}), 'Sally Hawkins': defaultdict(<class 'int'>, {'Woody Allen': 1, 'Phil Morrison': 1}), 'Christian Clemenson': defaultdict(<class 'int'>, {'Paul Greengrass': 1}), 'Christian Monzon': defaultdict(<class 'int'>, {'Bille Woodruff': 1}), 'Hulk Hogan': defaultdict(<class 'int'>, {'Rick Friedberg': 1}), 'Bob Newhart': defaultdict(<class 'int'>, {'Mike Nichols': 1}), 'Collette Wolfe': defaultdict(<class 'int'>, {'Jody Hill': 1}), 'Nicholas Rowe': defaultdict(<class 'int'>, {'Barry Levinson': 1}), 'Kelsey Grammer': defaultdict(<class 'int'>, {'Kevin Tancharoen': 1}), 'Alan Ruck': defaultdict(<class 'int'>, {'Chris Columbus': 1, 'Daniel Hsia': 1}), 'Jason Robards': defaultdict(<class 'int'>, {'William A. Fraker': 1}), 'Nancy Allen': defaultdict(<class 'int'>, {'Brian De Palma': 1}), 'Rebecca Budig': defaultdict(<class 'int'>, {'Courtney Solomon': 1}), 'Joan Allen': defaultdict(<class 'int'>, {'Ang Lee': 1, 'Lenny Abrahamson': 1}), 'Yaya DaCosta': defaultdict(<class 'int'>, {'Rob Reiner': 1}), 'David Margulies': defaultdict(<class 'int'>, {'Adrian Lyne': 1}), 'Ian McDiarmid': defaultdict(<class 'int'>, {'Matthew Robbins': 1}), 'David Masterson': defaultdict(<class 'int'>, {'Michael Hoffman': 1}), 'Tadanobu Asano': defaultdict(<class 'int'>, {'Sergey Bodrov': 1}), 'Barry Bostwick': defaultdict(<class 'int'>, {'Hal Needham': 1}), 'Julie Christie': defaultdict(<class 'int'>, {'Kenneth Branagh': 1, 'David Lean': 1}), 'Poppy Montgomery': defaultdict(<class 'int'>, {-1: 1}), 'Ulrich Tukur': defaultdict(<class 'int'>, {'Michael Haneke': 1}), 'James Hetfield': defaultdict(<class 'int'>, {'Nimród Antal': 1}), 'Austin Nichols': defaultdict(<class 'int'>, {'Gregor Jordan': 1}), 'Edgar Ramírez': defaultdict(<class 'int'>, {-1: 1}), 'Takuya Kimura': defaultdict(<class 'int'>, {'Tran Anh Hung': 1, 'Takashi Yamazaki': 1}), 'Greg Nicotero': defaultdict(<class 'int'>, {'George A. Romero': 1}), 'Ernie Reyes Jr.': defaultdict(<class 'int'>, {'Richard Fleischer': 1}), 'Vanessa Ferlito': defaultdict(<class 'int'>, {'Tyler Perry': 1}), 'Jason Momoa': defaultdict(<class 'int'>, {'David Hayter': 1}), 'Cassie Ventura': defaultdict(<class 'int'>, {'Jon M. Chu': 1}), 'Henry Ian Cusick': defaultdict(<class 'int'>, {'Xavier Gens': 1, 'Philip Saville': 1, 'Stephen Herek': 1}), 'Jennifer Hudson': defaultdict(<class 'int'>, {'Kasi Lemmons': 1, 'Darrell Roodt': 1}), 'Kirk Fox': defaultdict(<class 'int'>, {'Matt Dillon': 1}), 'Fionnula Flanagan': defaultdict(<class 'int'>, {'Alejandro Amenábar': 1}), 'Jeremy Brett': defaultdict(<class 'int'>, {'George Cukor': 1}), 'Chris Moss': defaultdict(<class 'int'>, {'Jay Chandrasekhar': 1}), 'Emmanuelle Vaugier': defaultdict(<class 'int'>, {'Michael Lehmann': 1, 'Darren Lynn Bousman': 1}), 'Kevin Grevioux': defaultdict(<class 'int'>, {'Sam Weisman': 1}), 'Morgan Saylor': defaultdict(<class 'int'>, {'Niki Caro': 1}), 'T.I.': defaultdict(<class 'int'>, {'Chris Robinson': 1}), 'Thomas F. Wilson': defaultdict(<class 'int'>, {'Trent Cooper': 1, 'Fred Walton': 1}), 'Ava Gardner': defaultdict(<class 'int'>, {'Nicholas Ray': 1}), 'Lou Taylor Pucci': defaultdict(<class 'int'>, {'Fede Alvarez': 1}), 'DeRay Davis': defaultdict(<class 'int'>, {'Ian Iqbal Rashid': 1}), 'Aidan Quinn': defaultdict(<class 'int'>, {'Rowdy Herrington': 1, 'Rick Bieber': 1, 'Conor McPherson': 1, 'Maggie Greenwald': 1, 'Mary Pat Kelly': 1}), 'Tippi Hedren': defaultdict(<class 'int'>, {'Noel Marshall': 1}), 'Brenda Fricker': defaultdict(<class 'int'>, {'Joel Schumacher': 1}), 'Julianna Guill': defaultdict(<class 'int'>, {'Todd Lincoln': 1}), 'Hal Holbrook': defaultdict(<class 'int'>, {'Oliver Stone': 1}), 'Danny Strong': defaultdict(<class 'int'>, {'Joe Nussbaum': 1}), 'Bruno Kirby': defaultdict(<class 'int'>, {'Rob Reiner': 1}), 'Ethan Suplee': defaultdict(<class 'int'>, {'Todd Phillips': 1, 'Tony Kaye': 1, 'Kevin Smith': 2, 'Morgan J. Freeman': 1}), 'Bérénice Bejo': defaultdict(<class 'int'>, {'Michel Hazanavicius': 1}), 'Clive Russell': defaultdict(<class 'int'>, {'Cyrus Nowrasteh': 1}), 'Jennifer Esposito': defaultdict(<class 'int'>, {'Perry Andelin Blake': 1, 'Daniel Taplitz': 1}), 'Ivana Baquero': defaultdict(<class 'int'>, {'Guillermo del Toro': 1}), 'Leslie Bibb': defaultdict(<class 'int'>, {'John Whitesell': 1, 'Sam Miller': 1, 'Goran Dukic': 1, 'Catherine Jelski': 1}), 'Brittany Daniel': defaultdict(<class 'int'>, {'Dennie Gordon': 1, 'Jay Chandrasekhar': 1}), 'Bolo Yeung': defaultdict(<class 'int'>, {'Sheldon Lettich': 1, 'Newt Arnold': 1}), 'Bill Bailey': defaultdict(<class 'int'>, {'Edgar Wright': 1}), 'Gustaf Skarsgård': defaultdict(<class 'int'>, {'Peter Flinth': 1}), 'Gretchen Mol': defaultdict(<class 'int'>, {'Josef Rusnak': 1, 'Jason Alexander': 1}), 'Farrah Fawcett': defaultdict(<class 'int'>, {'Lance Rivera': 1, 'Michael Anderson': 1}), 'Lochlyn Munro': defaultdict(<class 'int'>, {'Bruce Paltrow': 1, 'Fred Savage': 1}), 'Alison Lohman': defaultdict(<class 'int'>, {'Susanne Bier': 1, 'Michael Mayer': 1}), 'Charles Napier': defaultdict(<class 'int'>, {'Kenneth Johnson': 1, 'Russ Meyer': 1}), 'Paz de la Huerta': defaultdict(<class 'int'>, {'Gaspar Noé': 1}), 'Steven Van Zandt': defaultdict(<class 'int'>, {-1: 1}), 'David Alpay': defaultdict(<class 'int'>, {'Atom Egoyan': 1}), 'Bruce Dern': defaultdict(<class 'int'>, {'William Bindley': 1, 'Joe Dante': 1, 'Douglas Trumbull': 1}), 'Carole Bouquet': defaultdict(<class 'int'>, {'Gérard Krawczyk': 1}), 'Dustin Milligan': defaultdict(<class 'int'>, {'James Gunn': 1}), 'Chen Chang': defaultdict(<class 'int'>, {'Ang Lee': 1}), 'Bex Taylor-Klaus': defaultdict(<class 'int'>, {-1: 1}), 'Nicole Dionne': defaultdict(<class 'int'>, {'JK Youn': 1}), \"Beverly D'Angelo\": defaultdict(<class 'int'>, {'Harold Ramis': 1, 'John Turturro': 1}), 'Jackson Nicoll': defaultdict(<class 'int'>, {'Jeff Tremaine': 1}), 'Roger Allam': defaultdict(<class 'int'>, {'Stephen Frears': 1}), 'Frankie Muniz': defaultdict(<class 'int'>, {'Shawn Levy': 1}), 'Clayton Snyder': defaultdict(<class 'int'>, {'Jim Fall': 1}), 'Jordana Brewster': defaultdict(<class 'int'>, {'Robert Rodriguez': 1, 'Angela Robinson': 1}), \"Rae'Ven Kelly\": defaultdict(<class 'int'>, {'Brian Gibson': 1}), 'Claude Rains': defaultdict(<class 'int'>, {'David Lean': 1, 'Frank Capra': 1}), 'Tony Goldwyn': defaultdict(<class 'int'>, {'Dennis Iliadis': 1, 'Tom McLoughlin': 1}), 'Jack Davenport': defaultdict(<class 'int'>, {'Clare Kilner': 1}), 'Jessie T. Usher': defaultdict(<class 'int'>, {'Thomas Carter': 1}), 'Kim Director': defaultdict(<class 'int'>, {'Joe Berlinger': 1}), 'Christine Taylor': defaultdict(<class 'int'>, {'Andrew Fleming': 1}), 'Sierra McCormick': defaultdict(<class 'int'>, {'Elizabeth Allen Rosenbaum': 1}), 'Kieran Culkin': defaultdict(<class 'int'>, {'Robert Harmon': 1, 'Peter Care': 1, 'Burr Steers': 1, 'Peter Chelsom': 1}), 'Jeff Kober': defaultdict(<class 'int'>, {'Martin Weisz': 1}), 'William Hurt': defaultdict(<class 'int'>, {'Jay Russell': 1, 'Léa Pool': 1, 'Stephen Hopkins': 1, 'Randall Miller': 1}), 'Kelly Carlson': defaultdict(<class 'int'>, {'John Bonito': 1}), 'Jason Priestley': defaultdict(<class 'int'>, {'Stephan Elliott': 1, 'Richard Kwietniowski': 1}), 'Yuri Lowenthal': defaultdict(<class 'int'>, {'Mike Nawrocki': 1}), 'Daniel Stern': defaultdict(<class 'int'>, {'Drew Barrymore': 1, 'Douglas Cheek': 1}), 'Trevor Morgan': defaultdict(<class 'int'>, {'Steve Gomer': 1}), 'Oliver James': defaultdict(<class 'int'>, {'Sean McNamara': 1}), 'David Ogden Stiers': defaultdict(<class 'int'>, {-1: 2}), 'Khandi Alexander': defaultdict(<class 'int'>, {'Ron Shelton': 1, 'Leon Ichaso': 1}), 'Elizabeth Berrington': defaultdict(<class 'int'>, {'Martin McDonagh': 1}), 'Larry David': defaultdict(<class 'int'>, {'Woody Allen': 1, 'Joshua Tickell': 1}), 'Matthew Settle': defaultdict(<class 'int'>, {'Mary Lambert': 1}), 'Levon Helm': defaultdict(<class 'int'>, {'Tommy Lee Jones': 1}), 'Anna Silk': defaultdict(<class 'int'>, {-1: 1}), 'Thomas Kretschmann': defaultdict(<class 'int'>, {'Brad Anderson': 1, 'Oliver Hirschbiegel': 1}), 'Curtis Armstrong': defaultdict(<class 'int'>, {'Michael Chapman': 1, 'Doug Atchison': 1, 'Stephen Sommers': 1}), 'Thomas Stroppel': defaultdict(<class 'int'>, {'Khalil Sullins': 1}), 'Brigitte Helm': defaultdict(<class 'int'>, {'Fritz Lang': 1}), 'David Belle': defaultdict(<class 'int'>, {'Pierre Morel': 1}), 'Qi Shu': defaultdict(<class 'int'>, {'Hsiao-Hsien Hou': 1}), 'Konstantin Lavronenko': defaultdict(<class 'int'>, {'Andrey Zvyagintsev': 1}), 'Nirut Sirichanya': defaultdict(<class 'int'>, {'Tony Jaa': 1}), 'Christopher Heyerdahl': defaultdict(<class 'int'>, {'Russell Mulcahy': 1}), 'Eddie Izzard': defaultdict(<class 'int'>, {'Stefan Ruzowitzky': 1, 'E. Elias Merhige': 1}), 'Stephen Graham': defaultdict(<class 'int'>, {'Jake Paltrow': 1, 'Roland Suso Richter': 1, 'Tom Hooper': 1, 'Shane Meadows': 1}), 'Anna Friel': defaultdict(<class 'int'>, {'Juraj Jakubisko': 1, 'David Leland': 1, 'Barry Levinson': 1}), 'Birgitte Hjort Sørensen': defaultdict(<class 'int'>, {'Gabe Ibáñez': 1}), 'Bruce Payne': defaultdict(<class 'int'>, {'Gerry Lively': 1}), 'Maximilian Dirr': defaultdict(<class 'int'>, {'Daniele Luchetti': 1}), 'Samantha Morton': defaultdict(<class 'int'>, {'Julien Temple': 1, 'Michael Winterbottom': 1, 'Lynne Ramsay': 1, 'Liv Ullmann': 1, 'Eric Styles': 1}), 'Sharon Leal': defaultdict(<class 'int'>, {'Peter Cousens': 1}), 'Anil Kapoor': defaultdict(<class 'int'>, {'Danny Boyle': 1}), 'Fred Gwynne': defaultdict(<class 'int'>, {'Adrian Lyne': 1, 'Jonathan Lynn': 1}), 'María Valverde': defaultdict(<class 'int'>, {'Vidhu Vinod Chopra': 1}), 'Doug E. Doug': defaultdict(<class 'int'>, {'Jon Turteltaub': 1}), 'Jensen Ackles': defaultdict(<class 'int'>, {'Patrick Lussier': 1, -1: 1}), 'Caroline Munro': defaultdict(<class 'int'>, {'Lewis Gilbert': 1}), 'Amy Bruni': defaultdict(<class 'int'>, {-1: 1}), 'Phil Vischer': defaultdict(<class 'int'>, {'Mike Nawrocki': 1}), 'Janet Jackson': defaultdict(<class 'int'>, {'John Singleton': 1}), 'Mike Epps': defaultdict(<class 'int'>, {'Kevin Bray': 1, 'Marcus Raboy': 1}), 'Linda Blair': defaultdict(<class 'int'>, {'John Boorman': 1}), 'Lily Tomlin': defaultdict(<class 'int'>, {'Franco Zeffirelli': 1, 'David O. Russell': 1}), 'Peter Mensah': defaultdict(<class 'int'>, {'James Isaac': 1, -1: 1}), 'Monica Potter': defaultdict(<class 'int'>, {'Mark Waters': 1}), 'Thomas McDonell': defaultdict(<class 'int'>, {'Josh Schwartz': 1}), 'Emmanuelle Seigner': defaultdict(<class 'int'>, {'Julian Schnabel': 1}), 'Derek Luke': defaultdict(<class 'int'>, {'Phillip Noyce': 1}), 'Melissa Sagemiller': defaultdict(<class 'int'>, {'Stephen Carpenter': 1}), 'Seth Gilliam': defaultdict(<class 'int'>, {'James Ivory': 1}), 'Lesley Manville': defaultdict(<class 'int'>, {'Mike Leigh': 2}), 'Mathieu Amalric': defaultdict(<class 'int'>, {'Alain Resnais': 1, 'Mathieu Amalric': 1}), 'Sebastian Koch': defaultdict(<class 'int'>, {'Costa-Gavras': 1, 'Florian Henckel von Donnersmarck': 1}), 'Woo-sung Jung': defaultdict(<class 'int'>, {'Chao-Bin Su': 1}), 'John Heard': defaultdict(<class 'int'>, {'Neil Burger': 1, 'Ed Harris': 1}), 'Krystyna Janda': defaultdict(<class 'int'>, {-1: 1}), 'Jacek Koman': defaultdict(<class 'int'>, {-1: 1}), 'Belén Rueda': defaultdict(<class 'int'>, {'Alejandro Amenábar': 1}), 'Jason Mewes': defaultdict(<class 'int'>, {'Hyung-rae Shim': 1, 'Kevin Smith': 1}), 'Usher Raymond': defaultdict(<class 'int'>, {'Jon M. Chu': 1}), 'Sean Patrick Thomas': defaultdict(<class 'int'>, {'Thomas Carter': 1, 'Tim Story': 1}), 'Tuesday Knight': defaultdict(<class 'int'>, {'Renny Harlin': 1}), 'Jack Palance': defaultdict(<class 'int'>, {'Christopher Cain': 1}), 'Óscar Jaenada': defaultdict(<class 'int'>, {'Jaume Collet-Serra': 1}), 'Chris Elliott': defaultdict(<class 'int'>, {'Chris Koch': 1}), 'Kathleen Turner': defaultdict(<class 'int'>, {'Bob Clark': 1, 'John Waters': 1}), 'Jenny Agutter': defaultdict(<class 'int'>, {'John Lafia': 1}), 'Elina Alminas': defaultdict(<class 'int'>, {'Alex Garland': 1}), 'Teo Halm': defaultdict(<class 'int'>, {'Dave Green': 1}), 'Yuki Matsuzaki': defaultdict(<class 'int'>, {'Clint Eastwood': 1}), 'Don Rickles': defaultdict(<class 'int'>, {'Bob Saget': 1}), 'Michael Nyqvist': defaultdict(<class 'int'>, {'Niels Arden Oplev': 1, 'Kay Pollak': 1}), 'Justin Chon': defaultdict(<class 'int'>, {'Jon Lucas': 1, 'Alex Craig Mann': 1}), 'Burt Young': defaultdict(<class 'int'>, {'Jon Hess': 1}), 'John Boyega': defaultdict(<class 'int'>, {'Joe Cornish': 1}), 'Jelena Jovanova': defaultdict(<class 'int'>, {'Angelina Jolie Pitt': 1}), 'Steve Irwin': defaultdict(<class 'int'>, {'John Stainton': 1}), 'Dameon Clarke': defaultdict(<class 'int'>, {'Glenn Ficarra': 1}), 'Rae Dawn Chong': defaultdict(<class 'int'>, {'Jean-Jacques Annaud': 1}), 'Gabriel Millman': defaultdict(<class 'int'>, {'Michael Hoffman': 1}), 'Julian Morris': defaultdict(<class 'int'>, {'Stewart Hendler': 1, 'Darin Scott': 1, 'Jeff Wadlow': 1, 'Oliver Blackburn': 1}), 'David Niven': defaultdict(<class 'int'>, {'John Cromwell': 1}), 'Richard Johnson': defaultdict(<class 'int'>, {'Mark Herman': 1}), 'Isabella Rossellini': defaultdict(<class 'int'>, {'Abel Ferrara': 1, 'James Gray': 1, 'Paul Fierlinger': 1}), 'Min-sik Choi': defaultdict(<class 'int'>, {'Je-kyu Kang': 1, 'Chan-wook Park': 2}), 'Sean Young': defaultdict(<class 'int'>, {'Tom Shadyac': 1}), 'Alex Veadov': defaultdict(<class 'int'>, {'Mike McCoy': 1}), 'Shelley Duvall': defaultdict(<class 'int'>, {'Terry Gilliam': 1}), 'Britney Spears': defaultdict(<class 'int'>, {'Tamra Davis': 1}), 'Dax Flame': defaultdict(<class 'int'>, {'Nima Nourizadeh': 1}), 'George C. Scott': defaultdict(<class 'int'>, {'Franklin J. Schaffner': 1, 'Robert Rossen': 1, 'Stanley Kubrick': 1}), 'Steven Mackintosh': defaultdict(<class 'int'>, {'Brian Henson': 1}), 'Lexie Contursi': defaultdict(<class 'int'>, {'Dan Cutforth': 1}), 'Talia Shire': defaultdict(<class 'int'>, {'John Frankenheimer': 1}), 'Tammin Sursok': defaultdict(<class 'int'>, {'Elizabeth Allen Rosenbaum': 1}), 'Nat Wolff': defaultdict(<class 'int'>, {'Jake Schreier': 1}), 'Common': defaultdict(<class 'int'>, {'Sanaa Hamri': 1, 'Michel Gondry': 1}), 'Jürgen Prochnow': defaultdict(<class 'int'>, {'Wolfgang Petersen': 1}), 'Heather Matarazzo': defaultdict(<class 'int'>, {'Wallace Wolodarsky': 1, 'Todd Solondz': 1}), 'Tom Hughes': defaultdict(<class 'int'>, {'Richard Curtis': 1}), 'Nate Parker': defaultdict(<class 'int'>, {'Nicholas Jarecki': 1, 'Gina Prince-Bythewood': 1}), 'Gary Weeks': defaultdict(<class 'int'>, {'Dean Israelite': 1}), 'Melanie Griffith': defaultdict(<class 'int'>, {'Woody Allen': 1, 'Brian De Palma': 1}), 'Jill Clayburgh': defaultdict(<class 'int'>, {'Ryan Murphy': 1}), 'Anika Noni Rose': defaultdict(<class 'int'>, {'Robert Iscove': 1}), 'Doona Bae': defaultdict(<class 'int'>, {'Joon-ho Bong': 1}), 'Jeremy Davies': defaultdict(<class 'int'>, {'Antonia Bird': 1, 'Steven Shainberg': 1}), 'Toni Servillo': defaultdict(<class 'int'>, {'Paolo Sorrentino': 1}), 'Mia Wasikowska': defaultdict(<class 'int'>, {'Chan-wook Park': 1, 'Rodrigo García': 1}), 'David Richmond-Peck': defaultdict(<class 'int'>, {'Ira Sachs': 1}), 'Eamonn Walker': defaultdict(<class 'int'>, {'Carroll Ballard': 1}), 'Eva Amurri Martino': defaultdict(<class 'int'>, {'Vadim Perelman': 1}), 'Marcell Nagy': defaultdict(<class 'int'>, {'Lajos Koltai': 1}), 'Honglei Sun': defaultdict(<class 'int'>, {'Yimou Zhang': 1}), 'David Hewlett': defaultdict(<class 'int'>, {'Vincenzo Natali': 3}), 'Ye Liu': defaultdict(<class 'int'>, {'Chuan Lu': 1}), 'Richard Coyle': defaultdict(<class 'int'>, {'Renny Harlin': 1}), 'Rachael Carpani': defaultdict(<class 'int'>, {'Christopher Smith': 1}), 'Jacob Vargas': defaultdict(<class 'int'>, {'Randall Wallace': 1}), 'Gary Daniels': defaultdict(<class 'int'>, {'David Winters': 1}), 'Miko Hughes': defaultdict(<class 'int'>, {'Mary Lambert': 1, 'Wes Craven': 1}), 'Tatsuo Matsumura': defaultdict(<class 'int'>, {'Akira Kurosawa': 1}), 'Wei Tang': defaultdict(<class 'int'>, {'Mabel Cheung': 1}), 'Phoebe Cates': defaultdict(<class 'int'>, {'Joe Dante': 1}), 'Wagner Moura': defaultdict(<class 'int'>, {'Stephen Daldry': 1, 'José Padilha': 1, 'Karim Aïnouz': 1}), 'Lucas Grabeel': defaultdict(<class 'int'>, {'Kenny Ortega': 3}), 'Zoe Ventoura': defaultdict(<class 'int'>, {'Brian Trenchard-Smith': 1}), 'Corbin Bernsen': defaultdict(<class 'int'>, {'David S. Ward': 1, 'Rusty Cundieff': 1, -1: 1, 'Corbin Bernsen': 1, 'Daniel Mellitz': 1}), 'Lily Cole': defaultdict(<class 'int'>, {'Oliver Parker': 1}), 'Lauren German': defaultdict(<class 'int'>, {'Adam Shankman': 1}), 'Lois Smith': defaultdict(<class 'int'>, {'Tim Robbins': 1}), 'Madeline Kahn': defaultdict(<class 'int'>, {'Mel Brooks': 4, 'James Frawley': 1}), 'Steven Bauer': defaultdict(<class 'int'>, {'Brian De Palma': 1}), 'Louise Fletcher': defaultdict(<class 'int'>, {'Tobe Hooper': 1}), 'Lee Majors': defaultdict(<class 'int'>, {'Brendan Malloy': 1}), 'Luke Newberry': defaultdict(<class 'int'>, {'Dustin Hoffman': 1}), 'Patricia Tallman': defaultdict(<class 'int'>, {'Sam Raimi': 1}), 'Michael McKean': defaultdict(<class 'int'>, {'Daisy von Scherler Mayer': 1, 'Christopher Guest': 1}), 'Phyllida Law': defaultdict(<class 'int'>, {'Agnieszka Holland': 1}), 'Sam Riley': defaultdict(<class 'int'>, {'Rowan Joffe': 1, 'Anton Corbijn': 1}), 'John Cassavetes': defaultdict(<class 'int'>, {'Giuliano Montaldo': 1, 'Roman Polanski': 1}), 'Nora Dunn': defaultdict(<class 'int'>, {'Lisa Azuelos': 1}), 'John Howard': defaultdict(<class 'int'>, {'Ray Lawrence': 1}), 'Shah Rukh Khan': defaultdict(<class 'int'>, {'Karan Johar': 2, 'Yash Chopra': 2}), 'Keir Dullea': defaultdict(<class 'int'>, {'Stanley Kubrick': 1}), 'Henry Thomas': defaultdict(<class 'int'>, {'Steven Spielberg': 1, 'Greg Marcks': 1, 'Michael Landon Jr.': 1}), 'Ricky Schroder': defaultdict(<class 'int'>, {'Floyd Mutrux': 1, 'Jeb Stuart': 1}), 'Antonia Thomas': defaultdict(<class 'int'>, {-1: 1}), 'Arjun Rampal': defaultdict(<class 'int'>, {'Sajid Khan': 1}), 'Jon Gries': defaultdict(<class 'int'>, {'Christopher Cain': 1}), 'Santiago Cabrera': defaultdict(<class 'int'>, {'Dean Wright': 1}), 'Karin Viard': defaultdict(<class 'int'>, {'Eric Lartigau': 1}), 'Boris Kodjoe': defaultdict(<class 'int'>, {'Tyler Perry': 1, 'Douglas Aarniokoski': 1, 'Rick Famuyiwa': 1, 'Bille Woodruff': 1}), 'Richard Burton': defaultdict(<class 'int'>, {'Ken Annakin': 1, 'Henry Koster': 1}), 'Lane Smith': defaultdict(<class 'int'>, {'Stephen Herek': 1}), 'Tina Turner': defaultdict(<class 'int'>, {'George Miller': 1}), 'Lauren Cohan': defaultdict(<class 'int'>, {'William Brent Bell': 1}), 'Jeff Fahey': defaultdict(<class 'int'>, {'Brett Leonard': 1}), 'Laila Haley': defaultdict(<class 'int'>, {'Ciarán Foy': 1}), 'Billy Drago': defaultdict(<class 'int'>, {'Joseph Zito': 1}), 'Jurnee Smollett-Bell': defaultdict(<class 'int'>, {'Malcolm D. Lee': 1, 'Kasi Lemmons': 1}), 'David Zayas': defaultdict(<class 'int'>, {'Colin Strause': 1}), 'Tina Desai': defaultdict(<class 'int'>, {'John Madden': 1}), 'Ben Feldman': defaultdict(<class 'int'>, {'Mark Rosman': 1, 'John Erick Dowdle': 1}), 'Steve Oedekerk': defaultdict(<class 'int'>, {'Steve Oedekerk': 1}), 'Reba McEntire': defaultdict(<class 'int'>, {'Ron Underwood': 1}), 'Byron Mann': defaultdict(<class 'int'>, {'James Foley': 1}), 'Wendi McLendon-Covey': defaultdict(<class 'int'>, {'Robert Ben Garant': 1}), 'Harry Styles': defaultdict(<class 'int'>, {'Morgan Spurlock': 1}), 'Chase Ellison': defaultdict(<class 'int'>, {'Jim Hanon': 1}), 'Jasper Cole': defaultdict(<class 'int'>, {'Jorma Taccone': 1}), 'Sophie Okonedo': defaultdict(<class 'int'>, {'Stephen Frears': 1}), 'Michaela Conlin': defaultdict(<class 'int'>, {-1: 1}), 'Daniel Sharman': defaultdict(<class 'int'>, {'Marcus Dunstan': 1}), 'Johannes Silberschneider': defaultdict(<class 'int'>, {'François Girard': 1}), 'Dylan Moran': defaultdict(<class 'int'>, {'David Schwimmer': 1}), 'Bernadette Peters': defaultdict(<class 'int'>, {'Allan Arkush': 1}), 'Flavio Parenti': defaultdict(<class 'int'>, {'Luca Guadagnino': 1}), 'Robert Picardo': defaultdict(<class 'int'>, {'John Putch': 1}), 'Peter Fonda': defaultdict(<class 'int'>, {'Steven Soderbergh': 1, 'Victor Nunez': 1}), 'Eric Stoltz': defaultdict(<class 'int'>, {'Terence Davies': 1, 'Roger Avary': 1}), 'Cliff Robertson': defaultdict(<class 'int'>, {'Harley Cokeliss': 1, 'Ralph Nelson': 1}), 'Scott Mechlowicz': defaultdict(<class 'int'>, {'Victor Salva': 1}), 'Gillian White': defaultdict(<class 'int'>, {'Spike Lee': 1}), 'Eoin Macken': defaultdict(<class 'int'>, {'Jason Zada': 1}), 'Miranda Richardson': defaultdict(<class 'int'>, {'David Cronenberg': 1}), 'Naseeruddin Shah': defaultdict(<class 'int'>, {'Rakesh Roshan': 1, 'Mira Nair': 1}), 'Bashar Rahal': defaultdict(<class 'int'>, {'Joshua Seftel': 1, 'Uwe Boll': 1}), 'Wei Zhao': defaultdict(<class 'int'>, {'Stephen Chow': 1}), 'Vincent Gallo': defaultdict(<class 'int'>, {'Vincent Gallo': 1}), 'Isabelle Huppert': defaultdict(<class 'int'>, {'Claude Chabrol': 1, 'Michael Haneke': 1}), 'Numan Acar': defaultdict(<class 'int'>, {'Jon Stewart': 1}), 'Kip Pardue': defaultdict(<class 'int'>, {'Dan Harris': 1}), 'Danny Dyer': defaultdict(<class 'int'>, {'Christopher Smith': 1, 'Justin Kerrigan': 1, 'Dan Reed': 1}), 'Jorge Luis Moreno': defaultdict(<class 'int'>, {'Rafa Lara': 1}), 'Adrian Martinez': defaultdict(<class 'int'>, {'Julio DePietro': 1}), 'Stephanie Szostak': defaultdict(<class 'int'>, {'Katherine Dieckmann': 1, 'Paolo Monico': 1}), 'Madison Pettis': defaultdict(<class 'int'>, {'William Dear': 1}), 'Nicholas Hamilton': defaultdict(<class 'int'>, {'Kim Farrant': 1}), 'Drew Fuller': defaultdict(<class 'int'>, {'Scott Marshall': 1}), 'Jim Carter': defaultdict(<class 'int'>, {'Álex de la Iglesia': 1}), 'Damian Walshe-Howling': defaultdict(<class 'int'>, {'Andrew Traucki': 1}), 'Teryl Rothery': defaultdict(<class 'int'>, {'Patrick Lussier': 1}), 'Shane Pollard': defaultdict(<class 'int'>, {'Robert Adetuyi': 1}), 'Veronica Ferres': defaultdict(<class 'int'>, {'Paul Schrader': 1}), 'Ingvar Eggert Sigurðsson': defaultdict(<class 'int'>, {'Benedikt Erlingsson': 1}), 'Sendhil Ramamurthy': defaultdict(<class 'int'>, {'Gurinder Chadha': 1, -1: 1}), 'Jimi Mistry': defaultdict(<class 'int'>, {'Vic Sarin': 1}), 'Kang-ho Song': defaultdict(<class 'int'>, {'Jee-woon Kim': 1}), 'Tyler Mane': defaultdict(<class 'int'>, {'William Phillips': 1}), 'Danny Pino': defaultdict(<class 'int'>, {'Andy Garcia': 1, -1: 1}), 'Daniella Alonso': defaultdict(<class 'int'>, {'Valeri Milev': 1}), 'Carmen Maura': defaultdict(<class 'int'>, {'Pedro Almodóvar': 1}), 'John Vernon': defaultdict(<class 'int'>, {'Gerald Potterton': 1}), 'Jizelle Jade': defaultdict(<class 'int'>, {'Jared Hess': 1}), 'Bárbara Mori': defaultdict(<class 'int'>, {'Anurag Basu': 1}), 'Noah Taylor': defaultdict(<class 'int'>, {'Kriv Stenders': 1, 'Scott Hicks': 1}), 'Topol': defaultdict(<class 'int'>, {'Norman Jewison': 1}), 'Riccardo Scamarcio': defaultdict(<class 'int'>, {'Ferzan Ozpetek': 1, 'Maïwenn': 1}), 'Catherine Hicks': defaultdict(<class 'int'>, {'Tom Holland': 1}), 'Michael Moore': defaultdict(<class 'int'>, {'Michael Moore': 4}), 'Noel Gugliemi': defaultdict(<class 'int'>, {'James DeMonaco': 1, 'Youssef Delara': 2, 'Jonas Åkerlund': 1}), 'Don Ameche': defaultdict(<class 'int'>, {'John Landis': 1}), 'Kristin Lehman': defaultdict(<class 'int'>, {'Christopher McQuarrie': 1}), 'Ronn Moss': defaultdict(<class 'int'>, {-1: 1}), 'Jung-min Hwang': defaultdict(<class 'int'>, {'Hong-jin Na': 1}), 'Sarunyu Wongkrachang': defaultdict(<class 'int'>, {'Chatrichalerm Yukol': 1}), 'Lambert Wilson': defaultdict(<class 'int'>, {'Eric Lavaine': 1, 'Xavier Beauvois': 1}), \"Q'orianka Kilcher\": defaultdict(<class 'int'>, {'Marc Forby': 1, 'Hank Braxtan': 1}), 'Jacqueline McKenzie': defaultdict(<class 'int'>, {'Peter Cattaneo': 1}), 'Lars Mikkelsen': defaultdict(<class 'int'>, {'Ole Christian Madsen': 1}), 'Harrison Gilbertson': defaultdict(<class 'int'>, {'Jeremy Sims': 1}), 'Dee Bradley Baker': defaultdict(<class 'int'>, {-1: 1}), 'David Keith': defaultdict(<class 'int'>, {'Mark Rydell': 1, 'Brian Trenchard-Smith': 1}), 'Jane Fonda': defaultdict(<class 'int'>, {'Roger Vadim': 1}), 'Bjørn Sundquist': defaultdict(<class 'int'>, {'Nils Gaup': 1, 'Tommy Wirkola': 1}), 'Jacinda Barrett': defaultdict(<class 'int'>, {'Mira Nair': 1}), 'Mariah Carey': defaultdict(<class 'int'>, {'Vondie Curtis-Hall': 1}), 'Abigail Spencer': defaultdict(<class 'int'>, {'Tom Elkins': 1}), 'Yu-mi Jeong': defaultdict(<class 'int'>, {'Woo-Suk Kang': 1}), 'Robert Redford': defaultdict(<class 'int'>, {'J.C. Chandor': 1}), 'Mary Elizabeth Mastrantonio': defaultdict(<class 'int'>, {'John Sayles': 1}), 'Katrina Kaif': defaultdict(<class 'int'>, {'Vipul Amrutlal Shah': 1}), 'Padraic Delaney': defaultdict(<class 'int'>, {'Ken Loach': 1}), 'Ranbir Kapoor': defaultdict(<class 'int'>, {'Ayan Mukerji': 1, 'Shimit Amin': 1}), 'Peter Ustinov': defaultdict(<class 'int'>, {'Mervyn LeRoy': 1}), 'Necati Sasmaz': defaultdict(<class 'int'>, {'Serdar Akar': 1}), 'Eleanor Parker': defaultdict(<class 'int'>, {'Robert Wise': 1}), 'Marshall Bell': defaultdict(<class 'int'>, {'Rob Reiner': 1}), 'Noah Huntley': defaultdict(<class 'int'>, {'Danny Boyle': 1}), 'Jennifer Freeman': defaultdict(<class 'int'>, {'Chris Stokes': 1}), 'James Kyson': defaultdict(<class 'int'>, {'Masayuki Ochiai': 1}), 'Mackenzie Davis': defaultdict(<class 'int'>, {'Tom Gormican': 1}), 'Brian Doyle-Murray': defaultdict(<class 'int'>, {'Ken Shapiro': 1}), 'Tina Gilton': defaultdict(<class 'int'>, {'Justin Tipping': 1}), 'Telly Savalas': defaultdict(<class 'int'>, {'Peter R. Hunt': 1}), 'Nick Wechsler': defaultdict(<class 'int'>, {-1: 1}), 'Stephen Collins': defaultdict(<class 'int'>, {'John Schultz': 1}), 'Alexandra Maria Lara': defaultdict(<class 'int'>, {'James Ivory': 1}), 'Christopher Nicholas Smith': defaultdict(<class 'int'>, {'Nicole Holofcener': 1}), 'Cameron Monaghan': defaultdict(<class 'int'>, {'Joe Nussbaum': 1}), 'Faye Dunaway': defaultdict(<class 'int'>, {'Michael Winner': 1, 'Frank Perry': 1}), 'Sean Lennon': defaultdict(<class 'int'>, {'Tomm Moore': 1}), 'Alexia Fast': defaultdict(<class 'int'>, {'Andrew Currie': 1}), 'Ian Tracey': defaultdict(<class 'int'>, {'Claudia Llosa': 1}), 'Mitsuo Iwata': defaultdict(<class 'int'>, {'Katsuhiro Ôtomo': 1}), 'Stephen McHattie': defaultdict(<class 'int'>, {'Charles Binamé': 1, 'Bruce McDonald': 1, 'Boris Rodriguez': 1}), 'Rachel Ann Mullins': defaultdict(<class 'int'>, {'Keith Parmer': 1}), 'Leehom Wang': defaultdict(<class 'int'>, {'Dennie Gordon': 1}), 'Celia Imrie': defaultdict(<class 'int'>, {'Ol Parker': 1}), 'Mckenna Grace': defaultdict(<class 'int'>, {'Bruce Beresford': 1}), 'Spencer Wilding': defaultdict(<class 'int'>, {'James Nunn': 1}), 'Scott Takeda': defaultdict(<class 'int'>, {'Michael Winnick': 1}), 'Françoise Yip': defaultdict(<class 'int'>, {'Stanley Tong': 1}), 'Joely Richardson': defaultdict(<class 'int'>, {'Tony Richardson': 1, 'Henry Hobson': 1}), 'Molly Parker': defaultdict(<class 'int'>, {'Paul Gross': 1}), 'Eric Johnson': defaultdict(<class 'int'>, {'Russell Holt': 1}), 'Sandrine Kiberlain': defaultdict(<class 'int'>, {'Claude Miller': 1}), 'Akon': defaultdict(<class 'int'>, {'Jeta Amata': 1}), 'Saif Ali Khan': defaultdict(<class 'int'>, {'Siddharth Anand': 1, 'Jugal Hansraj': 1}), 'Max Riemelt': defaultdict(<class 'int'>, {'Dennis Gansel': 1}), 'George Coe': defaultdict(<class 'int'>, {'Robert Marcarelli': 1}), 'Darren Shahlavi': defaultdict(<class 'int'>, {'Ernie Barbarash': 1}), 'Michael Nouri': defaultdict(<class 'int'>, {'Adrian Lyne': 1}), 'Sullivan Stapleton': defaultdict(<class 'int'>, {'Jonathan Liebesman': 1}), 'MyAnna Buring': defaultdict(<class 'int'>, {'Neil Marshall': 1, 'Phil Claydon': 1, 'Ben Wheatley': 1}), 'Sid Haig': defaultdict(<class 'int'>, {'Rob Zombie': 3, 'Ward Roberts': 1}), 'Kimberly Elise': defaultdict(<class 'int'>, {'Rick Famuyiwa': 1}), 'Bernard Fox': defaultdict(<class 'int'>, {'Sharron Miller': 1}), 'Michael Stuhlbarg': defaultdict(<class 'int'>, {'Ethan Coen': 1}), 'Irvin Kershner': defaultdict(<class 'int'>, {'Martin Scorsese': 1}), 'Jonathan Brandis': defaultdict(<class 'int'>, {'Michael Corrente': 1}), 'Indira Varma': defaultdict(<class 'int'>, {'Gurinder Chadha': 1, 'Mira Nair': 1}), 'Roy Billing': defaultdict(<class 'int'>, {'Phillip Noyce': 1}), 'Michael J. Pollard': defaultdict(<class 'int'>, {'Tony Maylam': 1}), 'Melinda Clarke': defaultdict(<class 'int'>, {-1: 1, 'Brian Yuzna': 1}), 'Ezra Miller': defaultdict(<class 'int'>, {'Lynne Ramsay': 1, 'Raymond De Felitta': 1}), 'Samantha Barks': defaultdict(<class 'int'>, {'John Stephenson': 1}), 'Nathalie Fay': defaultdict(<class 'int'>, {'Sofia Coppola': 1}), 'Geoff Stults': defaultdict(<class 'int'>, {'Bob Gosse': 1, 'Jennifer Finnigan': 1}), 'Lynn Cohen': defaultdict(<class 'int'>, {'Shari Springer Berman': 1, 'Frank Whaley': 1}), 'Leonid Yarmolnik': defaultdict(<class 'int'>, {'Aleksey German': 1}), 'Michael Wong': defaultdict(<class 'int'>, {'David Lam': 1}), 'Erin Fitzgerald': defaultdict(<class 'int'>, {'Vladlen Barbe': 1}), 'Debi Derryberry': defaultdict(<class 'int'>, {'Richard Rich': 1}), 'Ben Browder': defaultdict(<class 'int'>, {'Robert C. Cooper': 1}), 'Gordon Pinsent': defaultdict(<class 'int'>, {'Kim Nguyen': 1}), 'Rex Baker': defaultdict(<class 'int'>, {'Jackie Earle Haley': 1}), 'Heike Makatsch': defaultdict(<class 'int'>, {'Max Färberböck': 1}), 'Glenn Plummer': defaultdict(<class 'int'>, {'Damian Nieman': 1}), 'Lubna Azabal': defaultdict(<class 'int'>, {'Denis Villeneuve': 1}), 'Laura Morante': defaultdict(<class 'int'>, {'Gabriele Muccino': 1}), 'Deborah Mailman': defaultdict(<class 'int'>, {'Rachel Perkins': 1}), 'John Cothran': defaultdict(<class 'int'>, {'John Singleton': 1}), 'Rita Moreno': defaultdict(<class 'int'>, {'Alan Alda': 1, 'Jerome Robbins': 1, 'Stanley Donen': 1}), 'Angie Dickinson': defaultdict(<class 'int'>, {'Brian De Palma': 1}), 'Greg Germann': defaultdict(<class 'int'>, {'Nicole Holofcener': 1}), 'David Wayne': defaultdict(<class 'int'>, {'Robert Wise': 1}), 'Leon': defaultdict(<class 'int'>, {'Louis Morneau': 1}), 'Merab Ninidze': defaultdict(<class 'int'>, {'Caroline Link': 1}), 'Emily Podleski': defaultdict(<class 'int'>, {'Sterling Van Wagenen': 1}), 'Florian Lukas': defaultdict(<class 'int'>, {'Wolfgang Becker': 1}), 'Linnea Quigley': defaultdict(<class 'int'>, {\"Dan O'Bannon\": 1, 'Herb Freed': 1}), 'Maria Pia Calzone': defaultdict(<class 'int'>, {-1: 1}), 'Olivia Newton-John': defaultdict(<class 'int'>, {'Randal Kleiser': 1}), 'Osama bin Laden': defaultdict(<class 'int'>, {'Michael Moore': 1}), 'Katharine Ross': defaultdict(<class 'int'>, {'George Roy Hill': 1, 'Michael D. Sellers': 1}), 'Ed Wynn': defaultdict(<class 'int'>, {'Robert Stevenson': 1}), 'Lisa Wilcox': defaultdict(<class 'int'>, {'Stephen Hopkins': 1}), 'Tisha Campbell-Martin': defaultdict(<class 'int'>, {'Spike Lee': 1}), 'Sammo Kam-Bo Hung': defaultdict(<class 'int'>, {'Sammo Kam-Bo Hung': 1}), 'Hugh M. Hefner': defaultdict(<class 'int'>, {'Zach Cregger': 1, 'Fenton Bailey': 1}), 'Francis Capra': defaultdict(<class 'int'>, {-1: 1}), 'John Cameron Mitchell': defaultdict(<class 'int'>, {'John Cameron Mitchell': 1}), 'Antoni Corone': defaultdict(<class 'int'>, {'Sheldon Lettich': 1}), 'Rachel Alig': defaultdict(<class 'int'>, {'Jon Knautz': 1}), 'Chelcie Ross': defaultdict(<class 'int'>, {'David Atkins': 1}), 'William Holden': defaultdict(<class 'int'>, {'Sam Peckinpah': 1, 'David Lean': 1}), 'Lesley-Anne Down': defaultdict(<class 'int'>, {'Michael Crichton': 1}), 'Michael Berryman': defaultdict(<class 'int'>, {'Sylvio Tabet': 1, 'Ruggero Deodato': 1, 'Justin Thomas Ostensen': 1}), 'Benoît Magimel': defaultdict(<class 'int'>, {'Claude Chabrol': 1}), 'James Nesbitt': defaultdict(<class 'int'>, {'Peter Cattaneo': 1, -1: 1, 'Kirk Jones': 1, 'Paul Greengrass': 1}), 'Noam Chomsky': defaultdict(<class 'int'>, {'Tony Kaye': 1, 'Sut Jhally': 1}), 'Catherine Bell': defaultdict(<class 'int'>, {'Perry Lang': 1}), 'Pruitt Taylor Vince': defaultdict(<class 'int'>, {'Jake Goldberger': 1}), 'Drew Waters': defaultdict(<class 'int'>, {'William Kaufman': 1}), 'Debbie Harry': defaultdict(<class 'int'>, {'David Cronenberg': 1}), 'Yorick van Wageningen': defaultdict(<class 'int'>, {'Martin Koolhoven': 1}), 'Jeanne Moreau': defaultdict(<class 'int'>, {'John Frankenheimer': 1}), 'Simon Bird': defaultdict(<class 'int'>, {-1: 1}), 'Wesley Jonathan': defaultdict(<class 'int'>, {'Preston A. Whitmore II': 1, 'Michael Taliferro': 1}), 'Asin': defaultdict(<class 'int'>, {'Ashish R. Mohan': 1}), 'Jonathan D. Mellor': defaultdict(<class 'int'>, {'Jaume Balagueró': 1}), 'Kayla Jackson': defaultdict(<class 'int'>, {'Stewart Raffill': 1}), 'Alice Krige': defaultdict(<class 'int'>, {'Hugh Hudson': 1, 'Amanda Gusack': 1}), 'Stephen Macht': defaultdict(<class 'int'>, {'William Sachs': 1}), 'Jean-Baptiste Maunier': defaultdict(<class 'int'>, {'Christophe Barratier': 1}), 'Alexis Dziena': defaultdict(<class 'int'>, {'James Cox': 1}), 'Ruby Dee': defaultdict(<class 'int'>, {'Spike Lee': 1}), 'Jean-Pierre Léaud': defaultdict(<class 'int'>, {'Aki Kaurismäki': 1}), 'Philippe Nahon': defaultdict(<class 'int'>, {'Gaspar Noé': 1}), 'Lindsay Kay Hayward': defaultdict(<class 'int'>, {'Hitoshi Matsumoto': 1}), 'Anupam Kher': defaultdict(<class 'int'>, {'Rakeysh Omprakash Mehra': 1}), 'Kim Shaw': defaultdict(<class 'int'>, {'Collin Schiffli': 1}), 'Aksel Hennie': defaultdict(<class 'int'>, {'Morten Tyldum': 1}), 'Russell Tovey': defaultdict(<class 'int'>, {'Jon Wright': 1}), 'Campbell Scott': defaultdict(<class 'int'>, {'Michael McGowan': 1, 'Charles Ferguson': 1}), 'Teresa Wright': defaultdict(<class 'int'>, {'Jeannot Szwarc': 1}), 'Abhishek Bachchan': defaultdict(<class 'int'>, {'Rohan Sippy': 1, 'Arjun Sablok': 1}), 'Johanna Braddy': defaultdict(<class 'int'>, {'Henry Joost': 1}), 'John Saxon': defaultdict(<class 'int'>, {'Chuck Russell': 1}), 'Eugenio Derbez': defaultdict(<class 'int'>, {'Eugenio Derbez': 1}), 'Matt Shively': defaultdict(<class 'int'>, {'Henry Joost': 1}), 'Burt Kwouk': defaultdict(<class 'int'>, {'Blake Edwards': 1}), 'Richard Cabral': defaultdict(<class 'int'>, {'Christopher Landon': 1}), 'James Lafferty': defaultdict(<class 'int'>, {'Mike Flanagan': 1}), 'William Schallert': defaultdict(<class 'int'>, {'George Jackson': 1}), 'Tony Bonner': defaultdict(<class 'int'>, {'George Miller': 1}), 'John Beasley': defaultdict(<class 'int'>, {'Robert Duvall': 1}), 'Gene Tierney': defaultdict(<class 'int'>, {'Michael Curtiz': 1}), 'Kane Hodder': defaultdict(<class 'int'>, {'Rob Hedden': 1, 'Adam Marcus': 1, 'John Carl Buechler': 1, 'Matt Jackson': 1}), 'Maribel Verdú': defaultdict(<class 'int'>, {'Alfonso Cuarón': 1}), 'Peter Serafinowicz': defaultdict(<class 'int'>, {'Edgar Wright': 1}), 'Jessica Lowndes': defaultdict(<class 'int'>, {'Mickey Liddell': 1, 'Shyam Madiraju': 1}), 'Warren Christie': defaultdict(<class 'int'>, {'Gonzalo López-Gallego': 1}), 'Sterling Jerins': defaultdict(<class 'int'>, {'John Erick Dowdle': 1}), 'Vanna Bonta': defaultdict(<class 'int'>, {'Don Coscarelli': 1}), 'Gina Lollobrigida': defaultdict(<class 'int'>, {'King Vidor': 1, 'Carol Reed': 1}), 'Fred Willard': defaultdict(<class 'int'>, {'Michael Tiddes': 1}), 'Gary Cooper': defaultdict(<class 'int'>, {'Frank Borzage': 1, 'Fred Zinnemann': 1}), 'Lara Jill Miller': defaultdict(<class 'int'>, {'Mamoru Hosoda': 1}), 'Marie-Josée Croze': defaultdict(<class 'int'>, {'Denys Arcand': 1}), 'Robert Shaw': defaultdict(<class 'int'>, {'Richard Lester': 1, 'Fred Zinnemann': 1, 'Terence Young': 1}), 'Brendan Fehr': defaultdict(<class 'int'>, {'J.S. Cardone': 1}), 'Fran Drescher': defaultdict(<class 'int'>, {'Jay Levey': 1}), 'Claudia Cardinale': defaultdict(<class 'int'>, {'Sergio Leone': 1}), 'Norbert Ferrer': defaultdict(<class 'int'>, {'Ronan Chapalain': 1}), 'Cassandra Peterson': defaultdict(<class 'int'>, {'Jerry Belson': 1}), 'Kim Dickens': defaultdict(<class 'int'>, {'Jake Kasdan': 1}), 'Dana Delany': defaultdict(<class 'int'>, {'Paul Schrader': 1}), 'Alia Shawkat': defaultdict(<class 'int'>, {'Jeremy Saulnier': 1}), 'Liza Minnelli': defaultdict(<class 'int'>, {'Billy Kent': 1}), 'Andrew Wilson': defaultdict(<class 'int'>, {'Wes Anderson': 1}), 'Akshaye Khanna': defaultdict(<class 'int'>, {'Feroz Abbas Khan': 1}), 'Jeffrey Frost': defaultdict(<class 'int'>, {'Errol Morris': 1}), 'Raymond Burr': defaultdict(<class 'int'>, {'Dennis Hopper': 1}), 'Judith Anderson': defaultdict(<class 'int'>, {'Richard Wallace': 1}), 'Meghan Ory': defaultdict(<class 'int'>, {'Matthew Hastings': 1}), 'Ocean James': defaultdict(<class 'int'>, {'M. Night Shyamalan': 1}), 'Mike Figueroa': defaultdict(<class 'int'>, {'Brian De Palma': 1}), 'Glenn Campbell': defaultdict(<class 'int'>, {'Oren Peli': 1}), 'Luis Tosar': defaultdict(<class 'int'>, {'Jaume Balagueró': 1, 'Fernando León de Aranoa': 1}), 'Dave Legeno': defaultdict(<class 'int'>, {'Paul Andrew Williams': 1}), 'Teri Polo': defaultdict(<class 'int'>, {'Eric Bross': 1, 'Charles Adelman': 1}), 'James Frain': defaultdict(<class 'int'>, {'Vicky Jewson': 1}), 'David Huddleston': defaultdict(<class 'int'>, {'Peter Hyams': 1}), 'David Raizor': defaultdict(<class 'int'>, {'Mike Mayhall': 1}), 'Mikal Vega': defaultdict(<class 'int'>, {'Stanton Barrett': 1}), 'Julia Jentsch': defaultdict(<class 'int'>, {'Jirí Menzel': 1}), 'Udo Kier': defaultdict(<class 'int'>, {'Fatih Akin': 1}), 'Katy Mixon': defaultdict(<class 'int'>, {'Jeff Nichols': 1, 'Jamie Babbit': 1}), 'Alex Rocco': defaultdict(<class 'int'>, {'Frank LaLoggia': 1}), 'Bill Johnson': defaultdict(<class 'int'>, {'Tobe Hooper': 1}), 'Maria Conchita Alonso': defaultdict(<class 'int'>, {'Gabriela Tagliavini': 1}), 'Bhama': defaultdict(<class 'int'>, {'Shekar': 1}), 'Keith Carradine': defaultdict(<class 'int'>, {'Leonard Farlinger': 1, 'Jonathan Parker': 1}), 'Sara Forestier': defaultdict(<class 'int'>, {'Michel Leclerc': 1}), 'William Kircher': defaultdict(<class 'int'>, {'Robert Sarkies': 1}), 'Brooke Shields': defaultdict(<class 'int'>, {'Randal Kleiser': 1}), 'Royal Dano': defaultdict(<class 'int'>, {'John Huston': 1}), 'Dan Fogler': defaultdict(<class 'int'>, {-1: 1}), 'Dana Andrews': defaultdict(<class 'int'>, {'Walter Lang': 1}), 'Mía Maestro': defaultdict(<class 'int'>, {'Carlos Saura': 1, 'Lucrecia Martel': 1}), 'Alex Kendrick': defaultdict(<class 'int'>, {'Andrew Erwin': 1, 'Bill Muir': 1, 'Alex Kendrick': 1}), 'Jaime Camil': defaultdict(<class 'int'>, {'Beto Gómez': 1}), 'Jan Decleir': defaultdict(<class 'int'>, {'Mike van Diem': 1}), 'Rich Pecci': defaultdict(<class 'int'>, {'Todd Solondz': 1}), 'Nicolas Giraud': defaultdict(<class 'int'>, {'René Féret': 1}), 'Simon Yam': defaultdict(<class 'int'>, {'Johnnie To': 1}), 'Oksana Akinshina': defaultdict(<class 'int'>, {'Lukas Moodysson': 1}), 'Jimmy Shergill': defaultdict(<class 'int'>, {'Kabir Sadanand': 1}), 'Katherine McNamara': defaultdict(<class 'int'>, {'Peter DeLuise': 1}), 'Sid Caesar': defaultdict(<class 'int'>, {'Mel Brooks': 1}), 'Nimrat Kaur': defaultdict(<class 'int'>, {'Raja Menon': 1}), 'Fabian Bolin': defaultdict(<class 'int'>, {'Daniel Espinosa': 1}), 'Vidya Balan': defaultdict(<class 'int'>, {'R. Balki': 1, 'Rajkumar Hirani': 1}), 'Yangzom Brauen': defaultdict(<class 'int'>, {'Ivan Engler': 1}), 'Art Hindle': defaultdict(<class 'int'>, {'Bob Clark': 1}), 'Julian Richings': defaultdict(<class 'int'>, {'George A. Romero': 1, 'Robert Eggers': 1}), \"Judith O'Dea\": defaultdict(<class 'int'>, {'George A. Romero': 1}), 'Gloria Grahame': defaultdict(<class 'int'>, {'Cecil B. DeMille': 1}), 'Molly C. Quinn': defaultdict(<class 'int'>, {'Duane Journey': 1}), 'Meg Foster': defaultdict(<class 'int'>, {'John Carpenter': 1}), 'Marlee Matlin': defaultdict(<class 'int'>, {'William Arntz': 1}), 'Ellar Coltrane': defaultdict(<class 'int'>, {'Richard Linklater': 1}), 'Angell Conwell': defaultdict(<class 'int'>, {'DJ Pooh': 1}), 'Montgomery Clift': defaultdict(<class 'int'>, {'John Huston': 1, 'Howard Hawks': 1, 'Fred Zinnemann': 1}), 'Geraldine Chaplin': defaultdict(<class 'int'>, {'J.A. Bayona': 1}), 'Ashley Rickards': defaultdict(<class 'int'>, {'Michael Tiddes': 1}), 'Roscoe Lee Browne': defaultdict(<class 'int'>, {'Alfred Hitchcock': 1}), 'Anna Gunn': defaultdict(<class 'int'>, {'Kevin Smith': 1}), 'Stephanie Leonidas': defaultdict(<class 'int'>, {'Dave McKean': 1}), 'Collin Alfredo St. Dic': defaultdict(<class 'int'>, {'Ron Fricke': 1}), 'Kylie Minogue': defaultdict(<class 'int'>, {'Leos Carax': 1}), 'Peter McNamara': defaultdict(<class 'int'>, {'Stefan Schwartz': 1}), 'Lauren Ambrose': defaultdict(<class 'int'>, {'Robert Lee King': 1}), 'Hector Kotsifakis': defaultdict(<class 'int'>, {'Jorge Ramírez Suárez': 1}), 'Noah Emmerich': defaultdict(<class 'int'>, {'David Schwimmer': 1}), 'Rachel Griffiths': defaultdict(<class 'int'>, {'Sam Miller': 1, -1: 1}), 'Connor Paolo': defaultdict(<class 'int'>, {'Jim Mickle': 1}), 'Doug Brochu': defaultdict(<class 'int'>, {-1: 1}), 'Ed Speleers': defaultdict(<class 'int'>, {'Julian Gilbey': 1}), 'Saad Siddiqui': defaultdict(<class 'int'>, {'Ruba Nadda': 1}), 'Jean Harlow': defaultdict(<class 'int'>, {'Howard Hughes': 1}), 'Lily Rabe': defaultdict(<class 'int'>, {'Phil Joanou': 1}), 'Robin McLeavy': defaultdict(<class 'int'>, {'Sean Byrne': 1}), 'Kristen Quintrall': defaultdict(<class 'int'>, {'Chris Stokes': 1}), 'Eric Mabius': defaultdict(<class 'int'>, {'Mark Griffiths': 1, 'Scott Smith': 1}), 'Rachel Hendrix': defaultdict(<class 'int'>, {'Bruce Macdonald': 1, 'Andrew Erwin': 1}), 'Hattie McDaniel': defaultdict(<class 'int'>, {'Victor Fleming': 1}), 'Tom Cullen': defaultdict(<class 'int'>, {'Richard Raymond': 1, 'Andrew Haigh': 1}), 'Keenan Wynn': defaultdict(<class 'int'>, {'George Sidney': 1}), 'Kayvan Novak': defaultdict(<class 'int'>, {'Christopher Morris': 1}), 'Fernanda Montenegro': defaultdict(<class 'int'>, {'Andrucha Waddington': 1, 'Walter Salles': 1}), 'Gladys Cooper': defaultdict(<class 'int'>, {'Vincente Minnelli': 1}), 'Alice Olivia Clarke': defaultdict(<class 'int'>, {'Dagur Kári': 1}), 'Brenda Vaccaro': defaultdict(<class 'int'>, {'John Schlesinger': 1}), 'Peter Graves': defaultdict(<class 'int'>, {'Jim Abrahams': 1}), \"Ta'Rhonda Jones\": defaultdict(<class 'int'>, {-1: 1}), 'Slim Pickens': defaultdict(<class 'int'>, {'Sam Peckinpah': 1}), 'John Forsythe': defaultdict(<class 'int'>, {'Richard Brooks': 1}), 'Colleen Dewhurst': defaultdict(<class 'int'>, {'Fred Zinnemann': 1}), 'Bernard Cribbins': defaultdict(<class 'int'>, {'Alfred Hitchcock': 1}), 'Joe Estevez': defaultdict(<class 'int'>, {'Michael Martin': 1}), 'John Mahoney': defaultdict(<class 'int'>, {'Edward Burns': 1}), 'Ricardo Darín': defaultdict(<class 'int'>, {'Juan José Campanella': 1, 'Fabián Bielinsky': 1}), 'Gideon Emery': defaultdict(<class 'int'>, {'Gideon Raff': 1}), 'Ted Raimi': defaultdict(<class 'int'>, {'Sam Raimi': 2, 'Bruce Campbell': 1}), 'Wanda Sykes': defaultdict(<class 'int'>, {'Louis C.K.': 1}), 'Elpidia Carrillo': defaultdict(<class 'int'>, {'Salvador Carrasco': 1}), 'Otto Jespersen': defaultdict(<class 'int'>, {'André Øvredal': 1}), 'Diahann Carroll': defaultdict(<class 'int'>, {'Warren P. Sonoda': 1}), 'Jane Goodall': defaultdict(<class 'int'>, {'Charles Ferguson': 1}), 'Chris Brochu': defaultdict(<class 'int'>, {'Daniel Petrie Jr.': 1}), 'Murray Bartlett': defaultdict(<class 'int'>, {'Eldar Rapaport': 1}), 'Corbin Bleu': defaultdict(<class 'int'>, {'Nathan Frankowski': 1}), 'Thomas Bo Larsen': defaultdict(<class 'int'>, {'Thomas Vinterberg': 1}), 'Armando Riesco': defaultdict(<class 'int'>, {'Alejandro Monteverde': 1, 'Zach Braff': 1}), 'Roddy McDowall': defaultdict(<class 'int'>, {'Mark L. Lester': 1, 'Don Taylor': 1, 'J. Lee Thompson': 2, 'John Ford': 1}), 'François Bégaudeau': defaultdict(<class 'int'>, {'Laurent Cantet': 1}), 'Lee Marvin': defaultdict(<class 'int'>, {'John Ford': 2, 'John Boorman': 1}), 'Catalina Sandino Moreno': defaultdict(<class 'int'>, {'Joshua Marston': 1}), 'Honor Blackman': defaultdict(<class 'int'>, {'Guy Hamilton': 1}), 'Sarah Gadon': defaultdict(<class 'int'>, {'Brandon Cronenberg': 1}), 'Donna Reed': defaultdict(<class 'int'>, {'Frank Capra': 1}), 'Sprague Grayden': defaultdict(<class 'int'>, {'Tod Williams': 1}), 'Clu Gulager': defaultdict(<class 'int'>, {'Jack Sholder': 1}), 'Rhys Wakefield': defaultdict(<class 'int'>, {'James DeMonaco': 1}), 'Danielle Kotch': defaultdict(<class 'int'>, {'Scott Derrickson': 1}), \"Nancy O'Dell\": defaultdict(<class 'int'>, {'David Raynr': 1}), 'Burl Ives': defaultdict(<class 'int'>, {'Richard Brooks': 1}), 'Linda Harrison': defaultdict(<class 'int'>, {'Ted Post': 1}), 'Veronica Taylor': defaultdict(<class 'int'>, {'Kunihiko Yuyama': 1}), 'Ed Lauter': defaultdict(<class 'int'>, {'Alfred Hitchcock': 1}), 'Fred MacMurray': defaultdict(<class 'int'>, {'Billy Wilder': 1}), 'Tamara Toumanova': defaultdict(<class 'int'>, {'Alfred Hitchcock': 1}), 'Shirley Jones': defaultdict(<class 'int'>, {'Richard Brooks': 1}), 'Maximilian Schell': defaultdict(<class 'int'>, {'Stanley Kramer': 1}), 'Matthew Senreich': defaultdict(<class 'int'>, {-1: 1}), 'Seamus Davey-Fitzpatrick': defaultdict(<class 'int'>, {'Richard Linklater': 1}), 'John Astin': defaultdict(<class 'int'>, {'Christopher Leitch': 1}), 'Angus Scrimm': defaultdict(<class 'int'>, {'Don Coscarelli': 1}), 'John Abraham': defaultdict(<class 'int'>, {'Deepa Mehta': 1}), 'Callie Thorne': defaultdict(<class 'int'>, {'Peter M. Cohen': 1}), 'Peter Ostrum': defaultdict(<class 'int'>, {'Mel Stuart': 1}), 'Kristy Swanson': defaultdict(<class 'int'>, {'Tom Schulman': 1}), 'Greta Gerwig': defaultdict(<class 'int'>, {'Noah Baumbach': 1, 'Whit Stillman': 1, 'Jay Duplass': 1}), 'Eddie Griffin': defaultdict(<class 'int'>, {'George Gallo': 1, 'Dave Meyers': 1, 'Nick Love': 1}), 'Robyn Lively': defaultdict(<class 'int'>, {'David Nixon': 1}), 'Kevin Pollak': defaultdict(<class 'int'>, {'Enrique Begne': 1, 'Rod Lurie': 1}), 'William Morgan Sheppard': defaultdict(<class 'int'>, {'Michael Landon Jr.': 1}), 'Michael Gross': defaultdict(<class 'int'>, {'Tim Heidecker': 1}), 'Susan Hampshire': defaultdict(<class 'int'>, {-1: 1}), 'Alicja Bachleda': defaultdict(<class 'int'>, {'Marco Kreuzpaintner': 1}), 'Johnny Pacar': defaultdict(<class 'int'>, {'Kate Connor': 1, 'Matthew R. Anderson': 1}), 'Matt Cohen': defaultdict(<class 'int'>, {'Deon Taylor': 1}), 'Neil Hopkins': defaultdict(<class 'int'>, {'Philip Zlotorynski': 1}), 'Tom Everett Scott': defaultdict(<class 'int'>, {'Francesca Gregorini': 1, 'W.D. Hogan': 1}), 'John Savage': defaultdict(<class 'int'>, {'Marcio Garcia': 1}), 'French Stewart': defaultdict(<class 'int'>, {'Craig Moss': 1}), 'Everett McGill': defaultdict(<class 'int'>, {'Monte Hellman': 1}), 'Ann-Margret': defaultdict(<class 'int'>, {'Frank Capra': 1}), 'Anthony L. Fernandez': defaultdict(<class 'int'>, {'Isaac Florentine': 1}), 'Dyan Cannon': defaultdict(<class 'int'>, {'Susan Seidelman': 1}), 'Olivia Rose Keegan': defaultdict(<class 'int'>, {'Michael Polish': 1}), 'Greg Crowe': defaultdict(<class 'int'>, {'Heidi Ewing': 1}), 'Cécile De France': defaultdict(<class 'int'>, {'Alexandre Aja': 1}), 'Maeve Dermody': defaultdict(<class 'int'>, {'Leon Ford': 1}), 'Isaac Hayes': defaultdict(<class 'int'>, {'Craig Brewer': 1}), 'Nehemiah Persoff': defaultdict(<class 'int'>, {'Billy Wilder': 1}), 'Margaret Hamilton': defaultdict(<class 'int'>, {'Victor Fleming': 1}), 'Megan Park': defaultdict(<class 'int'>, {'George A. Romero': 1}), 'Teri Garr': defaultdict(<class 'int'>, {'Carroll Ballard': 1}), 'Bhavkhandan Singh Rakhra': defaultdict(<class 'int'>, {'Rohit Jugraj': 1}), 'Iben Hjejle': defaultdict(<class 'int'>, {'Thorbjørn Christoffersen': 1}), 'Rijk de Gooyer': defaultdict(<class 'int'>, {'Alex van Warmerdam': 1}), 'Spencer Tracy': defaultdict(<class 'int'>, {'Victor Fleming': 1}), 'Judie Aronson': defaultdict(<class 'int'>, {'Joseph Zito': 1}), 'Joanna Kulig': defaultdict(<class 'int'>, {'Pawel Pawlikowski': 1}), 'Rupert Graves': defaultdict(<class 'int'>, {'James Ivory': 1}), 'Gerry Lopez': defaultdict(<class 'int'>, {'Stacy Peralta': 1}), 'Karra Elejalde': defaultdict(<class 'int'>, {'Nacho Vigalondo': 1}), 'Jack Kao': defaultdict(<class 'int'>, {'Hao Ning': 1}), 'Brianna Brown': defaultdict(<class 'int'>, {'Tony Giglio': 1}), 'Joe Cross': defaultdict(<class 'int'>, {'Joe Cross': 1}), 'Essence Atkins': defaultdict(<class 'int'>, {'Michael Tiddes': 1, 'David M. Matthews': 1}), 'Barack Obama': defaultdict(<class 'int'>, {\"Dinesh D'Souza\": 1}), 'Tom Atkins': defaultdict(<class 'int'>, {'Tommy Lee Wallace': 1}), 'Patricia Neal': defaultdict(<class 'int'>, {'Martin Ritt': 1}), 'David Jason Perez': defaultdict(<class 'int'>, {'Leslie Small': 1}), 'Hanno Pöschl': defaultdict(<class 'int'>, {'Richard Linklater': 1}), 'Patrick Huard': defaultdict(<class 'int'>, {'Éric Tessier': 1}), 'Joan Chen': defaultdict(<class 'int'>, {'Alice Wu': 1}), 'Satish Kaushik': defaultdict(<class 'int'>, {'Sarah Gavron': 1}), 'Bill Maher': defaultdict(<class 'int'>, {'Larry Charles': 1}), 'Dustin Lance Black': defaultdict(<class 'int'>, {'Reed Cowan': 1}), 'Benno Fürmann': defaultdict(<class 'int'>, {'Stefan Ruzowitzky': 1}), 'Leonor Varela': defaultdict(<class 'int'>, {'Alex Rivera': 1}), 'Ashley Scott': defaultdict(<class 'int'>, {'John Murlowski': 1}), \"Anthony 'Citric' Campos\": defaultdict(<class 'int'>, {'Mike Judge': 1}), 'Simon Merrells': defaultdict(<class 'int'>, {'Zackary Adler': 1}), 'Esther Williams': defaultdict(<class 'int'>, {'George Sidney': 1}), 'Jossara Jinaro': defaultdict(<class 'int'>, {'Carmen Marron': 1}), 'Agnes Moorehead': defaultdict(<class 'int'>, {'George Sidney': 1}), 'Leopold Stokowski': defaultdict(<class 'int'>, {'James Algar': 1}), 'Nicole Smolen': defaultdict(<class 'int'>, {'Jaco Booyens': 1}), 'Richard Brooker': defaultdict(<class 'int'>, {'Steve Miner': 1}), 'Tiffany Helm': defaultdict(<class 'int'>, {'Danny Steinmann': 1}), 'Brian Austin Green': defaultdict(<class 'int'>, {'Hayley Cloake': 1}), 'Jessica Tandy': defaultdict(<class 'int'>, {'Tay Garnett': 1}), 'Saeed Jaffrey': defaultdict(<class 'int'>, {'Harmage Singh Kalirai': 1, 'Stephen Frears': 1}), 'Rachel Skarsten': defaultdict(<class 'int'>, {'Jon Knautz': 1}), 'Myrna Loy': defaultdict(<class 'int'>, {'William Wyler': 1}), 'Jørgen Langhelle': defaultdict(<class 'int'>, {'Petter Næss': 1}), 'Michael Derek': defaultdict(<class 'int'>, {'Robert Fontaine': 1}), 'Manuela Velasco': defaultdict(<class 'int'>, {'Jaume Balagueró': 1}), 'Travis Myers': defaultdict(<class 'int'>, {'Dan Perri': 1}), 'Walter Hendrix III': defaultdict(<class 'int'>, {'Neil Mcenery-West': 1}), 'James Ransone': defaultdict(<class 'int'>, {\"Anthony O'Brien\": 1}), 'Phoebe Legere': defaultdict(<class 'int'>, {'Michael Herz': 1}), \"Carroll O'Connor\": defaultdict(<class 'int'>, {-1: 1}), 'Maika Monroe': defaultdict(<class 'int'>, {'David Robert Mitchell': 1}), 'Vernon Wells': defaultdict(<class 'int'>, {'George Miller': 1}), 'Alicia Goranson': defaultdict(<class 'int'>, {'Kimberly Peirce': 1}), 'Eric Sheffer Stevens': defaultdict(<class 'int'>, {'Chris Kentis': 1}), 'Ben Davies': defaultdict(<class 'int'>, {'Alex Kendrick': 1}), 'Hedy Lamarr': defaultdict(<class 'int'>, {'Jack Conway': 1}), 'Michel Robin': defaultdict(<class 'int'>, {'Sylvain Chomet': 1}), 'Michael Greyeyes': defaultdict(<class 'int'>, {'Chris Eyre': 1}), 'Vernon Dobtcheff': defaultdict(<class 'int'>, {'Richard Linklater': 1}), 'Adriana Barraza': defaultdict(<class 'int'>, {'Alejandro G. Iñárritu': 1}), 'Nicholas Aaron': defaultdict(<class 'int'>, {'Kevin Macdonald': 1}), 'Tyrone Power': defaultdict(<class 'int'>, {'Henry King': 1}), 'Najarra Townsend': defaultdict(<class 'int'>, {'Miranda July': 1}), 'Vanessa Lengies': defaultdict(<class 'int'>, {'Max Joseph': 1}), 'Henry Silva': defaultdict(<class 'int'>, {'Jim Jarmusch': 1}), 'Kathleen Wilhoite': defaultdict(<class 'int'>, {'Kevin Tenney': 1}), 'Stephen Colbert': defaultdict(<class 'int'>, {-1: 1}), 'Sook-Yin Lee': defaultdict(<class 'int'>, {'John Cameron Mitchell': 1}), 'Ari Folman': defaultdict(<class 'int'>, {'Ari Folman': 1}), 'Noah Danby': defaultdict(<class 'int'>, {'Gary Rogers': 1}), 'John F. Kennedy': defaultdict(<class 'int'>, {'David Sington': 1}), 'Danny Aiello': defaultdict(<class 'int'>, {'Bob Giraldi': 1}), 'Alanna Ubach': defaultdict(<class 'int'>, {'Jill Sprecher': 1, 'Rob Bowman': 1}), 'Matt Bennett': defaultdict(<class 'int'>, {'Huck Botko': 1}), 'Jess Weixler': defaultdict(<class 'int'>, {'Mitchell Lichtenstein': 1}), 'Jeffrey Falcon': defaultdict(<class 'int'>, {'Lance Mungia': 1}), 'Karisma Kapoor': defaultdict(<class 'int'>, {'Kundan Shah': 1, 'Khalid Mohamed': 1}), 'Paul Kaye': defaultdict(<class 'int'>, {'Michael Dowse': 1}), 'Merritt Wever': defaultdict(<class 'int'>, {'Noah Buschel': 1}), 'Brad William Henke': defaultdict(<class 'int'>, {'Laurie Collyer': 1}), 'Jordi Vilasuso': defaultdict(<class 'int'>, {'Aaron Hann': 1}), 'Rapulana Seiphemo': defaultdict(<class 'int'>, {'Ralph Ziman': 1}), 'Mackenzie Gray': defaultdict(<class 'int'>, {'Colin Minihan': 1}), 'Peter McQuinn': defaultdict(<class 'int'>, {'Conor McMahon': 1}), 'Daniel Baldwin': defaultdict(<class 'int'>, {'Chris Shadley': 1}), 'Alice Cooper': defaultdict(<class 'int'>, {'Simon Napier-Bell': 1}), 'Paul Sheehan': defaultdict(<class 'int'>, {'Simon Yin': 1}), 'Steven Weber': defaultdict(<class 'int'>, {-1: 1}), 'Rita Hayworth': defaultdict(<class 'int'>, {'Orson Welles': 1}), 'Mircea Monroe': defaultdict(<class 'int'>, {'Dave Payne': 1}), 'Sunil Narkar': defaultdict(<class 'int'>, {'Brad Copeland': 1}), 'Kate Maberly': defaultdict(<class 'int'>, {'Paul Bunnell': 1}), 'Jon Mack': defaultdict(<class 'int'>, {'James Cox': 1}), 'Buster Keaton': defaultdict(<class 'int'>, {'Richard Lester': 1}), 'Trenton Rostedt': defaultdict(<class 'int'>, {'Scott Dow': 1}), 'Melissa Bolona': defaultdict(<class 'int'>, {'Jerry Dugan': 1}), 'Paul McGillion': defaultdict(<class 'int'>, {'William Kaufman': 1}), 'Khalid Abdalla': defaultdict(<class 'int'>, {'Jehane Noujaim': 1}), 'Karl E. Landler': defaultdict(<class 'int'>, {'Pascal Arnold': 1}), 'Lauren Gottlieb': defaultdict(<class 'int'>, {'Remo': 1}), 'Paul McGill': defaultdict(<class 'int'>, {'James Marsh': 1}), 'Siobhan Marshall': defaultdict(<class 'int'>, {'John Laing': 1}), 'Logan Browning': defaultdict(<class 'int'>, {'Jamal Hill': 1}), 'Caleb Landry Jones': defaultdict(<class 'int'>, {'Daniel Stamm': 1}), 'Damián Alcázar': defaultdict(<class 'int'>, {'Carlos Carrera': 1}), 'Donna Murphy': defaultdict(<class 'int'>, {'Vera Farmiga': 1}), 'Hansika Motwani': defaultdict(<class 'int'>, {'Vijay Chandar': 1}), 'Tshewang Dendup': defaultdict(<class 'int'>, {'Khyentse Norbu': 1}), 'Humphrey Bogart': defaultdict(<class 'int'>, {'Richard Brooks': 1, 'Michael Curtiz': 1}), 'George Newbern': defaultdict(<class 'int'>, {'Tony Krantz': 1}), 'Kimberley Crossman': defaultdict(<class 'int'>, {'Mitchell Altieri': 1}), 'Christian Keyes': defaultdict(<class 'int'>, {'Corey Grant': 1}), 'James Duval': defaultdict(<class 'int'>, {'Lucky McKee': 1}), 'Matthew Alan': defaultdict(<class 'int'>, {'David Hunt': 1}), 'Sarah Butler': defaultdict(<class 'int'>, {'Steven R. Monroe': 1}), 'Ally Walker': defaultdict(<class 'int'>, {'Mark Illsley': 1}), 'Nawazuddin Siddiqui': defaultdict(<class 'int'>, {'Ritesh Batra': 1}), 'Jean Arthur': defaultdict(<class 'int'>, {'Frank Capra': 1}), 'Harry Carey Jr.': defaultdict(<class 'int'>, {'John Ford': 1}), 'Shawnee Smith': defaultdict(<class 'int'>, {'Brad J. Silverman': 1}), 'Yasmine Al Massri': defaultdict(<class 'int'>, {'Nadine Labaki': 1}), 'Ohad Knoller': defaultdict(<class 'int'>, {'Eytan Fox': 1}), 'Annabelle Wallis': defaultdict(<class 'int'>, {'Romesh Sharma': 1}), 'Dustin Ingram': defaultdict(<class 'int'>, {'Travis Zariwny': 1}), 'Lew Temple': defaultdict(<class 'int'>, {'Adrienne Shelly': 1}), 'William Baldwin': defaultdict(<class 'int'>, {'Noah Baumbach': 1}), 'Scott Cohen': defaultdict(<class 'int'>, {'Charles Herman-Wurmfeld': 1}), 'Matthew Ziff': defaultdict(<class 'int'>, {'John Stockwell': 1, 'Johnny Remo': 1, 'Travis Romero': 1}), 'Norman Lloyd': defaultdict(<class 'int'>, {'Alfred Hitchcock': 1}), 'Ami Ayalon': defaultdict(<class 'int'>, {'Dror Moreh': 1}), 'Beau Bridges': defaultdict(<class 'int'>, {'Rebecca Miller': 1}), 'Donald Glover': defaultdict(<class 'int'>, {'Maggie Carey': 1}), 'Ward G. Smith': defaultdict(<class 'int'>, {'Simeon Rice': 1}), 'Paul Guilfoyle': defaultdict(<class 'int'>, {'Brad Anderson': 1}), 'Jessy Schram': defaultdict(<class 'int'>, {'Jeff Garlin': 1}), 'Joel David Moore': defaultdict(<class 'int'>, {'Adam Green': 1}), 'Paulette Goddard': defaultdict(<class 'int'>, {'Charles Chaplin': 1}), 'Jay Mohr': defaultdict(<class 'int'>, {'Adam Carolla': 1}), 'Brian Lee Franklin': defaultdict(<class 'int'>, {'John Sayles': 1}), 'Angela Sarafyan': defaultdict(<class 'int'>, {'Jaime Zevallos': 1}), \"Morgana O'Reilly\": defaultdict(<class 'int'>, {'Gerard Johnstone': 1}), 'Lee Scott': defaultdict(<class 'int'>, {'Robert Greenwald': 1}), 'Nicole Muñoz': defaultdict(<class 'int'>, {'David Ray': 1}), 'Monica Barladeanu': defaultdict(<class 'int'>, {'Nae Caranfil': 1}), 'Ashanti': defaultdict(<class 'int'>, {'David Winning': 1}), 'Brighton Sharbino': defaultdict(<class 'int'>, {'Frank Lotito': 1, 'E.L. Katz': 1}), 'Katrina Law': defaultdict(<class 'int'>, {'Timothy Woodward Jr.': 1}), 'Timothy Hutton': defaultdict(<class 'int'>, {'Tara Subkoff': 1}), 'Adriana Caselotti': defaultdict(<class 'int'>, {'William Cottrell': 1}), 'Brigitte Bardot': defaultdict(<class 'int'>, {'Edward Dmytryk': 1}), 'Zak Penn': defaultdict(<class 'int'>, {'Zak Penn': 1}), 'Camren Bicondova': defaultdict(<class 'int'>, {'Jon Knautz': 1}), 'Jessica Szohr': defaultdict(<class 'int'>, {'David Worth': 1}), 'Burgess Meredith': defaultdict(<class 'int'>, {'Leslie H. Martinson': 1}), 'Karl Malden': defaultdict(<class 'int'>, {-1: 1}), 'Ulrich Thomsen': defaultdict(<class 'int'>, {'Thomas Vinterberg': 1}), 'Long Nguyen': defaultdict(<class 'int'>, {'Ham Tran': 1}), 'James Morrison': defaultdict(<class 'int'>, {-1: 1}), 'Elina Abai Kyzy': defaultdict(<class 'int'>, {'Sadyk Sher-Niyaz': 1}), 'Maury Chaykin': defaultdict(<class 'int'>, {'Paul Donovan': 1}), 'Noureen DeWulf': defaultdict(<class 'int'>, {'Craig Moss': 1}), 'Betsy Palmer': defaultdict(<class 'int'>, {'Steve Miner': 1}), 'Ray Milland': defaultdict(<class 'int'>, {'Billy Wilder': 1}), 'Vic Mignogna': defaultdict(<class 'int'>, {'Deryck Broom': 1}), 'Geoffrey Arend': defaultdict(<class 'int'>, {'Jay Chandrasekhar': 1}), 'Zuhair Haddad': defaultdict(<class 'int'>, {'Giovanni Zelko': 1}), 'Ximena Ayala': defaultdict(<class 'int'>, {'Claudia Sainte-Luce': 1}), 'Jerry Mathers': defaultdict(<class 'int'>, {'Alfred Hitchcock': 1}), 'Spring Byington': defaultdict(<class 'int'>, {'Walter Lang': 1}), 'Alex Huszar': defaultdict(<class 'int'>, {'Anna Muylaert': 1}), 'Jason Marsden': defaultdict(<class 'int'>, {'Steve Taylor': 1}), 'Lemmy': defaultdict(<class 'int'>, {'Kurt Voss': 1}), -1: defaultdict(<class 'int'>, {'Léa Pool': 1, 'Harry Gantz': 1, 'U. Roberto Romano': 1, 'Pan Nalin': 1, 'Amal Al-Agroobi': 1, 'Andrew Berends': 1, 'Jem Cohen': 1}), 'Déborah Révy': defaultdict(<class 'int'>, {'Laurent Bouhnik': 1}), 'Nataniel Sánchez': defaultdict(<class 'int'>, {'Tom Sanchez': 1}), 'Rich Ceraulo': defaultdict(<class 'int'>, {'Adam Jay Epstein': 1}), 'Errol Flynn': defaultdict(<class 'int'>, {'Michael Curtiz': 1}), 'Christie Burke': defaultdict(<class 'int'>, {'Brenton Spencer': 1}), 'Redd Foxx': defaultdict(<class 'int'>, {'Ossie Davis': 1}), \"Seregon O'Dassey\": defaultdict(<class 'int'>, {'Dylan Bank': 1}), 'Richard Cawthorne': defaultdict(<class 'int'>, {-1: 1}), 'Terry Kiser': defaultdict(<class 'int'>, {'Jeff Burr': 1}), 'Sarah Murphy-Dyson': defaultdict(<class 'int'>, {'Guy Maddin': 1}), 'Sean Cameron Michael': defaultdict(<class 'int'>, {'Regardt van den Bergh': 1}), 'Chris Gauthier': defaultdict(<class 'int'>, {'Panos Cosmatos': 1}), 'Iko Uwais': defaultdict(<class 'int'>, {'Gareth Evans': 1}), 'Piero Maggiò': defaultdict(<class 'int'>, {'Joe Marino': 1}), 'Talia Zucker': defaultdict(<class 'int'>, {'Joel Anderson': 1}), 'Christopher Abbott': defaultdict(<class 'int'>, {'Mona Fastvold': 1, 'Sean Durkin': 1}), 'Shelley Hennig': defaultdict(<class 'int'>, {'Levan Gabriadze': 1}), 'Ursula Andress': defaultdict(<class 'int'>, {'Terence Young': 1}), 'Andrew Robinson': defaultdict(<class 'int'>, {'Clive Barker': 1}), 'Benjamin A. Onyango': defaultdict(<class 'int'>, {'Harold Cronk': 1}), 'Hiroshi Abe': defaultdict(<class 'int'>, {'Takao Okawara': 1}), 'Fernanda Andrade': defaultdict(<class 'int'>, {'William Brent Bell': 1}), 'James Drury': defaultdict(<class 'int'>, {'Robert D. Webb': 1}), 'Billy West': defaultdict(<class 'int'>, {'Davis Guggenheim': 1}), 'James Brown': defaultdict(<class 'int'>, {'Allan Dwan': 1}), 'Mick Jagger': defaultdict(<class 'int'>, {'Martin Scorsese': 1}), 'Juliet Stevenson': defaultdict(<class 'int'>, {'Andrew Steggall': 1}), 'W. Earl Brown': defaultdict(<class 'int'>, {'Ben Lewin': 1}), 'Michael Pollan': defaultdict(<class 'int'>, {'Robert Kenner': 1}), 'Gaby Hoffmann': defaultdict(<class 'int'>, {'Gillian Robespierre': 1}), 'Sheryl Crow': defaultdict(<class 'int'>, {'Morgan Neville': 1}), 'Kevin Corrigan': defaultdict(<class 'int'>, {'Nicole Holofcener': 1, 'Steve Buscemi': 1, 'Jack Perez': 1}), 'Sonja Sohn': defaultdict(<class 'int'>, {'Marc Levin': 1}), 'Trey Parker': defaultdict(<class 'int'>, {'Trey Parker': 1}), 'Shahir Kabaha': defaultdict(<class 'int'>, {'Scandar Copti': 1}), 'Steven Yeun': defaultdict(<class 'int'>, {'Mike Cahill': 1}), 'Shiri Appleby': defaultdict(<class 'int'>, {'Efram Potelle': 1}), 'Anwar Congo': defaultdict(<class 'int'>, {'Joshua Oppenheimer': 1}), 'Alex Gibney': defaultdict(<class 'int'>, {'Alex Gibney': 1}), 'Pelé': defaultdict(<class 'int'>, {'Paul Crowder': 1}), 'Kumar Gaurav': defaultdict(<class 'int'>, {'Rohit Jagessar': 1}), 'Josh Swanson': defaultdict(<class 'int'>, {'Anthony Powell': 1}), 'G.W. Krauss': defaultdict(<class 'int'>, {'Kief Davidson': 1}), 'Emraan Hashmi': defaultdict(<class 'int'>, {'Vivek Agnihotri': 1}), 'Lena Dunham': defaultdict(<class 'int'>, {'Ti West': 2, 'Daniel Schechter': 1, 'Lena Dunham': 1}), 'Harvey Fierstein': defaultdict(<class 'int'>, {'John Hamburg': 1}), 'Patrick Renna': defaultdict(<class 'int'>, {'Nickolas Perry': 1}), 'Yul Vazquez': defaultdict(<class 'int'>, {'Dan Zukovic': 1}), 'Will Rothhaar': defaultdict(<class 'int'>, {'Becky Smith': 1}), 'Jordana Spiro': defaultdict(<class 'int'>, {'Eric Nicholas': 1}), 'Nora Zehetner': defaultdict(<class 'int'>, {'Benjamin Dickinson': 1}), 'Frances Bay': defaultdict(<class 'int'>, {'Darren Stein': 1}), 'Scott Levy': defaultdict(<class 'int'>, {'A. Raven Cruz': 1}), 'Kenny Johnston': defaultdict(<class 'int'>, {'Amat Escalante': 1}), 'Rasheed Naz': defaultdict(<class 'int'>, {'Wajahat Rauf': 1}), 'Ilene Graff': defaultdict(<class 'int'>, {'Katherine Brooks': 1}), 'Jason Ritter': defaultdict(<class 'int'>, {'David Cross': 1}), 'Nicole Randall Johnson': defaultdict(<class 'int'>, {'Randall Rubin': 1}), 'Randy Wayne': defaultdict(<class 'int'>, {'Robert Bennett': 1, 'Brian Baugh': 1}), 'Russell Hodgkinson': defaultdict(<class 'int'>, {'Kevin Hamedani': 1}), 'Maureen McCormick': defaultdict(<class 'int'>, {'David DeCoteau': 1}), 'Álex Angulo': defaultdict(<class 'int'>, {'Mikel Rueda': 1}), 'Katie Aselton': defaultdict(<class 'int'>, {'Katie Aselton': 1}), 'David Oakes': defaultdict(<class 'int'>, {'Robert Heath': 1}), 'Magi Avila': defaultdict(<class 'int'>, {'D. Stevens': 1}), 'Boyd Banks': defaultdict(<class 'int'>, {'Jeffrey St. Jules': 1}), 'Angelina Armani': defaultdict(<class 'int'>, {'Robert Hall': 1}), 'Jason K. Wixom': defaultdict(<class 'int'>, {'K. King': 1}), 'Justin Baldoni': defaultdict(<class 'int'>, {'Jonathan Meyers': 1}), 'Monique Candelaria': defaultdict(<class 'int'>, {'Blair Erickson': 1}), 'Eric Lloyd': defaultdict(<class 'int'>, {-1: 1}), 'Kimberly Williams-Paisley': defaultdict(<class 'int'>, {'Allison Burnett': 1}), 'Alma Martinez': defaultdict(<class 'int'>, {'Sanjay Rawal': 1}), 'Justin Kirk': defaultdict(<class 'int'>, {'Kat Coiro': 1}), 'Anamaria Marinca': defaultdict(<class 'int'>, {'Cristian Mungiu': 1}), 'Odessa Rae': defaultdict(<class 'int'>, {'David Slade': 1}), 'Sarah Kazemy': defaultdict(<class 'int'>, {'Maryam Keshavarz': 1}), \"Ahna O'Reilly\": defaultdict(<class 'int'>, {'Ryan Coogler': 1}), 'Sam Edwards': defaultdict(<class 'int'>, {'James Algar': 1}), 'John Enos III': defaultdict(<class 'int'>, {'Charles Herman-Wurmfeld': 1}), 'Stana Roumillac': defaultdict(<class 'int'>, {'Mariette Monpierre': 1}), 'James Wolk': defaultdict(<class 'int'>, {'Jamie Travis': 1}), 'Gavin MacLeod': defaultdict(<class 'int'>, {'Rich Christiano': 1}), 'Lorraine Stanley': defaultdict(<class 'int'>, {'Paul Andrew Williams': 1}), \"Tommy O'Reilly\": defaultdict(<class 'int'>, {\"Natalie Bible'\": 1}), 'Shahab Hosseini': defaultdict(<class 'int'>, {'Asghar Farhadi': 1}), 'Jo Hartley': defaultdict(<class 'int'>, {'Justin Molotnikov': 1}), 'Allison Dean': defaultdict(<class 'int'>, {'Victor Nunez': 1}), 'Victor Rasuk': defaultdict(<class 'int'>, {'Peter Sollett': 1}), 'Louise Brooks': defaultdict(<class 'int'>, {'Georg Wilhelm Pabst': 1}), 'Norma Aleandro': defaultdict(<class 'int'>, {'Jorge Gaggero': 1}), 'Zachary Knighton': defaultdict(<class 'int'>, {'Michael Burke': 1}), 'Shane Dawson': defaultdict(<class 'int'>, {'Shane Dawson': 1}), 'Corbin Allred': defaultdict(<class 'int'>, {'Ryan Little': 1}), 'Taylor Pigeon': defaultdict(<class 'int'>, {'Clark Baker': 1}), 'Scott Helvenston': defaultdict(<class 'int'>, {'Robert Greenwald': 1}), 'Isaac C. Singleton Jr.': defaultdict(<class 'int'>, {'Leslie Small': 1}), 'Jean-Louis Trintignant': defaultdict(<class 'int'>, {'Bernardo Bertolucci': 1}), 'Raymond J. Barry': defaultdict(<class 'int'>, {'Neil Burger': 1}), 'Luke Grimes': defaultdict(<class 'int'>, {'Jonathan Levine': 1}), 'Dichen Lachman': defaultdict(<class 'int'>, {'Christopher Hutson': 1}), 'William Gates': defaultdict(<class 'int'>, {'Steve James': 1}), 'Kevin Scott Richardson': defaultdict(<class 'int'>, {'David LaChapelle': 1}), 'Adam LeFevre': defaultdict(<class 'int'>, {'Michael Cuesta': 1}), 'Laura Fraser': defaultdict(<class 'int'>, {'Caryn Waechter': 1}), 'Irene Bedard': defaultdict(<class 'int'>, {'Jennifer Wynne Farmer': 1}), 'Hill Harper': defaultdict(<class 'int'>, {'Christopher Scott Cherot': 1}), 'Trey Loney': defaultdict(<class 'int'>, {'Randy Moore': 1}), 'Richard Curtis': defaultdict(<class 'int'>, {'Chris Atkins': 1}), 'Leven Rambin': defaultdict(<class 'int'>, {'Anna Mastro': 1}), 'Ginger Rogers': defaultdict(<class 'int'>, {'Mark Sandrich': 1, 'Lloyd Bacon': 1}), 'Heather Donahue': defaultdict(<class 'int'>, {'Daniel Myrick': 1}), 'Joe Cocker': defaultdict(<class 'int'>, {'Michael Wadleigh': 1}), 'David Zucker': defaultdict(<class 'int'>, {'John Landis': 1}), 'Stacy Keach': defaultdict(<class 'int'>, {'Jon Gunn': 1, 'Matt Cimber': 1}), 'Kendyl Joi': defaultdict(<class 'int'>, {'Gene Teigland': 1}), 'Aliou Touré': defaultdict(<class 'int'>, {'Johanna Schwartz': 1}), 'Karen Alexander': defaultdict(<class 'int'>, {'William Gazecki': 1}), 'Russell Wong': defaultdict(<class 'int'>, {'Lance McDaniel': 1}), 'Paula Garcés': defaultdict(<class 'int'>, {'Michael Walker': 1}), 'Paul McCartney': defaultdict(<class 'int'>, {'Richard Lester': 1}), 'Dario Nozic Serini': defaultdict(<class 'int'>, {'Blaz Zavrsnik': 1}), 'Kirk Cameron': defaultdict(<class 'int'>, {'Alex Kendrick': 1}), 'Bhole Baba': defaultdict(<class 'int'>, {'Pan Nalin': 1}), 'Frances Bavier': defaultdict(<class 'int'>, {'Joe Camp': 1}), 'Blanchard Ryan': defaultdict(<class 'int'>, {'Chris Kentis': 1}), 'Woody Strode': defaultdict(<class 'int'>, {\"John 'Bud' Cardos\": 1}), 'Heather Berman': defaultdict(<class 'int'>, {'Marilyn Agrelo': 1}), 'Ken Burns': defaultdict(<class 'int'>, {'Patrick Creadon': 1}), 'Terry Funk': defaultdict(<class 'int'>, {'Barry W. Blaustein': 1}), 'Kirby Heyborne': defaultdict(<class 'int'>, {'Kurt Hale': 2}), 'Marina Golbahari': defaultdict(<class 'int'>, {'Siddiq Barmak': 1}), 'Rachel Dratch': defaultdict(<class 'int'>, {'Joseph Dorman': 1}), 'Rachel True': defaultdict(<class 'int'>, {'Greg Harrison': 1}), 'Sasha Alexander': defaultdict(<class 'int'>, {'Michael Polish': 1}), 'Edie Falco': defaultdict(<class 'int'>, {'Morgan J. Freeman': 1}), 'Monica Calhoun': defaultdict(<class 'int'>, {'Neema Barnette': 1}), 'David Mamet': defaultdict(<class 'int'>, {'Molly Bernstein': 1}), 'Takashi Shimura': defaultdict(<class 'int'>, {'Akira Kurosawa': 1}), 'Tommy Sheppard': defaultdict(<class 'int'>, {'Marius A. Markevicius': 1}), 'Monique Gabriela Curnen': defaultdict(<class 'int'>, {'Justin Lin': 1}), 'Haley Ramm': defaultdict(<class 'int'>, {'Quentin Dupieux': 1}), 'Tori Spelling': defaultdict(<class 'int'>, {'C. Jay Cox': 1}), 'Bo Huang': defaultdict(<class 'int'>, {'Hao Ning': 1}), 'Brian Eno': defaultdict(<class 'int'>, {'Stephen Kijak': 1}), 'Daston Kalili': defaultdict(<class 'int'>, {'Daston Kalili': 1}), 'Carol Channing': defaultdict(<class 'int'>, {'William Gazecki': 1}), 'Vincent Chimato': defaultdict(<class 'int'>, {'Michael Hoffman Jr.': 1}), 'Emma Caulfield': defaultdict(<class 'int'>, {'Patrick Gilles': 1}), 'Mike Beckingham': defaultdict(<class 'int'>, {'Georgia Hilton': 1}), 'Shaun Sipos': defaultdict(<class 'int'>, {'Jack Heller': 1}), 'Manny Perez': defaultdict(<class 'int'>, {'Fernando Baez Mella': 1}), 'Jennifer Hale': defaultdict(<class 'int'>, {'Warren Sheppard': 1}), 'Mary Kate Wiles': defaultdict(<class 'int'>, {'Justin Paul Miller': 1}), 'Carrie Bradstreet': defaultdict(<class 'int'>, {'Joel Paul Reisig': 1}), 'Elizabeth Streb': defaultdict(<class 'int'>, {'Catherine Gund': 1}), 'Mike Stanley': defaultdict(<class 'int'>, {'Luke Dye': 1}), 'Patrick Kilpatrick': defaultdict(<class 'int'>, {'Michael Herz': 1}), 'Lawrence Gilliard Jr.': defaultdict(<class 'int'>, {'Matty Rich': 1}), 'Luis Sanchez': defaultdict(<class 'int'>, {'Alec Asten': 1}), 'John Karyus': defaultdict(<class 'int'>, {'Lloyd Kaufman': 1}), 'Jennifer Lafleur': defaultdict(<class 'int'>, {'Matthew Watts': 1}), 'Bob Proctor': defaultdict(<class 'int'>, {'Joe Kenemore': 1}), 'Chris Eigeman': defaultdict(<class 'int'>, {'Whit Stillman': 1}), 'Jack E. Curenton': defaultdict(<class 'int'>, {'Eric England': 1}), 'Micah Sloat': defaultdict(<class 'int'>, {'Oren Peli': 1}), 'Tony Alva': defaultdict(<class 'int'>, {'Stacy Peralta': 1}), 'Emily Rios': defaultdict(<class 'int'>, {'Richard Glatzer': 1}), 'Tony Doupe': defaultdict(<class 'int'>, {'Sue Corcoran': 1}), 'Greg Ayres': defaultdict(<class 'int'>, {'Jonathan Caouette': 1}), 'Bill Farmer': defaultdict(<class 'int'>, {'Ray Griggs': 1}), 'Catriona MacColl': defaultdict(<class 'int'>, {'Lucio Fulci': 1}), 'Brendon Small': defaultdict(<class 'int'>, {-1: 1}), 'Treat Williams': defaultdict(<class 'int'>, {'Tom Vaughan': 1}), 'Dov Tiefenbach': defaultdict(<class 'int'>, {'Paul Fox': 1}), 'R. Brandon Johnson': defaultdict(<class 'int'>, {'Ari Kirschenbaum': 1, 'Stevan Mena': 1}), 'Liv Ullmann': defaultdict(<class 'int'>, {'Ingmar Bergman': 1, 'Laslo Benedek': 1}), 'Lillian Gish': defaultdict(<class 'int'>, {'D.W. Griffith': 1}), 'Walter Koenig': defaultdict(<class 'int'>, {'Roger Nygard': 1}), 'Anita Page': defaultdict(<class 'int'>, {'Harry Beaumont': 1}), 'America Olivo': defaultdict(<class 'int'>, {'Franck Khalfoun': 1}), 'Amos Oz': defaultdict(<class 'int'>, {'Mor Loushy': 1}), 'Mark Zupan': defaultdict(<class 'int'>, {'Henry Alex Rubin': 1}), 'Michael Dudikoff': defaultdict(<class 'int'>, {'Sam Firstenberg': 1}), 'Carol Block': defaultdict(<class 'int'>, {'Doug Block': 1}), 'Tom E. Nicholson': defaultdict(<class 'int'>, {'Chad Kapper': 1}), 'Jack Warden': defaultdict(<class 'int'>, {'Sidney Lumet': 1}), 'Claudette Colbert': defaultdict(<class 'int'>, {'Frank Capra': 1}), 'Angeliki Papoulia': defaultdict(<class 'int'>, {'Yorgos Lanthimos': 1}), 'James Cagney': defaultdict(<class 'int'>, {'Lauren Lazin': 1}), 'Kimberly J. Brown': defaultdict(<class 'int'>, {\"Gavin O'Connor\": 1}), 'Simon Abkarian': defaultdict(<class 'int'>, {'Cédric Klapisch': 1}), 'Kevin Howarth': defaultdict(<class 'int'>, {'Niall Johnson': 1}), 'Daniel London': defaultdict(<class 'int'>, {'Kelly Reichardt': 1}), 'John Robinson': defaultdict(<class 'int'>, {'Kelly Reichardt': 1}), 'Embeth Davidtz': defaultdict(<class 'int'>, {'Eric Mendelsohn': 1}), 'Jean-Paul Belmondo': defaultdict(<class 'int'>, {'Jean-Luc Godard': 1}), 'Vera Ngassa': defaultdict(<class 'int'>, {'Florence Ayisi': 1}), 'Robert John Burke': defaultdict(<class 'int'>, {'Jesse Peretz': 1}), 'Don Wallace': defaultdict(<class 'int'>, {\"Eddie O'Flaherty\": 1}), 'Lalaine': defaultdict(<class 'int'>, {'Babar Ahmed': 1}), 'Trish Basinger': defaultdict(<class 'int'>, {'John D. Hancock': 1}), 'Tatyana Ali': defaultdict(<class 'int'>, {'Bruce Dellis': 1}), 'Michael Des Barres': defaultdict(<class 'int'>, {'Pece Dingo': 1}), 'Rumi Missabu': defaultdict(<class 'int'>, {'Étienne Faure': 1}), 'Dreama Walker': defaultdict(<class 'int'>, {'Craig Zobel': 1}), 'Aunjanue Ellis': defaultdict(<class 'int'>, {'Nicole Holofcener': 1}), 'Hector Echavarria': defaultdict(<class 'int'>, {'Ken Del Conte': 1}), 'Parry Shen': defaultdict(<class 'int'>, {'Justin Lin': 1}), 'Nicole Ari Parker': defaultdict(<class 'int'>, {'Maria Maggenti': 1}), 'Purva Bedi': defaultdict(<class 'int'>, {'Piyush Dinker Pandya': 1}), 'Keri Maletto': defaultdict(<class 'int'>, {'Daniel Columbie': 1}), 'Charis Michelsen': defaultdict(<class 'int'>, {'Bill Plympton': 1}), 'Amir Talai': defaultdict(<class 'int'>, {'Greg Harrison': 1}), 'Marshal Hilton': defaultdict(<class 'int'>, {'Al Franklin': 1}), 'Ally Sheedy': defaultdict(<class 'int'>, {'Allison Anders': 1}), 'Samantha Futerman': defaultdict(<class 'int'>, {'Michael Kang': 1}), 'Nolan Gerard Funk': defaultdict(<class 'int'>, {'Paul Schrader': 1}), 'Judy Marte': defaultdict(<class 'int'>, {'Lori Silverbush': 1}), 'Michael Abbott Jr.': defaultdict(<class 'int'>, {'Jeff Nichols': 1}), 'James Urbaniak': defaultdict(<class 'int'>, {'Hilary Brougher': 1}), 'Dustin Fitzsimons': defaultdict(<class 'int'>, {'Rachel Goldenberg': 1}), 'Eme Ikwuakor': defaultdict(<class 'int'>, {'Jamin Winans': 1}), 'Florence Henderson': defaultdict(<class 'int'>, {'Tom Seidman': 1}), 'Victoria Jackson': defaultdict(<class 'int'>, {'Jason Naumann': 1}), 'Sam Adams': defaultdict(<class 'int'>, {'Sam Martin': 1}), 'Noah Segan': defaultdict(<class 'int'>, {'Andrew Hyatt': 1}), 'Joshua Ray Bell': defaultdict(<class 'int'>, {'Joel Paul Reisig': 1}), 'John Gilbert': defaultdict(<class 'int'>, {'King Vidor': 1}), 'Matthew Emerick': defaultdict(<class 'int'>, {'Zoran Lisinac': 1}), 'Mark Fantasia': defaultdict(<class 'int'>, {\"James O'Brien\": 1}), 'Brendan Doogie Milewski': defaultdict(<class 'int'>, {'Tom Putnam': 1}), 'Dan Futterman': defaultdict(<class 'int'>, {'Jon Shear': 1}), 'Christina Hart': defaultdict(<class 'int'>, {'Al Silliman Jr.': 1}), 'Kenneth Tobey': defaultdict(<class 'int'>, {'Eugène Lourié': 1}), 'Hugh Keays-Byrne': defaultdict(<class 'int'>, {'George Miller': 1}), 'Mae West': defaultdict(<class 'int'>, {'Lowell Sherman': 1}), 'The Dalai Lama': defaultdict(<class 'int'>, {'Maurizio Benazzo': 1}), 'Michael Joiner': defaultdict(<class 'int'>, {'David G. Evans': 1}), 'Devid Striesow': defaultdict(<class 'int'>, {'Tom Tykwer': 1}), 'William Joseph Elk III': defaultdict(<class 'int'>, {'Sherman Alexie': 1}), 'Matisyahu': defaultdict(<class 'int'>, {'Justin Dillon': 1}), 'Marri Savinar': defaultdict(<class 'int'>, {'Adam Rifkin': 1}), 'Melanie Papalia': defaultdict(<class 'int'>, {'Eric Valette': 1}), 'Susan Chambers': defaultdict(<class 'int'>, {'Livingston Oden': 1}), 'Marina Vlady': defaultdict(<class 'int'>, {'Chris Marker': 1}), 'Hanne Aagesen': defaultdict(<class 'int'>, {'Carl Theodor Dreyer': 1}), 'William Katt': defaultdict(<class 'int'>, {'Richard Schenkman': 1}), 'Darryl Hunt': defaultdict(<class 'int'>, {'Ricki Stern': 1}), 'John Newton': defaultdict(<class 'int'>, {'James Kerwin': 1}), 'Elaine Bromka': defaultdict(<class 'int'>, {'C. Fraser Press': 1}), 'Paul Hickert': defaultdict(<class 'int'>, {'Rania Attieh': 1}), 'Bahare Seddiqi': defaultdict(<class 'int'>, {'Majid Majidi': 1}), 'S. Epatha Merkerson': defaultdict(<class 'int'>, {'Spike Lee': 1}), 'Abigail Evans': defaultdict(<class 'int'>, {'Cary Bell': 1}), 'Iulia Ciochina': defaultdict(<class 'int'>, {'Nicolae Constantin Tanase': 1}), 'Robin Lord Taylor': defaultdict(<class 'int'>, {'Mike Cahill': 1}), 'Charla Cochran': defaultdict(<class 'int'>, {'Ken Roht': 1}), 'Bebe Neuwirth': defaultdict(<class 'int'>, {'Gary Winick': 1}), 'Glen Hansard': defaultdict(<class 'int'>, {'John Carney': 1}), 'Marilyn Rising': defaultdict(<class 'int'>, {'Robinson Devor': 1}), 'Temple Grandin': defaultdict(<class 'int'>, {'Michel Orion Scott': 1}), 'Alan Brent': defaultdict(<class 'int'>, {'Pat Holden': 1}), 'Joel Moody': defaultdict(<class 'int'>, {'Eric Bugbee': 1}), 'Peter Robbins': defaultdict(<class 'int'>, {'Bill Melendez': 1}), 'Naderev Sano': defaultdict(<class 'int'>, {'Dena Seidel': 1}), 'Lisa Ann': defaultdict(<class 'int'>, {'Deborah Anderson': 1}), 'Ariel Hsing': defaultdict(<class 'int'>, {'Sara Newens': 1}), 'J.D. Williams': defaultdict(<class 'int'>, {'Sai Varadan': 1}), 'Christopher Denham': defaultdict(<class 'int'>, {'Zal Batmanglij': 1}), 'Mark Duplass': defaultdict(<class 'int'>, {'Lynn Shelton': 1, 'Jay Duplass': 1}), 'Diane Sorrentino': defaultdict(<class 'int'>, {'Valentine': 1}), 'Philippe Leroy': defaultdict(<class 'int'>, {'Jean-Luc Godard': 1}), 'Jason Stuart': defaultdict(<class 'int'>, {'Nate Parker': 1}), 'Richard Moll': defaultdict(<class 'int'>, {'Nathan Smith Jones': 1}), 'Pfeifer Brown': defaultdict(<class 'int'>, {'Travis Cluff': 1}), 'Hal Landon Jr.': defaultdict(<class 'int'>, {'David Lynch': 1}), 'Stephen Carr': defaultdict(<class 'int'>, {'Harry F. Millarde': 1}), 'Robert Townsend': defaultdict(<class 'int'>, {'Robert Townsend': 1}), 'Leon Isaac Kennedy': defaultdict(<class 'int'>, {'Jamaa Fanaka': 1}), 'Fay Masterson': defaultdict(<class 'int'>, {'Larry Blamire': 1}), 'Kevin P. Farley': defaultdict(<class 'int'>, {'Stephen Langford': 1}), 'Jonathan Blow': defaultdict(<class 'int'>, {'Lisanne Pajot': 1}), 'Sheldon Leonard': defaultdict(<class 'int'>, {'John Reinhardt': 1}), 'Claire Gordon-Harper': defaultdict(<class 'int'>, {'Patrick Ryan Sims': 1}), 'Jon Brion': defaultdict(<class 'int'>, {'Jason Miller': 1}), 'Jack McGee': defaultdict(<class 'int'>, {'Julie Davis': 1}), 'Michelle Simone Miller': defaultdict(<class 'int'>, {'Brett Piper': 1}), 'Chemeeka Walker': defaultdict(<class 'int'>, {'Morgan Spurlock': 1}), 'Virginia Leith': defaultdict(<class 'int'>, {'Joseph Green': 1}), 'Ty Parker': defaultdict(<class 'int'>, {'Wade Gasque': 1}), 'Justin Gordon': defaultdict(<class 'int'>, {'Mike Flanagan': 1}), 'Shari Albert': defaultdict(<class 'int'>, {'Edward Burns': 1}), 'Paul Daniel Ayotte': defaultdict(<class 'int'>, {'Matt Johnson': 1}), 'Marcello Mastroianni': defaultdict(<class 'int'>, {'Bruno Barreto': 1}), 'Dan Novy': defaultdict(<class 'int'>, {'Andrew Leman': 1}), \"Chris 'Wonder' Schoeck\": defaultdict(<class 'int'>, {'Dave Carroll': 1}), 'Taliesin Jaffe': defaultdict(<class 'int'>, {'Patrick Meaney': 1}), 'Jan Haley': defaultdict(<class 'int'>, {'Chad Hartigan': 1}), 'Paul Schneider': defaultdict(<class 'int'>, {'David Gordon Green': 1}), 'Derick Martini': defaultdict(<class 'int'>, {'Kevin Jordan': 1}), 'Elissa Dowling': defaultdict(<class 'int'>, {'Travis Legge': 1}), 'Ringo Starr': defaultdict(<class 'int'>, {'Martin Scorsese': 1}), 'Julianne Gabert': defaultdict(<class 'int'>, {'Collin Joseph Neal': 1}), 'Joseph Campanella': defaultdict(<class 'int'>, {'Mike Bruce': 1}), 'Andrew Bujalski': defaultdict(<class 'int'>, {'Andrew Bujalski': 2}), 'Nichole Ceballos': defaultdict(<class 'int'>, {'Damir Catic': 1}), 'Don Brooks': defaultdict(<class 'int'>, {'James Bidgood': 1}), 'Stacy Edwards': defaultdict(<class 'int'>, {'Neil LaBute': 1}), 'Franky G': defaultdict(<class 'int'>, {'Eric Eason': 1}), 'Tommy Pallotta': defaultdict(<class 'int'>, {'Richard Linklater': 1}), 'Tjasa Ferme': defaultdict(<class 'int'>, {'Joseph Mazzella': 1}), 'Kristen Seavey': defaultdict(<class 'int'>, {'Travis Legge': 1}), 'Shannen Fields': defaultdict(<class 'int'>, {'Alex Kendrick': 1}), 'Ashley Tramonte': defaultdict(<class 'int'>, {'Marcus Nispel': 1}), 'Robbie Barnes': defaultdict(<class 'int'>, {'Brandon Landers': 1}), 'Paul Ogola': defaultdict(<class 'int'>, {'Jim Chuchu': 1}), 'Zoe Lister-Jones': defaultdict(<class 'int'>, {'Daryl Wein': 1}), 'Sean Whalen': defaultdict(<class 'int'>, {'Jason Trost': 1}), 'Divine': defaultdict(<class 'int'>, {'John Waters': 1}), 'Maggie Cheung': defaultdict(<class 'int'>, {'Olivier Assayas': 1}), 'Fereshteh Sadre Orafaiy': defaultdict(<class 'int'>, {'Jafar Panahi': 1}), \"Patrick O'Donnell\": defaultdict(<class 'int'>, {'Ivan Kavanagh': 1}), 'Kôji Yakusho': defaultdict(<class 'int'>, {'Kiyoshi Kurosawa': 1}), 'Tatiana Suarez-Pico': defaultdict(<class 'int'>, {'Tadeo Garcia': 1}), 'Julianna Pitt': defaultdict(<class 'int'>, {'Thomas L. Phillips': 1}), 'Shane Carruth': defaultdict(<class 'int'>, {'Shane Carruth': 1}), 'Ian Gamazon': defaultdict(<class 'int'>, {'Neill Dela Llana': 1}), 'Carlos Gallardo': defaultdict(<class 'int'>, {'Robert Rodriguez': 1}), 'Richard Jewell': defaultdict(<class 'int'>, {'Anthony Vallone': 1}), 'Kerry Bishé': defaultdict(<class 'int'>, {'Edward Burns': 1}), 'Natalie Zea': defaultdict(<class 'int'>, {-1: 1}), 'Eva Boehnke': defaultdict(<class 'int'>, {'Benjamin Roberds': 1}), 'John August': defaultdict(<class 'int'>, {'Jon Gunn': 1})})\n"
     ]
    }
   ],
   "source": [
    "# Test de funcionamiento\n",
    "\n",
    "num_collaborations = actor_directors(main_dict_data)\n",
    "\n",
    "print(type(num_collaborations))\n",
    "key_a, value_a = list(num_collaborations.items())[0]\n",
    "print(type(key_a), type(value_a))\n",
    "key_b, value_b = list(value_a.items())[0]\n",
    "print(type(key_b), type(value_b))\n",
    "\n",
    "print()\n",
    "\n",
    "print(num_collaborations)"
   ]
  },
  {
   "cell_type": "markdown",
   "metadata": {},
   "source": [
    "### B.4. Print seleccionado\n",
    "\n",
    "Demasiada información. Deseamos imprimir únicamente, para cada actor, las colaboraciones que superen un mínimo, dato entrada. Si un actor no tiene ninguna colaboración que supere dicho mínimo, lógicamente no debe mostrarse."
   ]
  },
  {
   "cell_type": "code",
   "execution_count": 29,
   "metadata": {},
   "outputs": [
    {
     "name": "stdout",
     "output_type": "stream",
     "text": [
      "Johnny Depp  ->  [('Gore Verbinski', 5), ('Tim Burton', 6)]\n",
      "Leonardo DiCaprio  ->  [('Martin Scorsese', 5)]\n",
      "Robert De Niro  ->  [('Martin Scorsese', 7)]\n",
      "Bill Murray  ->  [('Wes Anderson', 5)]\n",
      "Clint Eastwood  ->  [('Clint Eastwood', 10)]\n",
      "Woody Allen  ->  [('Woody Allen', 10)]\n"
     ]
    }
   ],
   "source": [
    "# Esta celda debe ser completada por el estudiante\n",
    "\n"
   ]
  },
  {
   "cell_type": "markdown",
   "metadata": {},
   "source": [
    "# C. Algunos gráficos sencillos [1 punto]\n",
    "\n",
    "\n",
    "### C.1 Un modelo de gráfica\n",
    "\n",
    "Vamos a diseñar un modelo de gráfica sencillo que nos sirva para las siguientes representaciones. Tomará como parámetro una lista de pares $(x, y)$, y opcionalmente los tres rótulos explicativos que necesitamos incluir. Además, queremos que las etiquetas de las abcisas aparezcan inclinadas, para poder luego mostrar intervalos de edad.\n",
    "\n",
    "Las pruebas de funcionamiento te darán más información que las explicaciones que pueda yo dar aquí.  "
   ]
  },
  {
   "cell_type": "code",
   "execution_count": 30,
   "metadata": {},
   "outputs": [],
   "source": [
    "# Esta celda debe ser completada por el estudiante\n",
    "\n"
   ]
  },
  {
   "cell_type": "code",
   "execution_count": 31,
   "metadata": {},
   "outputs": [
    {
     "data": {
      "image/png": "[encoded data removed]",
      "text/plain": [
       "<Figure size 750x350 with 1 Axes>"
      ]
     },
     "metadata": {},
     "output_type": "display_data"
    },
    {
     "data": {
      "image/png": "[encoded data removed]",
      "text/plain": [
       "<Figure size 750x350 with 1 Axes>"
      ]
     },
     "metadata": {},
     "output_type": "display_data"
    }
   ],
   "source": [
    "# Pruebas de funcionamiento:\n",
    "\n",
    "representar_xxx_yyy([(1, 8), (2, 4), (3, 2), (4, 1), (5, 0.5), (6, 0.25)], [\"Serie descendente\", \"Ordenadas\", \"Abcisas\"])\n",
    "\n",
    "representar_xxx_yyy([(1, 1), (2, 2), (3, 4), (4, 8), (5, 16), (6, 32)])"
   ]
  },
  {
   "cell_type": "markdown",
   "metadata": {},
   "source": [
    "### Una gráfica concreta\n",
    "\n",
    "Deseamos representar el número de películas de nuestra base de datos que se han producido en un intervalo de años dado."
   ]
  },
  {
   "cell_type": "code",
   "execution_count": 32,
   "metadata": {},
   "outputs": [],
   "source": [
    "# Esta celda debe ser completada por el estudiante\n",
    "\n"
   ]
  },
  {
   "cell_type": "code",
   "execution_count": 33,
   "metadata": {},
   "outputs": [
    {
     "data": {
      "image/png": "[encoded data removed]",
      "text/plain": [
       "<Figure size 750x350 with 1 Axes>"
      ]
     },
     "metadata": {},
     "output_type": "display_data"
    },
    {
     "data": {
      "image/png": "[encoded data removed]",
      "text/plain": [
       "<Figure size 750x350 with 1 Axes>"
      ]
     },
     "metadata": {},
     "output_type": "display_data"
    }
   ],
   "source": [
    "# Test de funcionamiento\n",
    "\n",
    "repr_movies_years(main_dict_data, 2000, 2010)\n",
    "repr_movies_years(main_dict_data, 2005, 2015)"
   ]
  },
  {
   "cell_type": "markdown",
   "metadata": {},
   "source": [
    "# D. Acceso a las urls de imdb y webscraping [2 puntos]\n",
    "\n",
    "### D.1. Recuperación de las URLs\n",
    "\n",
    "Con sencillas instrucciones, deseamos recuperar todas las *urls* de las películas de nuestro archivo, mostrando cuántas son, la primera de ellas o las diez primeras por ejemplo:"
   ]
  },
  {
   "cell_type": "code",
   "execution_count": 34,
   "metadata": {},
   "outputs": [],
   "source": [
    "# Esta celda debe ser completada por el estudiante\n",
    "\n"
   ]
  },
  {
   "cell_type": "code",
   "execution_count": 35,
   "metadata": {},
   "outputs": [
    {
     "name": "stdout",
     "output_type": "stream",
     "text": [
      "4919\n",
      "\n",
      "http://www.imdb.com/title/tt0499549/\n",
      "\n",
      "['http://www.imdb.com/title/tt0499549/', 'http://www.imdb.com/title/tt0449088/', 'http://www.imdb.com/title/tt2379713/', 'http://www.imdb.com/title/tt1345836/', 'http://www.imdb.com/title/tt5289954/', 'http://www.imdb.com/title/tt0401729/', 'http://www.imdb.com/title/tt0413300/', 'http://www.imdb.com/title/tt0398286/', 'http://www.imdb.com/title/tt2395427/', 'http://www.imdb.com/title/tt0417741/']\n"
     ]
    }
   ],
   "source": [
    "# Test de funcionamiento\n",
    "\n",
    "print(len(urls))\n",
    "\n",
    "print()\n",
    "\n",
    "print(first_url_movie)\n",
    "\n",
    "print()\n",
    "\n",
    "print(first_ten_urls)"
   ]
  },
  {
   "cell_type": "code",
   "execution_count": 36,
   "metadata": {},
   "outputs": [],
   "source": [
    "# Una forma de evitar el error \"Requests 403 forbidden\" al hacer web scraping en las siguientes celdas:\n",
    "\n",
    "HEADERS = {\n",
    "        \"User-Agent\": \"Mozilla/5.0 (Windows NT 10.0; Win64; x64; rv:98.0) Gecko/20100101 Firefox/98.0\",\n",
    "        \"Accept\": \"text/html,application/xhtml+xml,application/xml;q=0.9,image/avif,image/webp,*/*;q=0.8\",\n",
    "        \"Accept-Language\": \"en-US,en;q=0.5\",\n",
    "        \"Accept-Encoding\": \"gzip, deflate\",\n",
    "        \"Connection\": \"keep-alive\",\n",
    "        \"Upgrade-Insecure-Requests\": \"1\",\n",
    "        \"Sec-Fetch-Dest\": \"document\",\n",
    "        \"Sec-Fetch-Mode\": \"navigate\",\n",
    "        \"Sec-Fetch-Site\": \"none\",\n",
    "        \"Sec-Fetch-User\": \"?1\",\n",
    "        \"Cache-Control\": \"max-age=0\",\n",
    "    }"
   ]
  },
  {
   "cell_type": "markdown",
   "metadata": {},
   "source": [
    "### D.2. Carga de la estructura sintáctica de una URL\n",
    "\n",
    "Ahora, deseamos extraer el código `html` de una película."
   ]
  },
  {
   "cell_type": "code",
   "execution_count": 37,
   "metadata": {},
   "outputs": [],
   "source": [
    "# Esta celda debe ser completada por el estudiante\n",
    "\n"
   ]
  },
  {
   "cell_type": "code",
   "execution_count": 38,
   "metadata": {},
   "outputs": [
    {
     "name": "stdout",
     "output_type": "stream",
     "text": [
      "<!DOCTYPE html>\n",
      "<html lang=\"en-US\" xmlns:fb=\"http://www.facebook.com/2008/fbml\" xmlns:og=\"http://opengraphprotocol.org/schema/\"><head><meta charset=\"utf-8\"/><meta content=\"width=device-width\" name=\"viewport\"/><script>if(typeof uet === 'function'){ uet('bb', 'LoadTitle', {wb: 1}); }</script><script>window.addEventListener('load', (event) => {\n",
      "        if (typeof window.csa !== 'undefined' && typeof window.csa === 'function') {\n",
      "            var csaLatencyPlugin = window.csa('Content', {\n",
      "                element: {\n",
      "                    slotId: 'LoadTitle',\n",
      "                    type: 'service-call'\n",
      "                }\n",
      "            });\n",
      "            csaLatencyPlugin('mark', 'clickToBodyBegin', 1724918213361);\n",
      "        }\n",
      "    })</script><title>Avatar (2009) - IMDb</title><meta content=\"Avatar: Directed by James Cameron. With Sam Worthington, Zoe Saldana, Sigourney Weaver, Stephen Lang. A paraplegic Marine dispatched to the moon Pandora on a unique mission becomes torn between following his orders and pr\n",
      "\n",
      "... ... ... ... ... ... ... ... ... ... ... ... ... ... ... ... ... ... ... ... ... ... ... ... ...\n",
      "\n",
      "g(e+c);return!!e}function n(){for(var e=RegExp(\"^https://(.*\\.(images|ssl-images|media)-amazon\\.com|\"+c.location.hostname+\")/images/\",\"i\"),d={},h=0,k=c.performance.getEntriesByType(\"resource\"),l=!1,b,a,m,f=0;f<k.length;f++)if(a=k[f],0<a.transferSize&&a.transferSize>=a.encodedBodySize&&(b=e.exec(String(a.name)))&&3===b.length){a:{b=a.serverTiming||[];for(a=0;a<b.length;a++)if(\"provider\"===b[a].name){b=b[a].description;break a}b=void 0}b&&(l||(l=g(b,\"_cdn_fr\")),\n",
      "a=d[b]=(d[b]||0)+1,a>h&&(m=b,h=a))}g(m,\"_cdn_mp\")}d.ue&&\"function\"===typeof d.ue.tag&&c.performance&&c.location&&n()},\"cdnTagging\")(ue_csm,window);\n",
      "\n",
      "\n",
      "}\n",
      "\n",
      "/* ◬ */\n",
      "</script>\n",
      "</div>\n",
      "<noscript>\n",
      "<img alt=\"\" height=\"1\" src=\"//fls-na.amazon.com/1/batch/1/OP/A1EVAM02EL8SFB:143-8406919-7416635:WKYP1V6N2RW327XH73XJ$uedata=s:%2Fuedata%2Fuedata%3Fnoscript%26id%3DWKYP1V6N2RW327XH73XJ:0\" style=\"display:none;visibility:hidden;\" width=\"1\"/>\n",
      "</noscript>\n",
      "<script>window.ue && ue.count && ue.count('CSMLibrarySize', 60231)</script></div></body></html>\n"
     ]
    }
   ],
   "source": [
    "# Test de funcionamiento\n",
    "\n",
    "soup = soup_movie(first_url_movie)\n",
    "\n",
    "print(str(soup)[:1000])\n",
    "print()\n",
    "print(\"... ... ... ... ... ... ... ... ... ... ... ... ... ... ... ... ... ... ... ... ... ... ... ... ...\")\n",
    "print()\n",
    "print(str(soup)[-1000:])"
   ]
  },
  {
   "cell_type": "markdown",
   "metadata": {},
   "source": [
    "### D.3. Extracción de algunas piezas de información de una URL\n",
    "\n",
    "Y ahora, con dicho código, deseamos extraer la siguiente información, referida a la película `first_url_movie`:\n",
    "\n",
    "- La etiqueta completa del título de la película\n",
    "- La descripción (sólo el contenido).\n",
    "- La lista de los actores del *reparto principal*\n",
    "- La información sobre el presupuesto"
   ]
  },
  {
   "cell_type": "code",
   "execution_count": 39,
   "metadata": {},
   "outputs": [
    {
     "name": "stdout",
     "output_type": "stream",
     "text": [
      "<title>Avatar (2009) - IMDb</title>\n",
      "\n",
      "Avatar: Directed by James Cameron. With Sam Worthington, Zoe Saldana, Sigourney Weaver, Stephen Lang. A paraplegic Marine dispatched to the moon Pandora on a unique mission becomes torn between following his orders and protecting the world he feels is his home.\n",
      "\n",
      "['Sam Worthington', 'Zoe Saldana', 'Sigourney Weaver', 'Michelle Rodriguez', 'Stephen Lang', 'Giovanni Ribisi', 'Joel David Moore', 'CCH Pounder', 'Wes Studi', 'Laz Alonso', 'Dileep Rao', 'Matt Gerald', 'Sean Anthony Moran', 'Jason Whyte', 'Scott Lawrence', 'Kelly Kilgour', 'James Patrick Pitt', 'Sean Patrick Murphy']\n",
      "\n",
      "$237,000,000 (estimated)\n"
     ]
    }
   ],
   "source": [
    "# Esta celda debe ser completada por el estudiante\n",
    "\n"
   ]
  },
  {
   "cell_type": "markdown",
   "metadata": {},
   "source": [
    "### D.4. Actores que intervienen en una lista de URLs\n",
    "\n",
    "Necesitamos crear un archivo con los actores del reparto principal de las películas de IMDB, dada la lista de sus URLs."
   ]
  },
  {
   "cell_type": "code",
   "execution_count": 40,
   "metadata": {},
   "outputs": [],
   "source": [
    "# Esta celda debe ser completada por el estudiante\n",
    "\n"
   ]
  },
  {
   "cell_type": "code",
   "execution_count": 41,
   "metadata": {},
   "outputs": [
    {
     "name": "stdout",
     "output_type": "stream",
     "text": [
      "Sam Worthington\n",
      "Zoe Saldana\n",
      "Sigourney Weaver\n",
      "Michelle Rodriguez\n",
      "Stephen Lang\n",
      "Giovanni Ribisi\n",
      "Joel David Moore\n",
      "CCH Pounder\n",
      "Wes Studi\n",
      "Laz Alonso\n",
      "Dileep Rao\n",
      "Matt Gerald\n",
      "Sean Anthony Moran\n",
      "Jason Whyte\n",
      "Scott Lawrence\n",
      "Kelly Kilgour\n",
      "James Patrick Pitt\n",
      "Sean Patrick Murphy\n",
      "Johnny Depp\n",
      "Orlando Bloom\n",
      "Keira Knightley\n",
      "Geoffrey Rush\n",
      "Jack Davenport\n",
      "Bill Nighy\n",
      "Jonathan Pryce\n",
      "Lee Arenberg\n",
      "Mackenzie Crook\n",
      "Kevin McNally\n",
      "David Bailie\n",
      "Stellan Skarsgård\n",
      "Tom Hollander\n",
      "Naomie Harris\n",
      "Martin Klebba\n",
      "David Schofield\n",
      "Lauren Maher\n",
      "Dermot Keaney\n",
      "Daniel Craig\n",
      "Christoph Waltz\n",
      "Léa Seydoux\n",
      "Ralph Fiennes\n",
      "Monica Bellucci\n",
      "Ben Whishaw\n",
      "Naomie Harris\n",
      "Dave Bautista\n",
      "Andrew Scott\n",
      "Rory Kinnear\n",
      "Jesper Christensen\n",
      "Alessandro Cremona\n",
      "Stephanie Sigman\n",
      "Tenoch Huerta\n",
      "Adriana Paz\n",
      "Domenico Fortunato\n",
      "Marco Zingaro\n",
      "Stefano Elfi DiClaudia\n"
     ]
    }
   ],
   "source": [
    "# Test de funcionamiento\n",
    "\n",
    "# OJO: esta operación puede llevar bastante tiempo.\n",
    "# Para esta prueba, usamos un número limitado de películas.\n",
    "\n",
    "gather_actors(\"actors_3_first_movies.txt\", urls[:3])\n",
    "\n",
    "! type actors_3_first_movies.txt"
   ]
  },
  {
   "cell_type": "code",
   "execution_count": 42,
   "metadata": {},
   "outputs": [],
   "source": [
    "# La siguente llamada llevaría un tiempo realmente largo:\n",
    "\n",
    "# import time # para cronometrar esta función, que tarda mucho\n",
    "\n",
    "# reloj_inicio = time.time()\n",
    "# gather_actors(\"actors_all_movies.txt\", urls)\n",
    "# reloj_fin = time.time()\n",
    "\n",
    "# print(\"Tiempo invertido: %s segundos.\" % (reloj_fin - reloj_inicio))"
   ]
  },
  {
   "cell_type": "markdown",
   "metadata": {},
   "source": [
    "# E. Pandas [2 puntos]\n",
    "\n",
    "### E.1. El primer paso es la carga del archivo en un dataframe"
   ]
  },
  {
   "cell_type": "code",
   "execution_count": 43,
   "metadata": {},
   "outputs": [],
   "source": [
    "# Esta celda debe ser completada por el estudiante\n",
    "\n"
   ]
  },
  {
   "cell_type": "code",
   "execution_count": 44,
   "metadata": {},
   "outputs": [
    {
     "data": {
      "text/html": [
       "<div>\n",
       "<style scoped>\n",
       "    .dataframe tbody tr th:only-of-type {\n",
       "        vertical-align: middle;\n",
       "    }\n",
       "\n",
       "    .dataframe tbody tr th {\n",
       "        vertical-align: top;\n",
       "    }\n",
       "\n",
       "    .dataframe thead th {\n",
       "        text-align: right;\n",
       "    }\n",
       "</style>\n",
       "<table border=\"1\" class=\"dataframe\">\n",
       "  <thead>\n",
       "    <tr style=\"text-align: right;\">\n",
       "      <th></th>\n",
       "      <th>color</th>\n",
       "      <th>director_name</th>\n",
       "      <th>num_critic_for_reviews</th>\n",
       "      <th>duration</th>\n",
       "      <th>director_facebook_likes</th>\n",
       "      <th>actor_3_facebook_likes</th>\n",
       "      <th>actor_2_name</th>\n",
       "      <th>actor_1_facebook_likes</th>\n",
       "      <th>gross</th>\n",
       "      <th>genres</th>\n",
       "      <th>...</th>\n",
       "      <th>num_user_for_reviews</th>\n",
       "      <th>language</th>\n",
       "      <th>country</th>\n",
       "      <th>content_rating</th>\n",
       "      <th>budget</th>\n",
       "      <th>title_year</th>\n",
       "      <th>actor_2_facebook_likes</th>\n",
       "      <th>imdb_score</th>\n",
       "      <th>aspect_ratio</th>\n",
       "      <th>movie_facebook_likes</th>\n",
       "    </tr>\n",
       "  </thead>\n",
       "  <tbody>\n",
       "    <tr>\n",
       "      <th>0</th>\n",
       "      <td>Color</td>\n",
       "      <td>James Cameron</td>\n",
       "      <td>723.0</td>\n",
       "      <td>178.0</td>\n",
       "      <td>0.0</td>\n",
       "      <td>855.0</td>\n",
       "      <td>Joel David Moore</td>\n",
       "      <td>1000.0</td>\n",
       "      <td>760505847.0</td>\n",
       "      <td>Action|Adventure|Fantasy|Sci-Fi</td>\n",
       "      <td>...</td>\n",
       "      <td>3054.0</td>\n",
       "      <td>English</td>\n",
       "      <td>USA</td>\n",
       "      <td>PG-13</td>\n",
       "      <td>237000000.0</td>\n",
       "      <td>2009.0</td>\n",
       "      <td>936.0</td>\n",
       "      <td>7.9</td>\n",
       "      <td>1.78</td>\n",
       "      <td>33000</td>\n",
       "    </tr>\n",
       "    <tr>\n",
       "      <th>1</th>\n",
       "      <td>Color</td>\n",
       "      <td>Gore Verbinski</td>\n",
       "      <td>302.0</td>\n",
       "      <td>169.0</td>\n",
       "      <td>563.0</td>\n",
       "      <td>1000.0</td>\n",
       "      <td>Orlando Bloom</td>\n",
       "      <td>40000.0</td>\n",
       "      <td>309404152.0</td>\n",
       "      <td>Action|Adventure|Fantasy</td>\n",
       "      <td>...</td>\n",
       "      <td>1238.0</td>\n",
       "      <td>English</td>\n",
       "      <td>USA</td>\n",
       "      <td>PG-13</td>\n",
       "      <td>300000000.0</td>\n",
       "      <td>2007.0</td>\n",
       "      <td>5000.0</td>\n",
       "      <td>7.1</td>\n",
       "      <td>2.35</td>\n",
       "      <td>0</td>\n",
       "    </tr>\n",
       "    <tr>\n",
       "      <th>2</th>\n",
       "      <td>Color</td>\n",
       "      <td>Sam Mendes</td>\n",
       "      <td>602.0</td>\n",
       "      <td>148.0</td>\n",
       "      <td>0.0</td>\n",
       "      <td>161.0</td>\n",
       "      <td>Rory Kinnear</td>\n",
       "      <td>11000.0</td>\n",
       "      <td>200074175.0</td>\n",
       "      <td>Action|Adventure|Thriller</td>\n",
       "      <td>...</td>\n",
       "      <td>994.0</td>\n",
       "      <td>English</td>\n",
       "      <td>UK</td>\n",
       "      <td>PG-13</td>\n",
       "      <td>245000000.0</td>\n",
       "      <td>2015.0</td>\n",
       "      <td>393.0</td>\n",
       "      <td>6.8</td>\n",
       "      <td>2.35</td>\n",
       "      <td>85000</td>\n",
       "    </tr>\n",
       "    <tr>\n",
       "      <th>3</th>\n",
       "      <td>Color</td>\n",
       "      <td>Christopher Nolan</td>\n",
       "      <td>813.0</td>\n",
       "      <td>164.0</td>\n",
       "      <td>22000.0</td>\n",
       "      <td>23000.0</td>\n",
       "      <td>Christian Bale</td>\n",
       "      <td>27000.0</td>\n",
       "      <td>448130642.0</td>\n",
       "      <td>Action|Thriller</td>\n",
       "      <td>...</td>\n",
       "      <td>2701.0</td>\n",
       "      <td>English</td>\n",
       "      <td>USA</td>\n",
       "      <td>PG-13</td>\n",
       "      <td>250000000.0</td>\n",
       "      <td>2012.0</td>\n",
       "      <td>23000.0</td>\n",
       "      <td>8.5</td>\n",
       "      <td>2.35</td>\n",
       "      <td>164000</td>\n",
       "    </tr>\n",
       "    <tr>\n",
       "      <th>4</th>\n",
       "      <td>NaN</td>\n",
       "      <td>Doug Walker</td>\n",
       "      <td>NaN</td>\n",
       "      <td>NaN</td>\n",
       "      <td>131.0</td>\n",
       "      <td>NaN</td>\n",
       "      <td>Rob Walker</td>\n",
       "      <td>131.0</td>\n",
       "      <td>NaN</td>\n",
       "      <td>Documentary</td>\n",
       "      <td>...</td>\n",
       "      <td>NaN</td>\n",
       "      <td>NaN</td>\n",
       "      <td>NaN</td>\n",
       "      <td>NaN</td>\n",
       "      <td>NaN</td>\n",
       "      <td>NaN</td>\n",
       "      <td>12.0</td>\n",
       "      <td>7.1</td>\n",
       "      <td>NaN</td>\n",
       "      <td>0</td>\n",
       "    </tr>\n",
       "    <tr>\n",
       "      <th>...</th>\n",
       "      <td>...</td>\n",
       "      <td>...</td>\n",
       "      <td>...</td>\n",
       "      <td>...</td>\n",
       "      <td>...</td>\n",
       "      <td>...</td>\n",
       "      <td>...</td>\n",
       "      <td>...</td>\n",
       "      <td>...</td>\n",
       "      <td>...</td>\n",
       "      <td>...</td>\n",
       "      <td>...</td>\n",
       "      <td>...</td>\n",
       "      <td>...</td>\n",
       "      <td>...</td>\n",
       "      <td>...</td>\n",
       "      <td>...</td>\n",
       "      <td>...</td>\n",
       "      <td>...</td>\n",
       "      <td>...</td>\n",
       "      <td>...</td>\n",
       "    </tr>\n",
       "    <tr>\n",
       "      <th>5038</th>\n",
       "      <td>Color</td>\n",
       "      <td>Scott Smith</td>\n",
       "      <td>1.0</td>\n",
       "      <td>87.0</td>\n",
       "      <td>2.0</td>\n",
       "      <td>318.0</td>\n",
       "      <td>Daphne Zuniga</td>\n",
       "      <td>637.0</td>\n",
       "      <td>NaN</td>\n",
       "      <td>Comedy|Drama</td>\n",
       "      <td>...</td>\n",
       "      <td>6.0</td>\n",
       "      <td>English</td>\n",
       "      <td>Canada</td>\n",
       "      <td>NaN</td>\n",
       "      <td>NaN</td>\n",
       "      <td>2013.0</td>\n",
       "      <td>470.0</td>\n",
       "      <td>7.7</td>\n",
       "      <td>NaN</td>\n",
       "      <td>84</td>\n",
       "    </tr>\n",
       "    <tr>\n",
       "      <th>5039</th>\n",
       "      <td>Color</td>\n",
       "      <td>NaN</td>\n",
       "      <td>43.0</td>\n",
       "      <td>43.0</td>\n",
       "      <td>NaN</td>\n",
       "      <td>319.0</td>\n",
       "      <td>Valorie Curry</td>\n",
       "      <td>841.0</td>\n",
       "      <td>NaN</td>\n",
       "      <td>Crime|Drama|Mystery|Thriller</td>\n",
       "      <td>...</td>\n",
       "      <td>359.0</td>\n",
       "      <td>English</td>\n",
       "      <td>USA</td>\n",
       "      <td>TV-14</td>\n",
       "      <td>NaN</td>\n",
       "      <td>NaN</td>\n",
       "      <td>593.0</td>\n",
       "      <td>7.5</td>\n",
       "      <td>16.00</td>\n",
       "      <td>32000</td>\n",
       "    </tr>\n",
       "    <tr>\n",
       "      <th>5040</th>\n",
       "      <td>Color</td>\n",
       "      <td>Benjamin Roberds</td>\n",
       "      <td>13.0</td>\n",
       "      <td>76.0</td>\n",
       "      <td>0.0</td>\n",
       "      <td>0.0</td>\n",
       "      <td>Maxwell Moody</td>\n",
       "      <td>0.0</td>\n",
       "      <td>NaN</td>\n",
       "      <td>Drama|Horror|Thriller</td>\n",
       "      <td>...</td>\n",
       "      <td>3.0</td>\n",
       "      <td>English</td>\n",
       "      <td>USA</td>\n",
       "      <td>NaN</td>\n",
       "      <td>1400.0</td>\n",
       "      <td>2013.0</td>\n",
       "      <td>0.0</td>\n",
       "      <td>6.3</td>\n",
       "      <td>NaN</td>\n",
       "      <td>16</td>\n",
       "    </tr>\n",
       "    <tr>\n",
       "      <th>5041</th>\n",
       "      <td>Color</td>\n",
       "      <td>Daniel Hsia</td>\n",
       "      <td>14.0</td>\n",
       "      <td>100.0</td>\n",
       "      <td>0.0</td>\n",
       "      <td>489.0</td>\n",
       "      <td>Daniel Henney</td>\n",
       "      <td>946.0</td>\n",
       "      <td>10443.0</td>\n",
       "      <td>Comedy|Drama|Romance</td>\n",
       "      <td>...</td>\n",
       "      <td>9.0</td>\n",
       "      <td>English</td>\n",
       "      <td>USA</td>\n",
       "      <td>PG-13</td>\n",
       "      <td>NaN</td>\n",
       "      <td>2012.0</td>\n",
       "      <td>719.0</td>\n",
       "      <td>6.3</td>\n",
       "      <td>2.35</td>\n",
       "      <td>660</td>\n",
       "    </tr>\n",
       "    <tr>\n",
       "      <th>5042</th>\n",
       "      <td>Color</td>\n",
       "      <td>Jon Gunn</td>\n",
       "      <td>43.0</td>\n",
       "      <td>90.0</td>\n",
       "      <td>16.0</td>\n",
       "      <td>16.0</td>\n",
       "      <td>Brian Herzlinger</td>\n",
       "      <td>86.0</td>\n",
       "      <td>85222.0</td>\n",
       "      <td>Documentary</td>\n",
       "      <td>...</td>\n",
       "      <td>84.0</td>\n",
       "      <td>English</td>\n",
       "      <td>USA</td>\n",
       "      <td>PG</td>\n",
       "      <td>1100.0</td>\n",
       "      <td>2004.0</td>\n",
       "      <td>23.0</td>\n",
       "      <td>6.6</td>\n",
       "      <td>1.85</td>\n",
       "      <td>456</td>\n",
       "    </tr>\n",
       "  </tbody>\n",
       "</table>\n",
       "<p>5043 rows × 28 columns</p>\n",
       "</div>"
      ],
      "text/plain": [
       "      color      director_name  num_critic_for_reviews  duration  \\\n",
       "0     Color      James Cameron                   723.0     178.0   \n",
       "1     Color     Gore Verbinski                   302.0     169.0   \n",
       "2     Color         Sam Mendes                   602.0     148.0   \n",
       "3     Color  Christopher Nolan                   813.0     164.0   \n",
       "4       NaN        Doug Walker                     NaN       NaN   \n",
       "...     ...                ...                     ...       ...   \n",
       "5038  Color        Scott Smith                     1.0      87.0   \n",
       "5039  Color                NaN                    43.0      43.0   \n",
       "5040  Color   Benjamin Roberds                    13.0      76.0   \n",
       "5041  Color        Daniel Hsia                    14.0     100.0   \n",
       "5042  Color           Jon Gunn                    43.0      90.0   \n",
       "\n",
       "      director_facebook_likes  actor_3_facebook_likes      actor_2_name  \\\n",
       "0                         0.0                   855.0  Joel David Moore   \n",
       "1                       563.0                  1000.0     Orlando Bloom   \n",
       "2                         0.0                   161.0      Rory Kinnear   \n",
       "3                     22000.0                 23000.0    Christian Bale   \n",
       "4                       131.0                     NaN        Rob Walker   \n",
       "...                       ...                     ...               ...   \n",
       "5038                      2.0                   318.0     Daphne Zuniga   \n",
       "5039                      NaN                   319.0     Valorie Curry   \n",
       "5040                      0.0                     0.0     Maxwell Moody   \n",
       "5041                      0.0                   489.0     Daniel Henney   \n",
       "5042                     16.0                    16.0  Brian Herzlinger   \n",
       "\n",
       "      actor_1_facebook_likes        gross                           genres  \\\n",
       "0                     1000.0  760505847.0  Action|Adventure|Fantasy|Sci-Fi   \n",
       "1                    40000.0  309404152.0         Action|Adventure|Fantasy   \n",
       "2                    11000.0  200074175.0        Action|Adventure|Thriller   \n",
       "3                    27000.0  448130642.0                  Action|Thriller   \n",
       "4                      131.0          NaN                      Documentary   \n",
       "...                      ...          ...                              ...   \n",
       "5038                   637.0          NaN                     Comedy|Drama   \n",
       "5039                   841.0          NaN     Crime|Drama|Mystery|Thriller   \n",
       "5040                     0.0          NaN            Drama|Horror|Thriller   \n",
       "5041                   946.0      10443.0             Comedy|Drama|Romance   \n",
       "5042                    86.0      85222.0                      Documentary   \n",
       "\n",
       "      ... num_user_for_reviews language  country  content_rating       budget  \\\n",
       "0     ...               3054.0  English      USA           PG-13  237000000.0   \n",
       "1     ...               1238.0  English      USA           PG-13  300000000.0   \n",
       "2     ...                994.0  English       UK           PG-13  245000000.0   \n",
       "3     ...               2701.0  English      USA           PG-13  250000000.0   \n",
       "4     ...                  NaN      NaN      NaN             NaN          NaN   \n",
       "...   ...                  ...      ...      ...             ...          ...   \n",
       "5038  ...                  6.0  English   Canada             NaN          NaN   \n",
       "5039  ...                359.0  English      USA           TV-14          NaN   \n",
       "5040  ...                  3.0  English      USA             NaN       1400.0   \n",
       "5041  ...                  9.0  English      USA           PG-13          NaN   \n",
       "5042  ...                 84.0  English      USA              PG       1100.0   \n",
       "\n",
       "      title_year actor_2_facebook_likes imdb_score  aspect_ratio  \\\n",
       "0         2009.0                  936.0        7.9          1.78   \n",
       "1         2007.0                 5000.0        7.1          2.35   \n",
       "2         2015.0                  393.0        6.8          2.35   \n",
       "3         2012.0                23000.0        8.5          2.35   \n",
       "4            NaN                   12.0        7.1           NaN   \n",
       "...          ...                    ...        ...           ...   \n",
       "5038      2013.0                  470.0        7.7           NaN   \n",
       "5039         NaN                  593.0        7.5         16.00   \n",
       "5040      2013.0                    0.0        6.3           NaN   \n",
       "5041      2012.0                  719.0        6.3          2.35   \n",
       "5042      2004.0                   23.0        6.6          1.85   \n",
       "\n",
       "     movie_facebook_likes  \n",
       "0                   33000  \n",
       "1                       0  \n",
       "2                   85000  \n",
       "3                  164000  \n",
       "4                       0  \n",
       "...                   ...  \n",
       "5038                   84  \n",
       "5039                32000  \n",
       "5040                   16  \n",
       "5041                  660  \n",
       "5042                  456  \n",
       "\n",
       "[5043 rows x 28 columns]"
      ]
     },
     "execution_count": 44,
     "metadata": {},
     "output_type": "execute_result"
    }
   ],
   "source": [
    "# Test de funcionamiento\n",
    "\n",
    "tabla_completa = load_dataframe(MOVIES_DATA)\n",
    "\n",
    "tabla_completa"
   ]
  },
  {
   "cell_type": "markdown",
   "metadata": {},
   "source": [
    "### E.2. Tabla de los campos principales\n",
    "\n",
    "A pertir de la tabla anterior, construimos otra con sólo algumos de los campos:"
   ]
  },
  {
   "cell_type": "code",
   "execution_count": 45,
   "metadata": {
    "scrolled": true
   },
   "outputs": [],
   "source": [
    "# Esta celda debe ser completada por el estudiante\n",
    "\n"
   ]
  },
  {
   "cell_type": "code",
   "execution_count": 46,
   "metadata": {
    "scrolled": true
   },
   "outputs": [
    {
     "data": {
      "text/html": [
       "<div>\n",
       "<style scoped>\n",
       "    .dataframe tbody tr th:only-of-type {\n",
       "        vertical-align: middle;\n",
       "    }\n",
       "\n",
       "    .dataframe tbody tr th {\n",
       "        vertical-align: top;\n",
       "    }\n",
       "\n",
       "    .dataframe thead th {\n",
       "        text-align: right;\n",
       "    }\n",
       "</style>\n",
       "<table border=\"1\" class=\"dataframe\">\n",
       "  <thead>\n",
       "    <tr style=\"text-align: right;\">\n",
       "      <th></th>\n",
       "      <th>movie_title</th>\n",
       "      <th>color</th>\n",
       "      <th>director_name</th>\n",
       "      <th>language</th>\n",
       "      <th>country</th>\n",
       "      <th>actor_1_name</th>\n",
       "      <th>movie_imdb_link</th>\n",
       "    </tr>\n",
       "  </thead>\n",
       "  <tbody>\n",
       "    <tr>\n",
       "      <th>0</th>\n",
       "      <td>Avatar</td>\n",
       "      <td>Color</td>\n",
       "      <td>James Cameron</td>\n",
       "      <td>English</td>\n",
       "      <td>USA</td>\n",
       "      <td>CCH Pounder</td>\n",
       "      <td>http://www.imdb.com/title/tt0499549/?ref_=fn_t...</td>\n",
       "    </tr>\n",
       "    <tr>\n",
       "      <th>1</th>\n",
       "      <td>Pirates of the Caribbean: At World's End</td>\n",
       "      <td>Color</td>\n",
       "      <td>Gore Verbinski</td>\n",
       "      <td>English</td>\n",
       "      <td>USA</td>\n",
       "      <td>Johnny Depp</td>\n",
       "      <td>http://www.imdb.com/title/tt0449088/?ref_=fn_t...</td>\n",
       "    </tr>\n",
       "    <tr>\n",
       "      <th>2</th>\n",
       "      <td>Spectre</td>\n",
       "      <td>Color</td>\n",
       "      <td>Sam Mendes</td>\n",
       "      <td>English</td>\n",
       "      <td>UK</td>\n",
       "      <td>Christoph Waltz</td>\n",
       "      <td>http://www.imdb.com/title/tt2379713/?ref_=fn_t...</td>\n",
       "    </tr>\n",
       "    <tr>\n",
       "      <th>3</th>\n",
       "      <td>The Dark Knight Rises</td>\n",
       "      <td>Color</td>\n",
       "      <td>Christopher Nolan</td>\n",
       "      <td>English</td>\n",
       "      <td>USA</td>\n",
       "      <td>Tom Hardy</td>\n",
       "      <td>http://www.imdb.com/title/tt1345836/?ref_=fn_t...</td>\n",
       "    </tr>\n",
       "    <tr>\n",
       "      <th>4</th>\n",
       "      <td>Star Wars: Episode VII - The Force Awakens    ...</td>\n",
       "      <td>NaN</td>\n",
       "      <td>Doug Walker</td>\n",
       "      <td>NaN</td>\n",
       "      <td>NaN</td>\n",
       "      <td>Doug Walker</td>\n",
       "      <td>http://www.imdb.com/title/tt5289954/?ref_=fn_t...</td>\n",
       "    </tr>\n",
       "    <tr>\n",
       "      <th>...</th>\n",
       "      <td>...</td>\n",
       "      <td>...</td>\n",
       "      <td>...</td>\n",
       "      <td>...</td>\n",
       "      <td>...</td>\n",
       "      <td>...</td>\n",
       "      <td>...</td>\n",
       "    </tr>\n",
       "    <tr>\n",
       "      <th>5038</th>\n",
       "      <td>Signed Sealed Delivered</td>\n",
       "      <td>Color</td>\n",
       "      <td>Scott Smith</td>\n",
       "      <td>English</td>\n",
       "      <td>Canada</td>\n",
       "      <td>Eric Mabius</td>\n",
       "      <td>http://www.imdb.com/title/tt3000844/?ref_=fn_t...</td>\n",
       "    </tr>\n",
       "    <tr>\n",
       "      <th>5039</th>\n",
       "      <td>The Following</td>\n",
       "      <td>Color</td>\n",
       "      <td>NaN</td>\n",
       "      <td>English</td>\n",
       "      <td>USA</td>\n",
       "      <td>Natalie Zea</td>\n",
       "      <td>http://www.imdb.com/title/tt2071645/?ref_=fn_t...</td>\n",
       "    </tr>\n",
       "    <tr>\n",
       "      <th>5040</th>\n",
       "      <td>A Plague So Pleasant</td>\n",
       "      <td>Color</td>\n",
       "      <td>Benjamin Roberds</td>\n",
       "      <td>English</td>\n",
       "      <td>USA</td>\n",
       "      <td>Eva Boehnke</td>\n",
       "      <td>http://www.imdb.com/title/tt2107644/?ref_=fn_t...</td>\n",
       "    </tr>\n",
       "    <tr>\n",
       "      <th>5041</th>\n",
       "      <td>Shanghai Calling</td>\n",
       "      <td>Color</td>\n",
       "      <td>Daniel Hsia</td>\n",
       "      <td>English</td>\n",
       "      <td>USA</td>\n",
       "      <td>Alan Ruck</td>\n",
       "      <td>http://www.imdb.com/title/tt2070597/?ref_=fn_t...</td>\n",
       "    </tr>\n",
       "    <tr>\n",
       "      <th>5042</th>\n",
       "      <td>My Date with Drew</td>\n",
       "      <td>Color</td>\n",
       "      <td>Jon Gunn</td>\n",
       "      <td>English</td>\n",
       "      <td>USA</td>\n",
       "      <td>John August</td>\n",
       "      <td>http://www.imdb.com/title/tt0378407/?ref_=fn_t...</td>\n",
       "    </tr>\n",
       "  </tbody>\n",
       "</table>\n",
       "<p>5043 rows × 7 columns</p>\n",
       "</div>"
      ],
      "text/plain": [
       "                                            movie_title  color  \\\n",
       "0                                               Avatar   Color   \n",
       "1             Pirates of the Caribbean: At World's End   Color   \n",
       "2                                              Spectre   Color   \n",
       "3                                The Dark Knight Rises   Color   \n",
       "4     Star Wars: Episode VII - The Force Awakens    ...    NaN   \n",
       "...                                                 ...    ...   \n",
       "5038                           Signed Sealed Delivered   Color   \n",
       "5039                         The Following               Color   \n",
       "5040                              A Plague So Pleasant   Color   \n",
       "5041                                  Shanghai Calling   Color   \n",
       "5042                                 My Date with Drew   Color   \n",
       "\n",
       "          director_name language country     actor_1_name  \\\n",
       "0         James Cameron  English     USA      CCH Pounder   \n",
       "1        Gore Verbinski  English     USA      Johnny Depp   \n",
       "2            Sam Mendes  English      UK  Christoph Waltz   \n",
       "3     Christopher Nolan  English     USA        Tom Hardy   \n",
       "4           Doug Walker      NaN     NaN      Doug Walker   \n",
       "...                 ...      ...     ...              ...   \n",
       "5038        Scott Smith  English  Canada      Eric Mabius   \n",
       "5039                NaN  English     USA      Natalie Zea   \n",
       "5040   Benjamin Roberds  English     USA      Eva Boehnke   \n",
       "5041        Daniel Hsia  English     USA        Alan Ruck   \n",
       "5042           Jon Gunn  English     USA      John August   \n",
       "\n",
       "                                        movie_imdb_link  \n",
       "0     http://www.imdb.com/title/tt0499549/?ref_=fn_t...  \n",
       "1     http://www.imdb.com/title/tt0449088/?ref_=fn_t...  \n",
       "2     http://www.imdb.com/title/tt2379713/?ref_=fn_t...  \n",
       "3     http://www.imdb.com/title/tt1345836/?ref_=fn_t...  \n",
       "4     http://www.imdb.com/title/tt5289954/?ref_=fn_t...  \n",
       "...                                                 ...  \n",
       "5038  http://www.imdb.com/title/tt3000844/?ref_=fn_t...  \n",
       "5039  http://www.imdb.com/title/tt2071645/?ref_=fn_t...  \n",
       "5040  http://www.imdb.com/title/tt2107644/?ref_=fn_t...  \n",
       "5041  http://www.imdb.com/title/tt2070597/?ref_=fn_t...  \n",
       "5042  http://www.imdb.com/title/tt0378407/?ref_=fn_t...  \n",
       "\n",
       "[5043 rows x 7 columns]"
      ]
     },
     "execution_count": 46,
     "metadata": {},
     "output_type": "execute_result"
    }
   ],
   "source": [
    "# test de comprobación\n",
    "\n",
    "tabla_breve = fields_selected_dataframe(tabla_completa)\n",
    "\n",
    "tabla_breve"
   ]
  },
  {
   "cell_type": "markdown",
   "metadata": {},
   "source": [
    "### E.3. Columnas de una tabla\n",
    "\n",
    "¿Cuáles son las columnas de nuestrsa `tabla_breve`?"
   ]
  },
  {
   "cell_type": "code",
   "execution_count": 47,
   "metadata": {},
   "outputs": [
    {
     "data": {
      "text/plain": [
       "Index(['movie_title', 'color', 'director_name', 'language', 'country',\n",
       "       'actor_1_name', 'movie_imdb_link'],\n",
       "      dtype='object')"
      ]
     },
     "execution_count": 47,
     "metadata": {},
     "output_type": "execute_result"
    }
   ],
   "source": [
    "# Esta celda debe ser completada por el estudiante\n",
    "\n"
   ]
  },
  {
   "cell_type": "markdown",
   "metadata": {},
   "source": [
    "### E.4. Campos missing\n",
    "\n",
    "Algunos campos muestran un valod `NaN`. Deseamos cambiarlo por una cadena de caracteres: `\"Desc\"`."
   ]
  },
  {
   "cell_type": "code",
   "execution_count": 48,
   "metadata": {
    "scrolled": true
   },
   "outputs": [],
   "source": [
    "# Esta celda debe ser completada por el estudiante\n",
    "\n"
   ]
  },
  {
   "cell_type": "code",
   "execution_count": 49,
   "metadata": {
    "scrolled": true
   },
   "outputs": [
    {
     "data": {
      "text/html": [
       "<div>\n",
       "<style scoped>\n",
       "    .dataframe tbody tr th:only-of-type {\n",
       "        vertical-align: middle;\n",
       "    }\n",
       "\n",
       "    .dataframe tbody tr th {\n",
       "        vertical-align: top;\n",
       "    }\n",
       "\n",
       "    .dataframe thead th {\n",
       "        text-align: right;\n",
       "    }\n",
       "</style>\n",
       "<table border=\"1\" class=\"dataframe\">\n",
       "  <thead>\n",
       "    <tr style=\"text-align: right;\">\n",
       "      <th></th>\n",
       "      <th>movie_title</th>\n",
       "      <th>color</th>\n",
       "      <th>director_name</th>\n",
       "      <th>language</th>\n",
       "      <th>country</th>\n",
       "      <th>actor_1_name</th>\n",
       "      <th>movie_imdb_link</th>\n",
       "    </tr>\n",
       "  </thead>\n",
       "  <tbody>\n",
       "    <tr>\n",
       "      <th>0</th>\n",
       "      <td>Avatar</td>\n",
       "      <td>Color</td>\n",
       "      <td>James Cameron</td>\n",
       "      <td>English</td>\n",
       "      <td>USA</td>\n",
       "      <td>CCH Pounder</td>\n",
       "      <td>http://www.imdb.com/title/tt0499549/?ref_=fn_t...</td>\n",
       "    </tr>\n",
       "    <tr>\n",
       "      <th>1</th>\n",
       "      <td>Pirates of the Caribbean: At World's End</td>\n",
       "      <td>Color</td>\n",
       "      <td>Gore Verbinski</td>\n",
       "      <td>English</td>\n",
       "      <td>USA</td>\n",
       "      <td>Johnny Depp</td>\n",
       "      <td>http://www.imdb.com/title/tt0449088/?ref_=fn_t...</td>\n",
       "    </tr>\n",
       "    <tr>\n",
       "      <th>2</th>\n",
       "      <td>Spectre</td>\n",
       "      <td>Color</td>\n",
       "      <td>Sam Mendes</td>\n",
       "      <td>English</td>\n",
       "      <td>UK</td>\n",
       "      <td>Christoph Waltz</td>\n",
       "      <td>http://www.imdb.com/title/tt2379713/?ref_=fn_t...</td>\n",
       "    </tr>\n",
       "    <tr>\n",
       "      <th>3</th>\n",
       "      <td>The Dark Knight Rises</td>\n",
       "      <td>Color</td>\n",
       "      <td>Christopher Nolan</td>\n",
       "      <td>English</td>\n",
       "      <td>USA</td>\n",
       "      <td>Tom Hardy</td>\n",
       "      <td>http://www.imdb.com/title/tt1345836/?ref_=fn_t...</td>\n",
       "    </tr>\n",
       "    <tr>\n",
       "      <th>4</th>\n",
       "      <td>Star Wars: Episode VII - The Force Awakens    ...</td>\n",
       "      <td>Desc</td>\n",
       "      <td>Doug Walker</td>\n",
       "      <td>Desc</td>\n",
       "      <td>Desc</td>\n",
       "      <td>Doug Walker</td>\n",
       "      <td>http://www.imdb.com/title/tt5289954/?ref_=fn_t...</td>\n",
       "    </tr>\n",
       "    <tr>\n",
       "      <th>...</th>\n",
       "      <td>...</td>\n",
       "      <td>...</td>\n",
       "      <td>...</td>\n",
       "      <td>...</td>\n",
       "      <td>...</td>\n",
       "      <td>...</td>\n",
       "      <td>...</td>\n",
       "    </tr>\n",
       "    <tr>\n",
       "      <th>5038</th>\n",
       "      <td>Signed Sealed Delivered</td>\n",
       "      <td>Color</td>\n",
       "      <td>Scott Smith</td>\n",
       "      <td>English</td>\n",
       "      <td>Canada</td>\n",
       "      <td>Eric Mabius</td>\n",
       "      <td>http://www.imdb.com/title/tt3000844/?ref_=fn_t...</td>\n",
       "    </tr>\n",
       "    <tr>\n",
       "      <th>5039</th>\n",
       "      <td>The Following</td>\n",
       "      <td>Color</td>\n",
       "      <td>Desc</td>\n",
       "      <td>English</td>\n",
       "      <td>USA</td>\n",
       "      <td>Natalie Zea</td>\n",
       "      <td>http://www.imdb.com/title/tt2071645/?ref_=fn_t...</td>\n",
       "    </tr>\n",
       "    <tr>\n",
       "      <th>5040</th>\n",
       "      <td>A Plague So Pleasant</td>\n",
       "      <td>Color</td>\n",
       "      <td>Benjamin Roberds</td>\n",
       "      <td>English</td>\n",
       "      <td>USA</td>\n",
       "      <td>Eva Boehnke</td>\n",
       "      <td>http://www.imdb.com/title/tt2107644/?ref_=fn_t...</td>\n",
       "    </tr>\n",
       "    <tr>\n",
       "      <th>5041</th>\n",
       "      <td>Shanghai Calling</td>\n",
       "      <td>Color</td>\n",
       "      <td>Daniel Hsia</td>\n",
       "      <td>English</td>\n",
       "      <td>USA</td>\n",
       "      <td>Alan Ruck</td>\n",
       "      <td>http://www.imdb.com/title/tt2070597/?ref_=fn_t...</td>\n",
       "    </tr>\n",
       "    <tr>\n",
       "      <th>5042</th>\n",
       "      <td>My Date with Drew</td>\n",
       "      <td>Color</td>\n",
       "      <td>Jon Gunn</td>\n",
       "      <td>English</td>\n",
       "      <td>USA</td>\n",
       "      <td>John August</td>\n",
       "      <td>http://www.imdb.com/title/tt0378407/?ref_=fn_t...</td>\n",
       "    </tr>\n",
       "  </tbody>\n",
       "</table>\n",
       "<p>5043 rows × 7 columns</p>\n",
       "</div>"
      ],
      "text/plain": [
       "                                            movie_title  color  \\\n",
       "0                                               Avatar   Color   \n",
       "1             Pirates of the Caribbean: At World's End   Color   \n",
       "2                                              Spectre   Color   \n",
       "3                                The Dark Knight Rises   Color   \n",
       "4     Star Wars: Episode VII - The Force Awakens    ...   Desc   \n",
       "...                                                 ...    ...   \n",
       "5038                           Signed Sealed Delivered   Color   \n",
       "5039                         The Following               Color   \n",
       "5040                              A Plague So Pleasant   Color   \n",
       "5041                                  Shanghai Calling   Color   \n",
       "5042                                 My Date with Drew   Color   \n",
       "\n",
       "          director_name language country     actor_1_name  \\\n",
       "0         James Cameron  English     USA      CCH Pounder   \n",
       "1        Gore Verbinski  English     USA      Johnny Depp   \n",
       "2            Sam Mendes  English      UK  Christoph Waltz   \n",
       "3     Christopher Nolan  English     USA        Tom Hardy   \n",
       "4           Doug Walker     Desc    Desc      Doug Walker   \n",
       "...                 ...      ...     ...              ...   \n",
       "5038        Scott Smith  English  Canada      Eric Mabius   \n",
       "5039               Desc  English     USA      Natalie Zea   \n",
       "5040   Benjamin Roberds  English     USA      Eva Boehnke   \n",
       "5041        Daniel Hsia  English     USA        Alan Ruck   \n",
       "5042           Jon Gunn  English     USA      John August   \n",
       "\n",
       "                                        movie_imdb_link  \n",
       "0     http://www.imdb.com/title/tt0499549/?ref_=fn_t...  \n",
       "1     http://www.imdb.com/title/tt0449088/?ref_=fn_t...  \n",
       "2     http://www.imdb.com/title/tt2379713/?ref_=fn_t...  \n",
       "3     http://www.imdb.com/title/tt1345836/?ref_=fn_t...  \n",
       "4     http://www.imdb.com/title/tt5289954/?ref_=fn_t...  \n",
       "...                                                 ...  \n",
       "5038  http://www.imdb.com/title/tt3000844/?ref_=fn_t...  \n",
       "5039  http://www.imdb.com/title/tt2071645/?ref_=fn_t...  \n",
       "5040  http://www.imdb.com/title/tt2107644/?ref_=fn_t...  \n",
       "5041  http://www.imdb.com/title/tt2070597/?ref_=fn_t...  \n",
       "5042  http://www.imdb.com/title/tt0378407/?ref_=fn_t...  \n",
       "\n",
       "[5043 rows x 7 columns]"
      ]
     },
     "execution_count": 49,
     "metadata": {},
     "output_type": "execute_result"
    }
   ],
   "source": [
    "# Test de comprobación\n",
    "\n",
    "tabla_breve"
   ]
  },
  {
   "cell_type": "markdown",
   "metadata": {},
   "source": [
    "### E.5. Director $\\rightarrow$ películas y número de películas"
   ]
  },
  {
   "cell_type": "markdown",
   "metadata": {},
   "source": [
    "Función que averigua la lista de títulos de películas de un director dado:"
   ]
  },
  {
   "cell_type": "code",
   "execution_count": 50,
   "metadata": {},
   "outputs": [],
   "source": [
    "# Esta celda debe ser completada por el estudiante\n",
    "\n"
   ]
  },
  {
   "cell_type": "code",
   "execution_count": 51,
   "metadata": {},
   "outputs": [
    {
     "data": {
      "text/html": [
       "<div>\n",
       "<style scoped>\n",
       "    .dataframe tbody tr th:only-of-type {\n",
       "        vertical-align: middle;\n",
       "    }\n",
       "\n",
       "    .dataframe tbody tr th {\n",
       "        vertical-align: top;\n",
       "    }\n",
       "\n",
       "    .dataframe thead th {\n",
       "        text-align: right;\n",
       "    }\n",
       "</style>\n",
       "<table border=\"1\" class=\"dataframe\">\n",
       "  <thead>\n",
       "    <tr style=\"text-align: right;\">\n",
       "      <th></th>\n",
       "      <th>movie_title</th>\n",
       "    </tr>\n",
       "  </thead>\n",
       "  <tbody>\n",
       "    <tr>\n",
       "      <th>0</th>\n",
       "      <td>Avatar</td>\n",
       "    </tr>\n",
       "    <tr>\n",
       "      <th>26</th>\n",
       "      <td>Titanic</td>\n",
       "    </tr>\n",
       "    <tr>\n",
       "      <th>288</th>\n",
       "      <td>Terminator 2: Judgment Day</td>\n",
       "    </tr>\n",
       "    <tr>\n",
       "      <th>291</th>\n",
       "      <td>True Lies</td>\n",
       "    </tr>\n",
       "    <tr>\n",
       "      <th>606</th>\n",
       "      <td>The Abyss</td>\n",
       "    </tr>\n",
       "    <tr>\n",
       "      <th>2486</th>\n",
       "      <td>Aliens</td>\n",
       "    </tr>\n",
       "    <tr>\n",
       "      <th>3575</th>\n",
       "      <td>The Terminator</td>\n",
       "    </tr>\n",
       "  </tbody>\n",
       "</table>\n",
       "</div>"
      ],
      "text/plain": [
       "                      movie_title\n",
       "0                         Avatar \n",
       "26                       Titanic \n",
       "288   Terminator 2: Judgment Day \n",
       "291                    True Lies \n",
       "606                    The Abyss \n",
       "2486                      Aliens \n",
       "3575              The Terminator "
      ]
     },
     "execution_count": 51,
     "metadata": {},
     "output_type": "execute_result"
    }
   ],
   "source": [
    "# Test de comprobación:\n",
    "\n",
    "tabla_tits = titulos_de_director_df(tabla_breve, \"James Cameron\")\n",
    "tabla_tits"
   ]
  },
  {
   "cell_type": "code",
   "execution_count": 52,
   "metadata": {},
   "outputs": [
    {
     "name": "stdout",
     "output_type": "stream",
     "text": [
      "['Avatar\\xa0', 'Titanic\\xa0', 'Terminator 2: Judgment Day\\xa0', 'True Lies\\xa0', 'The Abyss\\xa0', 'Aliens\\xa0', 'The Terminator\\xa0']\n"
     ]
    }
   ],
   "source": [
    "list_tits = tabla_tits[\"movie_title\"].to_list()\n",
    "print(list_tits)"
   ]
  },
  {
   "cell_type": "markdown",
   "metadata": {},
   "source": [
    "Deseamos saber qué directores han dirigido el máximo número de películas, junto con ese número de películas."
   ]
  },
  {
   "cell_type": "code",
   "execution_count": 53,
   "metadata": {},
   "outputs": [],
   "source": [
    "# Esta celda debe ser completada por el estudiante\n",
    "\n"
   ]
  },
  {
   "cell_type": "code",
   "execution_count": 54,
   "metadata": {},
   "outputs": [
    {
     "data": {
      "text/plain": [
       "(['Steven Spielberg'], 26)"
      ]
     },
     "execution_count": 54,
     "metadata": {},
     "output_type": "execute_result"
    }
   ],
   "source": [
    "# test de comprobación:\n",
    "\n",
    "directors_max_movies_df(tabla_breve)"
   ]
  },
  {
   "cell_type": "markdown",
   "metadata": {
    "collapsed": true
   },
   "source": [
    "# Parte F. Un cálculo masivo con map-reduce [0,5 puntos]\n",
    "\n",
    "En este apartado se ha de realizar un programa aparte, *basado en la técnica de map-reduce*, que calcule, para cada idioma, en qué países en que se han producido películas y la suma de los presupuestos de dichas películas. Cuando el idioma o el país o el presupuesto no se conozcan, no se considerará esta película.\n",
    "\n",
    "    C:\\...> python language_budget_countries.py -q algunos_campos.txt\n",
    "\n",
    "El programa funcionará necesariamente con la técnica map-reduce, que podemos poner en juego con la librería `mrjob`.\n",
    "\n",
    "El funcionamiento del mismo se puede activar también desde aquí:"
   ]
  },
  {
   "cell_type": "code",
   "execution_count": 55,
   "metadata": {
    "scrolled": true
   },
   "outputs": [
    {
     "name": "stdout",
     "output_type": "stream",
     "text": [
      "\"Aboriginal\"\t[[\"UK\",\"Australia\"],86000000]\n",
      "\"Arabic\"\t[[\"Turkey\",\"Egypt\",\"France\",\"United Arab Emirates\"],11225000]\n",
      "\"Aramaic\"\t[[\"USA\"],30000000]\n",
      "\"Bosnian\"\t[[\"USA\"],13000000]\n",
      "\"Cantonese\"\t[[\"Hong Kong\",\"China\"],154500000]\n",
      "\"Chinese\"\t[[\"China\"],12000000]\n",
      "\"Czech\"\t[[\"Czech Republic\"],84450000]\n",
      "\"Danish\"\t[[\"Denmark\"],50100000]\n",
      "\"Dari\"\t[[\"USA\",\"Afghanistan\"],20046000]\n",
      "\"Dutch\"\t[[\"Netherlands\"],32150000]\n",
      "\"Dzongkha\"\t[[\"Australia\"],1800000]\n",
      "\"English\"\t[[\"USA\",\"UK\",\"New Zealand\",\"Canada\",\"Australia\",\"Germany\",\"China\",\"New Line\",\"France\",\"Japan\",\"Spain\",\"Hong Kong\",\"Czech Republic\",\"South Korea\",\"Peru\",\"Italy\",\"Aruba\",\"Denmark\",\"Libya\",\"Belgium\",\"Ireland\",\"South Africa\",\"Switzerland\",\"Romania\",\"West Germany\",\"Chile\",\"Hungary\",\"Russia\",\"Mexico\",\"Panama\",\"Greece\",\"Netherlands\",\"Norway\",\"Official site\",\"Bulgaria\",\"Iran\",\"Georgia\",\"India\",\"Thailand\",\"Nigeria\",\"Bahamas\",\"Iceland\",\"Brazil\",\"Poland\",\"Kyrgyzstan\",\"Philippines\"],141954875246]\n",
      "\"Filipino\"\t[[\"USA\"],80000000]\n",
      "\"French\"\t[[\"France\",\"Canada\",\"Finland\",\"UK\"],1039754500]\n",
      "\"German\"\t[[\"Germany\",\"West Germany\",\"Switzerland\",\"Mexico\"],119400000]\n",
      "\"Hebrew\"\t[[\"Israel\"],3450000]\n",
      "\"Hindi\"\t[[\"India\",\"USA\"],1027667600]\n",
      "\"Hungarian\"\t[[\"Hungary\"],2500000000]\n",
      "\"Icelandic\"\t[[\"Iceland\"],10000000]\n",
      "\"Indonesian\"\t[[\"Indonesia\",\"UK\"],2100000]\n",
      "\"Italian\"\t[[\"UK\",\"Italy\"],54750000]\n",
      "\"Japanese\"\t[[\"Japan\",\"USA\"],6801919898]\n",
      "\"Kazakh\"\t[[\"France\"],25000000]\n",
      "\"Korean\"\t[[\"South Korea\"],16449300000]\n",
      "\"Mandarin\"\t[[\"China\",\"Hong Kong\",\"Taiwan\"],1199632000]\n",
      "\"Maya\"\t[[\"USA\"],40000000]\n",
      "\"Mongolian\"\t[[\"Russia\"],20000000]\n",
      "\"None\"\t[[\"Canada\",\"USA\"],16500000]\n",
      "\"Norwegian\"\t[[\"Norway\"],66500000]\n",
      "\"Panjabi\"\t[[\"Canada\"],3000000]\n",
      "\"Persian\"\t[[\"Iran\"],690000]\n",
      "\"Portuguese\"\t[[\"Brazil\"],26200000]\n",
      "\"Romanian\"\t[[\"Romania\"],758000]\n",
      "\"Russian\"\t[[\"Soviet Union\",\"Russia\"],133700000]\n",
      "\"Slovenian\"\t[[\"Slovenia\"],500000]\n",
      "\"Spanish\"\t[[\"USA\",\"Mexico\",\"Spain\",\"Italy\",\"Argentina\",\"Colombia\",\"Dominican Republic\"],951325775]\n",
      "\"Swahili\"\t[[\"Kenya\"],15000]\n",
      "\"Swedish\"\t[[\"Sweden\"],50400000]\n",
      "\"Tamil\"\t[[\"India\"],150000000]\n",
      "\"Telugu\"\t[[\"India\"],18026148]\n",
      "\"Thai\"\t[[\"Thailand\"],900000000]\n",
      "\"Urdu\"\t[[\"Pakistan\"],1000000]\n",
      "\"Vietnamese\"\t[[\"USA\"],1592000]\n",
      "\"Zulu\"\t[[\"UK\",\"South Africa\"],13000000]\n"
     ]
    }
   ],
   "source": [
    "# Hagamos una llamada al programa de consola desde aquí:\n",
    "\n",
    "! python language_budget_countries.py -q algunos_campos.txt"
   ]
  },
  {
   "cell_type": "code",
   "execution_count": 56,
   "metadata": {
    "scrolled": false
   },
   "outputs": [],
   "source": [
    "# Para que el resultado se almacene en un archivo:\n",
    "\n",
    "! python language_budget_countries.py -q algunos_campos.txt > language_countries_budgets.txt"
   ]
  },
  {
   "cell_type": "markdown",
   "metadata": {
    "collapsed": true
   },
   "source": [
    "La siguiente celda me permite ver tu programa cómodamente desde aquí."
   ]
  },
  {
   "cell_type": "code",
   "execution_count": 57,
   "metadata": {
    "scrolled": true
   },
   "outputs": [],
   "source": [
    "def print_file(filename):\n",
    "    with open(filename, \"r\") as f:\n",
    "        for line in f:\n",
    "            print(line, end=\"\")\n",
    "            \n",
    "print_file(\"language_budget_countries.py\")"
   ]
  },
  {
   "cell_type": "markdown",
   "metadata": {
    "collapsed": true
   },
   "source": [
    "# Parte G. Un apartado libre [0.5 puntos]\n",
    "\n",
    "<br>\n",
    "\n",
    "<font color=\"green\">\n",
    "Dejo este apartado a tu voluntad. Inventa tú mismo el enunciado y resuélvelo.\n",
    "El enunciado deberá estar\n",
    "<b>relacionado con el análisis de datos y con el tema de este proyecto</b>.\n",
    "También, la idea es mostrar algún aspecto de programación en Python no contemplado o alguna técnica o librería que no has puesto en juego en los apartados anteriores. Concretamente, se valorará el uso de <b>la librería pandas</b>,\n",
    "que hemos estudiado de un modo bastante sucinto en este módulo y tratado de forma insuficiente en este proyecto de programación,\n",
    "o quizá puedes también usar alguna otra librería gráfica,\n",
    "distinta de matplotlib.\n",
    "    \n",
    "En la evaluación, si este apartado está bien o muy bien, anota un 0,3 o 0,4. El 0,5 lo reservaremos para las situaciones en que se presente algo brillante, con alguna idea original o alguna técnica novedosa o complejidad especial o algún gráfico vistoso. Especialmente quien opta a un 9,5 o más, debe esmerarse en plantear este apartado a la altura de esa calificación.\n",
    "</font>\n",
    "\n",
    "<br>\n",
    "\n",
    "<font color=\"darkblue\">\n",
    "Tras eliminar el párrafo anterior, en verde, sustituye éste por tu enunciado, cuya fuente aparecerá en azul oscuro.\n",
    "</font>"
   ]
  },
  {
   "cell_type": "code",
   "execution_count": 58,
   "metadata": {},
   "outputs": [],
   "source": [
    "# Este apartado debe ser completado por el estudiante\n",
    "\n"
   ]
  },
  {
   "cell_type": "code",
   "execution_count": 59,
   "metadata": {},
   "outputs": [],
   "source": [
    "# Pruebas de funcionamiento, también tarea del estudiante:\n",
    "\n"
   ]
  },
  {
   "cell_type": "markdown",
   "metadata": {
    "collapsed": true
   },
   "source": [
    "# Datos personales\n",
    "\n",
    "<br>\n",
    "\n",
    "<font color=\"darkblue\">\n",
    "\n",
    "-   **Apellidos:** ......................................\n",
    "-   **Nombre:** ......................................\n",
    "-   **Email:** ......................................\n",
    "-   **Fecha:** ......................................\n",
    "\n",
    "<br>\n",
    "\n",
    "<font color=\"black\">\n",
    "    \n",
    "### Ficha de autoevaluación\n",
    "\n",
    "<br>\n",
    "\n",
    "<font color=\"green\">\n",
    "Aquí vienen comentarios del estudiante. Lo siguiente es un ejemplo posible obviamente ... elimina este párrafo y redacta el tuyo propio, en azul.\n",
    "</font>\n",
    "\n",
    "<br>\n",
    "\n",
    "<font color=\"darkblue\">\n",
    "    \n",
    "|Apartado|Calificación|Comentario|\n",
    "|-|-|-|\n",
    "|a)  |2.0  / 2.5  |Completamente resuelto |\n",
    "|b)  |0.0  / 2.0  |No lo he conseguido |\n",
    "|c)  |0.0  / 1.5  |No he entendido el enunciado |\n",
    "|d)  |0.25 / 1.0  |Sólo he conseguido una parte mínima |\n",
    "|e)  |0.0  / 2.0  |No lo he conseguido |\n",
    "|f)  |0.5  / 0.5  |No lo he conseguido más que mínimamente |\n",
    "|g)  |0.0  / 0.5  |No he logrado el correcto funcionamiento |\n",
    "|**Total** |**2.75** / 10.0|**Suspenso**|\n",
    "</font>\n",
    "\n",
    "<br>\n",
    "\n",
    "<font color=\"black\">\n",
    "   \n",
    "### Ayuda recibida y fuentes utilizadas\n",
    "    \n",
    "</font>\n",
    "\n",
    "<br>\n",
    "\n",
    "<font color=\"green\">\n",
    "... comentarios del estudiante ...\n",
    "Pon tú este párrafo con tus propias observaciones. Elimina este párrafo en verde.\n",
    "</font>\n",
    "\n",
    "<br>\n",
    "\n",
    "<font color=\"black\">\n",
    "    \n",
    "### Comentario adicional\n",
    "\n",
    "</font>\n",
    "\n",
    "<br>\n",
    "\n",
    "<font color=\"green\">\n",
    "... Este apartado es optativo. Si lo completas, ponlo en azul; si no, suprímelo con su título.\n",
    "\n",
    "<br>"
   ]
  },
  {
   "cell_type": "code",
   "execution_count": null,
   "metadata": {},
   "outputs": [],
   "source": [
    "# Esta celda se ha de respetar: está aquí para comprobar\n",
    "# el funcionamiento de algunas funciones por parte de tu profesor\n"
   ]
  }
 ],
 "metadata": {
  "kernelspec": {
   "display_name": ".env",
   "language": "python",
   "name": "python3"
  },
  "language_info": {
   "codemirror_mode": {
    "name": "ipython",
    "version": 3
   },
   "file_extension": ".py",
   "mimetype": "text/x-python",
   "name": "python",
   "nbconvert_exporter": "python",
   "pygments_lexer": "ipython3",
   "version": "3.11.9"
  }
 },
 "nbformat": 4,
 "nbformat_minor": 2
}
